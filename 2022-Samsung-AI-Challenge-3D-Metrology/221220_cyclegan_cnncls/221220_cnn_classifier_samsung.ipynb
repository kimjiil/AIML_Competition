{
 "cells": [
  {
   "cell_type": "code",
   "execution_count": 1,
   "id": "9b77ad3a",
   "metadata": {},
   "outputs": [
    {
     "name": "stderr",
     "output_type": "stream",
     "text": [
      "Failed to detect the name of this notebook, you can set it manually with the WANDB_NOTEBOOK_NAME environment variable to enable code saving.\n",
      "\u001b[34m\u001b[1mwandb\u001b[0m: Currently logged in as: \u001b[33mkimjiil2013\u001b[0m. Use \u001b[1m`wandb login --relogin`\u001b[0m to force relogin\n",
      "\u001b[34m\u001b[1mwandb\u001b[0m: \u001b[33mWARNING\u001b[0m If you're specifying your api key in code, ensure this code is not shared publicly.\n",
      "\u001b[34m\u001b[1mwandb\u001b[0m: \u001b[33mWARNING\u001b[0m Consider setting the WANDB_API_KEY environment variable, or running `wandb login` from the command line.\n",
      "\u001b[34m\u001b[1mwandb\u001b[0m: Appending key for api.wandb.ai to your netrc file: /home/kji/.netrc\n"
     ]
    },
    {
     "data": {
      "text/html": [
       "wandb version 0.13.7 is available!  To upgrade, please run:\n",
       " $ pip install wandb --upgrade"
      ],
      "text/plain": [
       "<IPython.core.display.HTML object>"
      ]
     },
     "metadata": {},
     "output_type": "display_data"
    },
    {
     "data": {
      "text/html": [
       "Tracking run with wandb version 0.13.6"
      ],
      "text/plain": [
       "<IPython.core.display.HTML object>"
      ]
     },
     "metadata": {},
     "output_type": "display_data"
    },
    {
     "data": {
      "text/html": [
       "Run data is saved locally in <code>/home/kji/workspace/jupyter_kji/wandb/run-20221220_151312-1sn5oje3</code>"
      ],
      "text/plain": [
       "<IPython.core.display.HTML object>"
      ]
     },
     "metadata": {},
     "output_type": "display_data"
    },
    {
     "data": {
      "text/html": [
       "Syncing run <strong><a href=\"https://wandb.ai/kimjiil2013/Samsung%20sem%20CycleGan/runs/1sn5oje3\" target=\"_blank\">vivid-microwave-3</a></strong> to <a href=\"https://wandb.ai/kimjiil2013/Samsung%20sem%20CycleGan\" target=\"_blank\">Weights & Biases</a> (<a href=\"https://wandb.me/run\" target=\"_blank\">docs</a>)<br/>"
      ],
      "text/plain": [
       "<IPython.core.display.HTML object>"
      ]
     },
     "metadata": {},
     "output_type": "display_data"
    },
    {
     "data": {
      "text/html": [
       "<button onClick=\"this.nextSibling.style.display='block';this.style.display='none';\">Display W&B run</button><iframe src=\"https://wandb.ai/kimjiil2013/Samsung%20sem%20CycleGan/runs/1sn5oje3?jupyter=true\" style=\"border:none;width:100%;height:420px;display:none;\"></iframe>"
      ],
      "text/plain": [
       "<wandb.sdk.wandb_run.Run at 0x7f089a8b7940>"
      ]
     },
     "execution_count": 1,
     "metadata": {},
     "output_type": "execute_result"
    }
   ],
   "source": [
    "import torch\n",
    "import torch.nn as nn\n",
    "import numpy as np\n",
    "from torch.utils.data import DataLoader, Dataset\n",
    "import torchvision.transforms as transforms\n",
    "import itertools\n",
    "import cv2, PIL\n",
    "import os, glob\n",
    "import csv, platform\n",
    "import torchvision\n",
    "\n",
    "current_os = platform.system()\n",
    "if current_os == \"Linux\":\n",
    "    cfg = {\n",
    "        'device': \"cuda:5\",\n",
    "        \"db_path\": '/home/kji/workspace/jupyter_kji/samsumg_sem_dataset',\n",
    "        'epochs': 100,\n",
    "        'batch_size': 128,\n",
    "        'lr': 0.0002,\n",
    "        'num_workers': 4,\n",
    "        'n_fold': 5\n",
    "    }\n",
    "elif current_os == \"Windows\":\n",
    "    cfg = {\n",
    "        'device': \"cuda:0\",\n",
    "        \"db_path\": 'D:/git_repos/samsung_sem',\n",
    "        'epochs': 100,\n",
    "        'batch_size': 4,\n",
    "        'lr': 0.0002,\n",
    "        'num_workers': 0,\n",
    "        'n_fold': 5\n",
    "    }\n",
    "\n",
    "import wandb\n",
    "\n",
    "wandb.login(key='0322000365224d30ef0694f60237c68767290052')\n",
    "wandb.init(project=\"Samsung sem CycleGan\", entity=\"kimjiil2013\")\n"
   ]
  },
  {
   "cell_type": "markdown",
   "id": "3f57f444",
   "metadata": {},
   "source": [
    "# CNN Classifier Model"
   ]
  },
  {
   "cell_type": "code",
   "execution_count": 2,
   "id": "26642077",
   "metadata": {},
   "outputs": [],
   "source": [
    "class CNN_classifier(nn.Module):\n",
    "    def __init__(self):\n",
    "        super(CNN_classifier, self).__init__()\n",
    "        mobv3s = torchvision.models.mobilenet_v3_small(pretrained=True)\n",
    "        feature = [nn.Sequential(nn.Conv2d(1, 16, kernel_size=(3, 3), stride=(2,2), padding=(1,1), bias=False),\n",
    "                   nn.BatchNorm2d(16, eps=0.001, momentum=0.01, affine=True, track_running_stats=True),\n",
    "                   nn.Hardswish())]\n",
    "        feature.extend([mobv3s.features._modules[module_key] for i, module_key in enumerate(mobv3s.features._modules.keys()) if i > 0])\n",
    "\n",
    "        self.feature = nn.Sequential(*feature)\n",
    "        self.avgpool = mobv3s.avgpool\n",
    "        self.classifier = nn.Sequential(\n",
    "            nn.Linear(in_features=576, out_features=128, bias=True),\n",
    "            nn.Hardswish(),\n",
    "            nn.Dropout(p=0.2, inplace=True),\n",
    "            nn.Linear(in_features=128, out_features=4, bias=True)\n",
    "        )\n",
    "\n",
    "    def forward(self, x):\n",
    "        x = self.feature(x)\n",
    "        x = self.avgpool(x)\n",
    "        x = torch.flatten(x, 1)\n",
    "        x = self.classifier(x)\n",
    "        return x"
   ]
  },
  {
   "cell_type": "markdown",
   "id": "3955d6e3",
   "metadata": {},
   "source": [
    "# Dataset & DataLoader"
   ]
  },
  {
   "cell_type": "code",
   "execution_count": 3,
   "id": "1ba4a0e6",
   "metadata": {},
   "outputs": [],
   "source": [
    "def get_img_list(abs_path):\n",
    "    # abs_path = '/home/kji/workspace/jupyter_kji/samsumg_sem_dataset'\n",
    "\n",
    "    # Dataset path\n",
    "    sim_depth_path = os.path.join(abs_path, 'simulation_data/Depth')\n",
    "    sim_sem_path = os.path.join(abs_path, 'simulation_data/SEM')\n",
    "\n",
    "    train_path = os.path.join(abs_path, 'train')\n",
    "\n",
    "    # only Test\n",
    "    test_path = os.path.join(abs_path, 'test/SEM')\n",
    "\n",
    "    sim_depth_img_path_dic = dict()\n",
    "    for case in os.listdir(sim_depth_path):\n",
    "        if not case in sim_depth_img_path_dic:\n",
    "            sim_depth_img_path_dic[case] = []\n",
    "        for folder in os.listdir(os.path.join(sim_depth_path, case)):\n",
    "            img_list = glob.glob(os.path.join(sim_depth_path, case, folder, '*.png'))\n",
    "            for img in img_list:\n",
    "                sim_depth_img_path_dic[case].append(img)\n",
    "                sim_depth_img_path_dic[case].append(img)\n",
    "\n",
    "    sim_sem_img_path_dic = dict()\n",
    "    for case in os.listdir(sim_sem_path):\n",
    "        if not case in sim_sem_img_path_dic:\n",
    "            sim_sem_img_path_dic[case] = []\n",
    "        for folder in os.listdir(os.path.join(sim_sem_path, case)):\n",
    "            img_list = glob.glob(os.path.join(sim_sem_path, case, folder, '*.png'))\n",
    "            sim_sem_img_path_dic[case].extend(img_list)\n",
    "\n",
    "    train_avg_depth = dict()\n",
    "    with open(os.path.join(train_path, \"average_depth.csv\"), 'r') as csvfile:\n",
    "        temp = csv.reader(csvfile)\n",
    "        for idx, line in enumerate(temp):\n",
    "            if idx > 0:\n",
    "                depth_key, site_key = line[0].split('_site')\n",
    "                depth_key = depth_key.replace(\"d\", \"D\")\n",
    "                site_key = \"site\" + site_key\n",
    "                if not depth_key in train_avg_depth:\n",
    "                    train_avg_depth[depth_key] = dict()\n",
    "\n",
    "                train_avg_depth[depth_key][site_key] = float(line[1])\n",
    "\n",
    "    train_img_path_dic = dict()\n",
    "    for depth in os.listdir(os.path.join(train_path, \"SEM\")):\n",
    "        if not depth in train_img_path_dic:\n",
    "            train_img_path_dic[depth] = []\n",
    "        for site in os.listdir(os.path.join(train_path, \"SEM\", depth)):\n",
    "            img_list = glob.glob(os.path.join(train_path, \"SEM\", depth, site, \"*.png\"))\n",
    "            train_img_path_dic[depth].extend([[temp_img, train_avg_depth[depth][site]] for temp_img in img_list])\n",
    "\n",
    "    test_img_path_list = glob.glob(os.path.join(test_path, \"*.png\"))\n",
    "\n",
    "    result_dic = dict()\n",
    "    result_dic['sim'] = dict()\n",
    "    result_dic['sim']['sem'] = sim_sem_img_path_dic\n",
    "    result_dic['sim']['depth'] = sim_depth_img_path_dic\n",
    "    result_dic['train'] = train_img_path_dic\n",
    "    result_dic['test'] = np.array(test_img_path_list)\n",
    "    result_dic['train_avg_depth'] = train_avg_depth\n",
    "\n",
    "    return result_dic\n",
    "\n",
    "result_dic = get_img_list(cfg['db_path'])\n",
    "\n",
    "def split_dataset(data_dic, t_ratio):\n",
    "    temp_dic = dict()\n",
    "    for key in data_dic:\n",
    "        temp_dic[key] = data_dic[key][:int(t_ratio*len(data_dic[key]))]\n",
    "        data_dic[key] = data_dic[key][int(t_ratio*len(data_dic[key])):]\n",
    "\n",
    "    return temp_dic, data_dic\n",
    "\n",
    "train_dic, valid_dic = split_dataset(result_dic['train'], 0.8)\n",
    "\n",
    "class cls_dataset(Dataset):\n",
    "    def __init__(self, data_dic, transforms=None):\n",
    "        super(cls_dataset, self).__init__()\n",
    "        self.trasforms = transforms\n",
    "\n",
    "        self._data = [[l[0], int(key.split('_')[-1]) % 100 / 10 - 1] for key in data_dic for l in data_dic[key]]\n",
    "\n",
    "    def __getitem__(self, idx):\n",
    "        img_path, label = self._data[idx]\n",
    "        img = PIL.Image.open(img_path).convert(\"L\")\n",
    "\n",
    "        if self.trasforms:\n",
    "            img = self.trasforms(img)\n",
    "\n",
    "        img = np.array(img).astype(np.float32) / 255.\n",
    "        if len(img.shape) == 2:\n",
    "            img = img.reshape(1, *img.shape)\n",
    "\n",
    "        return img, int(label)\n",
    "\n",
    "    def __len__(self):\n",
    "        return len(self._data)\n",
    "\n",
    "\n",
    "horizon_transform = transforms.RandomHorizontalFlip(1.0)\n",
    "rotate_transform = transforms.RandomRotation((180, 180))\n",
    "vertical_transform = transforms.RandomVerticalFlip(1.0)\n",
    "\n",
    "original_train_dataset = cls_dataset(train_dic)\n",
    "original_valid_dataset = cls_dataset(valid_dic)\n",
    "\n",
    "horizon_train_dataset = cls_dataset(train_dic, horizon_transform)\n",
    "horizon_valid_dataset = cls_dataset(valid_dic, horizon_transform)\n",
    "\n",
    "rotate_train_dataset = cls_dataset(train_dic, rotate_transform)\n",
    "rotate_valid_dataset = cls_dataset(valid_dic, rotate_transform)\n",
    "\n",
    "vertical_train_dataset = cls_dataset(train_dic, vertical_transform)\n",
    "vertical_valid_dataset = cls_dataset(valid_dic, vertical_transform)\n",
    "\n",
    "train_dataset = original_train_dataset + horizon_train_dataset + rotate_train_dataset + vertical_train_dataset\n",
    "valid_dataset = original_valid_dataset + horizon_valid_dataset + rotate_valid_dataset + vertical_valid_dataset\n",
    "\n",
    "train_dataloader = DataLoader(train_dataset, batch_size=cfg['batch_size'], num_workers=cfg['num_workers'], shuffle=True)\n",
    "valid_dataloader = DataLoader(valid_dataset, batch_size=cfg['batch_size'], num_workers=cfg['num_workers'], shuffle=False)\n"
   ]
  },
  {
   "cell_type": "markdown",
   "id": "8d2aea38",
   "metadata": {},
   "source": [
    "# Training"
   ]
  },
  {
   "cell_type": "code",
   "execution_count": 4,
   "id": "c1193be1",
   "metadata": {},
   "outputs": [],
   "source": [
    "from tqdm.auto import tqdm\n",
    "\n",
    "def valid(model, valid_dataloader, device):\n",
    "    model.eval()\n",
    "\n",
    "    correct = 0\n",
    "    total = 0\n",
    "    with torch.no_grad():\n",
    "        for step_i, (img, label) in enumerate(valid_dataloader):\n",
    "            img = img.to(device, non_blocking=True)\n",
    "            label = label.to(device, non_blocking=True)\n",
    "\n",
    "            pred = model(img)\n",
    "            pred_label = torch.argmax(pred, dim=1)\n",
    "            correct += torch.sum(label == pred_label).item()\n",
    "            total += label.shape[0]\n",
    "\n",
    "    return correct / total\n",
    "\n",
    "def Trainer(model, train_dataloader, valid_dataloader, device, epochs, checkpoint_path=None):\n",
    "    best_epoch = 0\n",
    "    best_accuracy = 0.0\n",
    "    best_loss = 0\n",
    "    if checkpoint_path:\n",
    "        model = torch.load(checkpoint_path, map_location=device)\n",
    "\n",
    "    loss_f = nn.CrossEntropyLoss().to(device)\n",
    "    optimizer = torch.optim.Adam(model.parameters(), lr=cfg['lr'])\n",
    "    schedular = torch.optim.lr_scheduler.LambdaLR(optimizer, lr_lambda=lambda epoch: 0.95 ** epoch)\n",
    "\n",
    "    model.to(device)\n",
    "    model.train()\n",
    "\n",
    "    for epoch in range(epochs):\n",
    "        epoch_loss = []\n",
    "        for step_i, (img, label) in enumerate(train_dataloader):\n",
    "            img = img.to(device, non_blocking=True)\n",
    "            label = label.to(device, non_blocking=True)\n",
    "\n",
    "            optimizer.zero_grad()\n",
    "            pred = model(img)\n",
    "            loss = loss_f(pred, label)\n",
    "            loss.backward()\n",
    "            optimizer.step()\n",
    "            epoch_loss.append(loss.item())\n",
    "\n",
    "            wandb.log({\n",
    "                'step_loss': loss.item()\n",
    "            })\n",
    "\n",
    "        schedular.step()\n",
    "        valid_acc = valid(model, valid_dataloader, device)\n",
    "\n",
    "        wandb.log({\n",
    "            'epoch_loss': np.mean(epoch_loss),\n",
    "            'valid_acc': valid_acc\n",
    "        })\n",
    "\n",
    "        if valid_acc > best_accuracy:\n",
    "            torch.save(model, './best_cnn_classifer.pth')\n",
    "            best_accuracy = valid_acc\n",
    "            best_loss = np.mean(epoch_loss)\n",
    "            best_epoch = epoch\n",
    "        print(f'epoch {epoch} / loss {np.mean(epoch_loss)} / acc {valid_acc}')\n",
    "    print(f\"bt epoch {best_epoch} / loss {best_loss} / best {best_accuracy}%\")"
   ]
  },
  {
   "cell_type": "code",
   "execution_count": 5,
   "id": "a223886f",
   "metadata": {},
   "outputs": [
    {
     "name": "stdout",
     "output_type": "stream",
     "text": [
      "epoch 0 / loss 0.2262945936117309 / acc 0.9610868490441661\n",
      "epoch 1 / loss 0.17794438419850075 / acc 0.9281888595912986\n",
      "epoch 2 / loss 0.08551816175026904 / acc 0.9779169413315755\n",
      "epoch 3 / loss 0.06943429692082927 / acc 0.9809039222148979\n",
      "epoch 4 / loss 0.06039323203938528 / acc 0.9823871127224786\n",
      "epoch 5 / loss 0.05287508733924196 / acc 0.9849826961107448\n",
      "epoch 6 / loss 0.04611397904705197 / acc 0.9850444957152275\n",
      "epoch 7 / loss 0.042480059801699104 / acc 0.9864246868820039\n",
      "epoch 8 / loss 0.036813807926381996 / acc 0.9839321028345419\n",
      "epoch 9 / loss 0.03445414185103295 / acc 0.9838291034937376\n",
      "epoch 10 / loss 0.030709926798404362 / acc 0.9872280817402769\n",
      "epoch 11 / loss 0.027167752481180186 / acc 0.9880108767303889\n",
      "epoch 12 / loss 0.02545395793992444 / acc 0.9897412656558998\n",
      "epoch 13 / loss 0.022371906324085762 / acc 0.9900502636783125\n",
      "epoch 14 / loss 0.020178231128891125 / acc 0.9895558668424522\n",
      "epoch 15 / loss 0.019027531638794597 / acc 0.9909566578773896\n",
      "epoch 16 / loss 0.017259255725730088 / acc 0.9907300593276203\n",
      "epoch 17 / loss 0.014050499214242642 / acc 0.9906682597231378\n",
      "epoch 18 / loss 0.014415016259144575 / acc 0.9902974620962426\n",
      "epoch 19 / loss 0.01160701734971807 / acc 0.990894858272907\n",
      "epoch 20 / loss 0.0110980327235348 / acc 0.9888554713249835\n",
      "epoch 21 / loss 0.009795727866318405 / acc 0.9910184574818721\n",
      "epoch 22 / loss 0.008680883064294032 / acc 0.9907506591957811\n",
      "epoch 23 / loss 0.008464285535679046 / acc 0.991306855636124\n",
      "epoch 24 / loss 0.0063377957539751725 / acc 0.991821852340145\n",
      "epoch 25 / loss 0.006304823334988405 / acc 0.9914098549769281\n",
      "epoch 26 / loss 0.005854733910400479 / acc 0.9912038562953197\n",
      "epoch 27 / loss 0.0046670409040863595 / acc 0.9872486816084377\n",
      "epoch 28 / loss 0.004102476635491881 / acc 0.9917600527356625\n",
      "epoch 29 / loss 0.0035521676473714765 / acc 0.9913686552406065\n",
      "epoch 30 / loss 0.00319236603412225 / acc 0.9899678642056691\n",
      "epoch 31 / loss 0.003271080687840027 / acc 0.9910802570863546\n",
      "epoch 32 / loss 0.0022338873358399144 / acc 0.9913480553724456\n",
      "epoch 33 / loss 0.0027307067808830594 / acc 0.9912244561634805\n",
      "epoch 34 / loss 0.0022359811198364283 / acc 0.9916158536585366\n",
      "epoch 35 / loss 0.0010690132877157576 / acc 0.9921102504943968\n",
      "epoch 36 / loss 0.002575514937606147 / acc 0.9915952537903757\n",
      "epoch 37 / loss 0.0013410642567250712 / acc 0.9900296638101516\n",
      "epoch 38 / loss 0.0017046434888631052 / acc 0.9921308503625577\n",
      "epoch 39 / loss 0.00024082310721827563 / acc 0.9927900461437047\n",
      "epoch 40 / loss 0.0016935099077308201 / acc 0.9925222478576137\n",
      "epoch 41 / loss 0.0006605003586798354 / acc 0.9861980883322347\n",
      "epoch 42 / loss 0.0010224245597473408 / acc 0.9926870468029004\n",
      "epoch 43 / loss 0.00037414227147054656 / acc 0.9925222478576137\n",
      "epoch 44 / loss 0.0013770317698602497 / acc 0.9926252471984179\n",
      "epoch 45 / loss 5.190136475013198e-05 / acc 0.9930372445616348\n",
      "epoch 46 / loss 1.672622815478348e-05 / acc 0.9929960448253131\n",
      "epoch 47 / loss 8.408588723707003e-06 / acc 0.9929960448253131\n",
      "epoch 48 / loss 3.949315817146602e-06 / acc 0.993016644693474\n",
      "epoch 49 / loss 1.886142910509269e-06 / acc 0.9928518457481872\n",
      "epoch 50 / loss 8.631703147274191e-07 / acc 0.9929342452208306\n",
      "epoch 51 / loss 3.8089195880338277e-07 / acc 0.9928930454845089\n",
      "epoch 52 / loss 1.7984204276074819e-07 / acc 0.9929342452208306\n",
      "epoch 53 / loss 8.239456204576545e-08 / acc 0.9929342452208306\n",
      "epoch 54 / loss 4.21121057515062e-08 / acc 0.992872445616348\n",
      "epoch 55 / loss 1.851646897397782e-08 / acc 0.9929548450889915\n",
      "epoch 56 / loss 9.17936797744161e-09 / acc 0.9929754449571523\n",
      "epoch 57 / loss 5.210362053038011e-09 / acc 0.9930372445616348\n",
      "epoch 58 / loss 0.0004990595171293893 / acc 0.9927900461437047\n",
      "epoch 59 / loss 0.00048132187333326274 / acc 0.9926664469347396\n",
      "epoch 60 / loss 4.531220918770051e-06 / acc 0.9929342452208306\n",
      "epoch 61 / loss 6.762725324049165e-07 / acc 0.9929548450889915\n",
      "epoch 62 / loss 4.0177603904487784e-07 / acc 0.9929136453526698\n",
      "epoch 63 / loss 2.797331681812718e-07 / acc 0.9929548450889915\n",
      "epoch 64 / loss 1.8838825847099634e-07 / acc 0.993016644693474\n",
      "epoch 65 / loss 1.2739638090113764e-07 / acc 0.9930784442979564\n",
      "epoch 66 / loss 8.063414264897085e-08 / acc 0.9930784442979564\n",
      "epoch 67 / loss 5.187747126509484e-08 / acc 0.993140243902439\n",
      "epoch 68 / loss 3.196462698173418e-08 / acc 0.9930372445616348\n",
      "epoch 69 / loss 1.9626335680610214e-08 / acc 0.9930784442979564\n",
      "epoch 70 / loss 1.149259122501603e-08 / acc 0.9930990441661174\n",
      "epoch 71 / loss 6.872863459226772e-09 / acc 0.9930372445616348\n",
      "epoch 72 / loss 4.4675181472991975e-09 / acc 0.9930784442979564\n",
      "epoch 73 / loss 2.7761615556753616e-09 / acc 0.9931608437705999\n",
      "epoch 74 / loss 1.7539797716485652e-09 / acc 0.9930990441661174\n",
      "epoch 75 / loss 1.1983790803244721e-09 / acc 0.993016644693474\n",
      "epoch 76 / loss 8.613350392189834e-10 / acc 0.993140243902439\n",
      "epoch 77 / loss 6.740882782381608e-10 / acc 0.9929342452208306\n",
      "epoch 78 / loss 5.384111747593806e-10 / acc 0.9929754449571523\n",
      "epoch 79 / loss 1.3800967854427615e-09 / acc 0.993016644693474\n",
      "epoch 80 / loss 5.107845174070572e-10 / acc 0.9928518457481872\n",
      "epoch 81 / loss 2.873163554286418e-10 / acc 0.9928518457481872\n",
      "epoch 82 / loss 2.2899359578407165e-10 / acc 0.992872445616348\n",
      "epoch 83 / loss 2.099619582422507e-10 / acc 0.9929548450889915\n",
      "epoch 84 / loss 2.1118980463928172e-10 / acc 0.9929342452208306\n",
      "epoch 85 / loss 1.6760121471290557e-10 / acc 0.9928930454845089\n",
      "epoch 86 / loss 1.5102527000173935e-10 / acc 0.9928312458800264\n",
      "epoch 87 / loss 1.3506325099568974e-10 / acc 0.9930578444297956\n",
      "epoch 88 / loss 1.2769616430695692e-10 / acc 0.993016644693474\n",
      "epoch 89 / loss 1.0927844870120274e-10 / acc 0.993016644693474\n",
      "epoch 90 / loss 1.1418983955867803e-10 / acc 0.9929548450889915\n",
      "epoch 91 / loss 9.331642841440806e-11 / acc 0.9929342452208306\n",
      "epoch 92 / loss 9.638604797477549e-11 / acc 0.9929136453526698\n",
      "epoch 93 / loss 8.53354181429362e-11 / acc 0.9930578444297956\n",
      "epoch 94 / loss 8.042402732205363e-11 / acc 0.9928930454845089\n",
      "epoch 95 / loss 7.4898712406134e-11 / acc 0.9930578444297956\n",
      "epoch 96 / loss 7.244301694080363e-11 / acc 0.9930372445616348\n",
      "epoch 97 / loss 6.323415877199937e-11 / acc 0.9929548450889915\n",
      "epoch 98 / loss 7.060124546073219e-11 / acc 0.993016644693474\n",
      "epoch 99 / loss 5.89366916802267e-11 / acc 0.9929548450889915\n",
      "bt epoch 73 / loss 2.7761615556753616e-09 / best 0.9931608437705999%\n"
     ]
    }
   ],
   "source": [
    "model = CNN_classifier()\n",
    "Trainer(model, train_dataloader, valid_dataloader, cfg['device'], cfg['epochs'])"
   ]
  },
  {
   "cell_type": "code",
   "execution_count": 6,
   "id": "f1ccfd84",
   "metadata": {},
   "outputs": [
    {
     "data": {
      "text/html": [
       "Waiting for W&B process to finish... <strong style=\"color:green\">(success).</strong>"
      ],
      "text/plain": [
       "<IPython.core.display.HTML object>"
      ]
     },
     "metadata": {},
     "output_type": "display_data"
    },
    {
     "data": {
      "application/vnd.jupyter.widget-view+json": {
       "model_id": "4f66b3345ab94c3d9ba1fe6479eb2a6a",
       "version_major": 2,
       "version_minor": 0
      },
      "text/plain": [
       "VBox(children=(Label(value='0.008 MB of 0.023 MB uploaded (0.000 MB deduped)\\r'), FloatProgress(value=0.346614…"
      ]
     },
     "metadata": {},
     "output_type": "display_data"
    },
    {
     "data": {
      "text/html": [
       "<style>\n",
       "    table.wandb td:nth-child(1) { padding: 0 10px; text-align: left ; width: auto;} td:nth-child(2) {text-align: left ; width: 100%}\n",
       "    .wandb-row { display: flex; flex-direction: row; flex-wrap: wrap; justify-content: flex-start; width: 100% }\n",
       "    .wandb-col { display: flex; flex-direction: column; flex-basis: 100%; flex: 1; padding: 10px; }\n",
       "    </style>\n",
       "<div class=\"wandb-row\"><div class=\"wandb-col\"><h3>Run history:</h3><br/><table class=\"wandb\"><tr><td>epoch_loss</td><td>█▄▃▂▂▂▂▁▁▁▁▁▁▁▁▁▁▁▁▁▁▁▁▁▁▁▁▁▁▁▁▁▁▁▁▁▁▁▁▁</td></tr><tr><td>step_loss</td><td>█▅▃▅▅▁▁▂▁▂▁▁▁▁▁▁▁▁▁▁▁▁▁▁▁▁▁▁▁▁▁▁▁▁▁▁▁▁▁▁</td></tr><tr><td>valid_acc</td><td>▁▅▆▇▇▇█▇▇▇█▇▇███████████████████████████</td></tr></table><br/></div><div class=\"wandb-col\"><h3>Run summary:</h3><br/><table class=\"wandb\"><tr><td>epoch_loss</td><td>0.0</td></tr><tr><td>step_loss</td><td>0.0</td></tr><tr><td>valid_acc</td><td>0.99295</td></tr></table><br/></div></div>"
      ],
      "text/plain": [
       "<IPython.core.display.HTML object>"
      ]
     },
     "metadata": {},
     "output_type": "display_data"
    },
    {
     "data": {
      "text/html": [
       "Synced <strong style=\"color:#cdcd00\">vivid-microwave-3</strong>: <a href=\"https://wandb.ai/kimjiil2013/Samsung%20sem%20CycleGan/runs/1sn5oje3\" target=\"_blank\">https://wandb.ai/kimjiil2013/Samsung%20sem%20CycleGan/runs/1sn5oje3</a><br/>Synced 6 W&B file(s), 0 media file(s), 0 artifact file(s) and 0 other file(s)"
      ],
      "text/plain": [
       "<IPython.core.display.HTML object>"
      ]
     },
     "metadata": {},
     "output_type": "display_data"
    },
    {
     "data": {
      "text/html": [
       "Find logs at: <code>./wandb/run-20221220_151312-1sn5oje3/logs</code>"
      ],
      "text/plain": [
       "<IPython.core.display.HTML object>"
      ]
     },
     "metadata": {},
     "output_type": "display_data"
    }
   ],
   "source": [
    "wandb.finish()"
   ]
  },
  {
   "cell_type": "code",
   "execution_count": null,
   "id": "7f2a84cf",
   "metadata": {},
   "outputs": [],
   "source": []
  }
 ],
 "metadata": {
  "kernelspec": {
   "display_name": "Python 3 (ipykernel)",
   "language": "python",
   "name": "python3"
  },
  "language_info": {
   "codemirror_mode": {
    "name": "ipython",
    "version": 3
   },
   "file_extension": ".py",
   "mimetype": "text/x-python",
   "name": "python",
   "nbconvert_exporter": "python",
   "pygments_lexer": "ipython3",
   "version": "3.9.5"
  }
 },
 "nbformat": 4,
 "nbformat_minor": 5
}
