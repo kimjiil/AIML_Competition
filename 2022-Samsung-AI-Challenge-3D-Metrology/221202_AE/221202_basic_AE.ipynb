{
    "cells": [
        {
            "cell_type": "code",
            "execution_count": 114,
            "id": "367bbf05",
            "metadata": {},
            "outputs": [],
            "source": [
                "import albumentations\n",
                "import os, glob\n",
                "import cv2\n",
                "import numpy as np\n",
                "import operator\n",
                "import csv\n",
                "import PIL \n",
                "np.random.seed(1)\n",
                "\n",
                "config_dic = {\n",
                "    'epoch': 1000,\n",
                "    'n_fold': 5,\n",
                "    'batch_size': 128,\n",
                "    'num_workers': 3,\n",
                "    'device': \"cuda:5\",\n",
                "    'lr': 0.001\n",
                "}\n",
                "\n",
                "import warnings\n",
                "warnings.filterwarnings(action='ignore')"
            ]
        },
        {
            "cell_type": "code",
            "execution_count": 2,
            "id": "37d4fda7",
            "metadata": {},
            "outputs": [],
            "source": [
                "def get_img_list():\n",
                "    abs_path = '/home/kji/workspace/jupyter_kji/samsumg_sem_dataset'\n",
                "    \n",
                "    # Dataset path\n",
                "    sim_depth_path = os.path.join(abs_path, 'simulation_data/Depth')\n",
                "    sim_sem_path = os.path.join(abs_path, 'simulation_data/SEM')\n",
                "    \n",
                "    train_path = os.path.join(abs_path, 'train')\n",
                "    \n",
                "    # only Test\n",
                "    test_path = os.path.join(abs_path, 'test/SEM')\n",
                "    \n",
                "    sim_depth_img_path_dic = dict()\n",
                "    for case in os.listdir(sim_depth_path):\n",
                "        if not case in sim_depth_img_path_dic:\n",
                "            sim_depth_img_path_dic[case] = []\n",
                "        for folder in os.listdir(os.path.join(sim_depth_path, case)):\n",
                "            img_list = glob.glob(os.path.join(sim_depth_path, case, folder, '*.png'))\n",
                "            for img in img_list:\n",
                "                sim_depth_img_path_dic[case].append(img)\n",
                "                sim_depth_img_path_dic[case].append(img)\n",
                "\n",
                "    sim_sem_img_path_dic = dict()\n",
                "    for case in os.listdir(sim_sem_path):\n",
                "        if not case in sim_sem_img_path_dic:\n",
                "            sim_sem_img_path_dic[case] = []\n",
                "        for folder in os.listdir(os.path.join(sim_sem_path, case)):\n",
                "            img_list = glob.glob(os.path.join(sim_sem_path, case, folder, '*.png'))\n",
                "            sim_sem_img_path_dic[case].extend(img_list)\n",
                "    \n",
                "    train_avg_depth = dict()\n",
                "    with open(os.path.join(train_path, \"average_depth.csv\"), 'r') as csvfile:\n",
                "        temp = csv.reader(csvfile)\n",
                "        for idx, line in enumerate(temp):\n",
                "            if idx > 0:\n",
                "                depth_key, site_key = line[0].split('_site')\n",
                "                depth_key = depth_key.replace(\"d\", \"D\")\n",
                "                site_key = \"site\" + site_key\n",
                "                if not depth_key in train_avg_depth:\n",
                "                    train_avg_depth[depth_key] = dict()\n",
                "\n",
                "                train_avg_depth[depth_key][site_key] = float(line[1])\n",
                "    \n",
                "    train_img_path_dic = dict()\n",
                "    for depth in os.listdir(os.path.join(train_path, \"SEM\")):\n",
                "        if not depth in train_img_path_dic:\n",
                "            train_img_path_dic[depth] = []\n",
                "        for site in os.listdir(os.path.join(train_path, \"SEM\", depth)):\n",
                "            img_list = glob.glob(os.path.join(train_path, \"SEM\", depth, site, \"*.png\"))\n",
                "            train_img_path_dic[depth].extend([[temp_img, train_avg_depth[depth][site]]for temp_img in img_list])\n",
                "    \n",
                "    test_img_path_list = glob.glob(os.path.join(test_path, \"*.png\"))\n",
                "    \n",
                "    result_dic = dict()\n",
                "    result_dic['sim'] = dict()\n",
                "    result_dic['sim']['sem'] = sim_sem_img_path_dic\n",
                "    result_dic['sim']['depth'] = sim_depth_img_path_dic\n",
                "    result_dic['train'] = train_img_path_dic\n",
                "    result_dic['test'] = np.array(test_img_path_list)\n",
                "    result_dic['train_avg_depth'] = train_avg_depth\n",
                "    \n",
                "    return result_dic\n",
                "\n",
                "result_dic = get_img_list()"
            ]
        },
        {
            "cell_type": "code",
            "execution_count": 3,
            "id": "084c3d38",
            "metadata": {},
            "outputs": [],
            "source": [
                "## create k-fold\n",
                "def K_fold(k, result_dic):\n",
                "    # case1 case2 case3 case4\n",
                "    # sim_sem(173,304) _itr0,1 <-> sem_depth(86,652) * 2\n",
                "    def ret_chunk(path_dic):\n",
                "        case_len_list = list(map(len, [path_dic[case] for case in path_dic])) # [43326, 43326, 43326, 43326] => [ [(0,11111) (11111,22222) (22222,33333) (33333,None)]\n",
                "        def ret_slice_indices(k, size):\n",
                "            chunk_size = int(size / k)\n",
                "            _list = []\n",
                "            for i in range(k):\n",
                "                if i == k-1:\n",
                "                    _list.append(slice(i * chunk_size, None))\n",
                "                else:\n",
                "                    _list.append(slice(i * chunk_size, (i + 1) * chunk_size))\n",
                "            return _list\n",
                "\n",
                "        case_list = [path_dic[case] for case in path_dic]\n",
                "        slice_indice = list(map(ret_slice_indices, [k]*k, case_len_list))\n",
                "        chunk_list = [[c[s] for s in slice_list] for c, slice_list in zip(case_list, slice_indice)]\n",
                "\n",
                "        merge_chunk = [[] for i in range(k)]\n",
                "        for c in chunk_list:\n",
                "            for i, chunk in enumerate(c):\n",
                "                merge_chunk[i].extend(chunk)\n",
                "\n",
                "        return merge_chunk\n",
                "\n",
                "    sim_sem_chunk = ret_chunk(result_dic['sim']['sem'])\n",
                "    sem_depth_chunk = ret_chunk(result_dic['sim']['depth'])\n",
                "    train_chunk = ret_chunk(result_dic['train'])\n",
                "\n",
                "    chunk_dic = dict()\n",
                "    chunk_dic['sim_sem'] = sim_sem_chunk\n",
                "    chunk_dic['sim_depth'] = sem_depth_chunk\n",
                "    chunk_dic['train'] = train_chunk\n",
                "\n",
                "    return chunk_dic\n",
                "\n",
                "chunk_dic = K_fold(config_dic['n_fold'], result_dic)"
            ]
        },
        {
            "cell_type": "code",
            "execution_count": 4,
            "id": "74bb2645",
            "metadata": {},
            "outputs": [],
            "source": [
                "import torch\n",
                "import torch.nn as nn\n",
                "from torch.utils.data import Dataset, DataLoader\n",
                "from torchvision import transforms\n",
                "import albumentations as A\n",
                "from albumentations.pytorch.transforms import ToTensorV2\n"
            ]
        },
        {
            "cell_type": "code",
            "execution_count": 5,
            "id": "87252684",
            "metadata": {},
            "outputs": [],
            "source": [
                "import torch\n",
                "import torch.nn as nn\n",
                "from torch.utils.data import Dataset, DataLoader\n",
                "from torchvision import transforms\n",
                "import albumentations as A\n",
                "from albumentations.pytorch.transforms import ToTensorV2\n",
                "\n",
                "class sim_dataset(Dataset):\n",
                "    def __init__(self, sem_data_list, depth_data_list, transform=None):\n",
                "        super(sim_dataset, self).__init__()\n",
                "        self.sem_data_list = sem_data_list\n",
                "        self.depth_data_list = depth_data_list\n",
                "        self.transform = transform\n",
                "\n",
                "    def __getitem__(self, idx):\n",
                "#         sem_img = cv2.imread(self.sem_data_list[idx], cv2.IMREAD_GRAYSCALE)\n",
                "#         depth_img = cv2.imread(self.depth_data_list[idx], cv2.IMREAD_GRAYSCALE)\n",
                "        sem_img = PIL.Image.open(self.sem_data_list[idx]).convert(\"L\")\n",
                "        depth_img = PIL.Image.open(self.depth_data_list[idx]).convert(\"L\")\n",
                "        if self.transform:\n",
                "#             sem_transform_mask = np.random.uniform(0, 1, len(self.transform) - 1) >= 0.5\n",
                "#             sem_transform_mask = np.append(sem_transform_mask, False)\n",
                "#             depth_transform_mask = np.copy(sem_transform_mask)\n",
                "#             depth_transform_mask[3] = False\n",
                "#             sem_transform_mask[3] = True\n",
                "\n",
                "#             for t, mask in zip(self.transform, sem_transform_mask):\n",
                "#                 if mask:\n",
                "#                     sem_img = t(image=sem_img)['image']\n",
                "\n",
                "#             for t, mask in zip(self.transform, depth_transform_mask):\n",
                "#                 if mask:\n",
                "#                     depth_img = t(image=depth_img)['image']\n",
                "#             depth_img = self.transform(image=depth_img)['image']\n",
                "#             sem_img = self.transform(image=sem_img)['image']\n",
                "            depth_img = self.transform(depth_img)\n",
                "            sem_img = self.transform(sem_img)\n",
                "            \n",
                "        sem_img = np.array(sem_img)\n",
                "        sem_img = sem_img.reshape(1, *sem_img.shape)\n",
                "        depth_img = np.array(depth_img)\n",
                "        depth_img = depth_img.reshape(1, *depth_img.shape)\n",
                "        \n",
                "#         print(type(sem_img), sem_img.shape)\n",
                "        if not isinstance(sem_img, torch.Tensor):\n",
                "            sem_img = torch.Tensor(sem_img)\n",
                "            \n",
                "        if not isinstance(depth_img, torch.Tensor):\n",
                "            depth_img = torch.Tensor(depth_img)\n",
                "        \n",
                "        return (sem_img /255.0).type(torch.float32), (depth_img/255.0).type(torch.float32)\n",
                "\n",
                "    def __len__(self):\n",
                "        return len(self.sem_data_list)\n",
                "#         return 10000\n",
                "\n",
                "horizon_transform = A.Compose([\n",
                "    A.HorizontalFlip(p=1.0, always_apply=True),\n",
                "    ToTensorV2()\n",
                "])\n",
                "\n",
                "\n",
                "rotate_transform = A.Compose([\n",
                "    A.Rotate([180, 180], p=1.0, always_apply=True),\n",
                "    ToTensorV2()\n",
                "])\n",
                "color11_transform = A.Compose([\n",
                "    A.ColorJitter(brightness=[0.9, 0.9], p=1.0, always_apply=True),\n",
                "    ToTensorV2()\n",
                "])\n",
                "\n",
                "color12_transform = A.Compose([\n",
                "    A.ColorJitter(brightness=[0.8, 0.8], p=1.0, always_apply=True),\n",
                "    ToTensorV2()\n",
                "])\n",
                "\n",
                "vertical_transform = A.Compose([\n",
                "    A.VerticalFlip(p=1.0, always_apply=True),\n",
                "    ToTensorV2()\n",
                "])\n",
                "\n",
                "transform = A.Compose([\n",
                "    ToTensorV2()\n",
                "])\n",
                "\n",
                "horizon_transform = transforms.RandomHorizontalFlip(1.0)\n",
                "rotate_transform = transforms.RandomRotation((180,180))\n",
                "vertical_transform = transforms.RandomVerticalFlip(1.0)\n",
                "color11_transform = transforms.ColorJitter(brightness = [0.8, 0.8])\n",
                "color12_transform = transforms.ColorJitter(brightness = [0.9, 0.9])\n",
                "transform = None\n",
                "\n",
                "transform_list = [horizon_transform, rotate_transform, color11_transform, color12_transform, vertical_transform]"
            ]
        },
        {
            "cell_type": "code",
            "execution_count": 6,
            "id": "b7f7fa5a",
            "metadata": {},
            "outputs": [
                {
                    "name": "stdout",
                    "output_type": "stream",
                    "text": [
                        "138644\n",
                        "138644\n",
                        "138644\n",
                        "138644\n",
                        "138644\n",
                        "138644\n",
                        "138644\n",
                        "138644\n",
                        "138644\n",
                        "138644\n",
                        "138644\n",
                        "138644\n",
                        "138644\n",
                        "138644\n",
                        "138644\n",
                        "138644\n",
                        "138644\n",
                        "138644\n",
                        "138644\n",
                        "138644\n",
                        "138644\n",
                        "138644\n",
                        "138644\n",
                        "138644\n",
                        "138640\n",
                        "138640\n",
                        "138640\n",
                        "138640\n",
                        "138640\n",
                        "138640\n"
                    ]
                }
            ],
            "source": [
                "dataset_list = []\n",
                "for i in range(config_dic['n_fold']): # n_fold\n",
                "    sem_train_data_list = []\n",
                "    sem_valid_data_list = []\n",
                "    depth_train_data_list = []\n",
                "    depth_valid_data_list = []\n",
                "    for j in range(config_dic['n_fold']):\n",
                "        if i == j:\n",
                "            sem_valid_data_list.extend(chunk_dic['sim_sem'][j])\n",
                "            depth_valid_data_list.extend(chunk_dic['sim_depth'][j])\n",
                "        else:\n",
                "            sem_train_data_list.extend(chunk_dic['sim_sem'][j])\n",
                "            depth_train_data_list.extend(chunk_dic['sim_depth'][j])\n",
                "\n",
                "    dataset_list.append([sem_train_data_list, sem_valid_data_list, depth_train_data_list, depth_valid_data_list])\n",
                "\n",
                "temp = []\n",
                "\n",
                "for dataset in dataset_list:\n",
                "    dataset_transform = []\n",
                "    train_dataset = sim_dataset(sem_data_list=dataset[0],\n",
                "                                depth_data_list=dataset[2],\n",
                "                                transform=transform)\n",
                "    valid_dataset = sim_dataset(sem_data_list=dataset[1],\n",
                "                                depth_data_list=dataset[3],\n",
                "                                transform=transform)\n",
                "    dataset_transform.append([train_dataset, valid_dataset])\n",
                "    print(len(train_dataset))\n",
                "    for _transform in transform_list:\n",
                "        train_dataset = sim_dataset(sem_data_list=dataset[0],\n",
                "                                depth_data_list=dataset[2],\n",
                "                                transform=_transform)\n",
                "        valid_dataset = sim_dataset(sem_data_list=dataset[1],\n",
                "                                    depth_data_list=dataset[3],\n",
                "                                    transform=transform)\n",
                "        dataset_transform.append([train_dataset, valid_dataset])\n",
                "        print(len(train_dataset))\n",
                "    \n",
                "    train_dataset = dataset_transform[0][0] + dataset_transform[1][0] + dataset_transform[2][0] + dataset_transform[3][0] + dataset_transform[4][0] + dataset_transform[5][0]\n",
                "    valid_dataset = dataset_transform[0][1] + dataset_transform[1][1] + dataset_transform[2][1] + dataset_transform[3][1] + dataset_transform[4][1] + dataset_transform[5][1]\n",
                "    temp.append([train_dataset, valid_dataset])\n",
                "\n",
                "\n",
                "folds_dataloader = [] # k\uac1c\uc758 datalodaer\ub97c \uc800\uc7a5\ud568\n",
                "for fold in temp:\n",
                "    train_loader = DataLoader(fold[0], batch_size=config_dic['batch_size'], shuffle=True, num_workers=config_dic['num_workers'])\n",
                "    valid_loader = DataLoader(fold[1], batch_size=config_dic['batch_size'], shuffle=False, num_workers=config_dic['num_workers'])\n",
                "\n",
                "    folds_dataloader.append([train_loader, valid_loader])"
            ]
        },
        {
            "cell_type": "code",
            "execution_count": 7,
            "id": "d060e00f",
            "metadata": {},
            "outputs": [],
            "source": [
                "class AE_Model(nn.Module):\n",
                "    def __init__(self):\n",
                "        super(AE_Model, self).__init__()\n",
                "        self.encoder = nn.Sequential(\n",
                "            nn.Conv2d(1,64,3, stride=2, padding = 1),\n",
                "            nn.BatchNorm2d(64),\n",
                "            nn.ReLU(),\n",
                "            nn.Conv2d(64,128,3, stride=2, padding = 1),\n",
                "            nn.BatchNorm2d(128),\n",
                "            nn.ReLU(),\n",
                "            nn.Conv2d(128,256,3,stride=2, padding = 1),\n",
                "            nn.ReLU()\n",
                "            )\n",
                "        \n",
                "        self.flatten = nn.Sequential(nn.Flatten(start_dim = 1),\n",
                "                                     nn.Dropout(0.2))\n",
                "\n",
                "        self.encoder_lin = nn.Sequential(\n",
                "            nn.Linear(256*9*6,2048),\n",
                "            nn.ReLU(),\n",
                "            nn.Linear(2048, 256*9*6),\n",
                "        )\n",
                "\n",
                "        self.unflatten = nn.Unflatten(dim=1, unflattened_size = (256,9,6))\n",
                "        \n",
                "        self.decoder = nn.Sequential(\n",
                "            nn.ConvTranspose2d(256,128,3,stride=2,padding = 1,output_padding = 1),\n",
                "            nn.BatchNorm2d(128),\n",
                "            nn.ReLU(),\n",
                "            nn.ConvTranspose2d(128,64,3, stride=2, padding = 1, output_padding = 1),\n",
                "            nn.BatchNorm2d(64),\n",
                "            nn.ReLU(),\n",
                "            nn.ConvTranspose2d(64,1,3, stride=2, padding = 1, output_padding = 1)\n",
                "        )\n",
                "        \n",
                "    def forward(self, x):\n",
                "        x = self.encoder(x)\n",
                "\n",
                "        x = self.flatten(x)\n",
                "        x = self.encoder_lin(x)\n",
                "        x = self.unflatten(x)\n",
                "        x = self.decoder(x)                                                     # decoder \ub97c \ube60\uc838\ub098\uc628 x\ub294 \ucd94\uc815\ub41c depth map\uc774 \uc77c\ub82c\ub85c \ucb49 \ub298\uc5b4\uc838 \uc788\ub294 \uac83 \n",
                "\n",
                "        return x"
            ]
        },
        {
            "cell_type": "code",
            "execution_count": 8,
            "id": "a4d24d3b",
            "metadata": {},
            "outputs": [],
            "source": [
                "def imshow(img):\n",
                "    from IPython.display import display, Image\n",
                "    print(img.shape, np.max(img[0]), img[0][:10], np.mean(img), np.min(img[0]))\n",
                "    _, ret = cv2.imencode('.jpg', img)\n",
                "    img = Image(data=ret)\n",
                "    display(img)"
            ]
        },
        {
            "cell_type": "code",
            "execution_count": 9,
            "id": "e6a299c2",
            "metadata": {},
            "outputs": [],
            "source": [
                "%matplotlib inline\n",
                "\n",
                "import matplotlib.pyplot as plt\n",
                "from tqdm import tqdm\n",
                "\n",
                "def train(model, optimizer, train_lodaer, val_loader, schedular, epochs, device, n_fold):\n",
                "    model.to(device)\n",
                "\n",
                "    \n",
                "    best_rmse_loss = 9999\n",
                "    best_model = model\n",
                "    \n",
                "    \n",
                "    for epoch in range(epochs):\n",
                "        model.train()\n",
                "        mean_list = [[],[],[],[]]\n",
                "        pred_mean_list = [[],[],[],[]]\n",
                "        epoch_loss = []\n",
                "        for step_i, (sem_img, depth_img) in enumerate(tqdm(train_lodaer)):\n",
                "                    \n",
                "            sem_img = sem_img.to(device, non_blocking=True)\n",
                "            depth_img = depth_img.to(device, non_blocking=True)\n",
                "            optimizer.zero_grad()\n",
                "            pred_depth_img = model(sem_img)\n",
                "            loss = criterion(pred_depth_img, depth_img)\n",
                "            \n",
                "            for img_i in range(depth_img.shape[0]):\n",
                "                \n",
                "                _depth_idx = int(depth_img[img_i][0][0][0].item() * 255)\n",
                "                if _depth_idx == 140:\n",
                "                    mean_list[0].append(np.mean(sem_img[img_i].detach().cpu().numpy()) * 255)\n",
                "                    pred_mean_list[0].append(np.mean(pred_depth_img[img_i].detach().cpu().numpy()) * 255)\n",
                "                if _depth_idx == 150:\n",
                "                    mean_list[1].append(np.mean(sem_img[img_i].detach().cpu().numpy()) * 255)\n",
                "                    pred_mean_list[1].append(np.mean(pred_depth_img[img_i].detach().cpu().numpy()) * 255)                         \n",
                "                if _depth_idx == 160:\n",
                "                    mean_list[2].append(np.mean(sem_img[img_i].detach().cpu().numpy()) * 255)\n",
                "                    pred_mean_list[2].append(np.mean(pred_depth_img[img_i].detach().cpu().numpy()) * 255)\n",
                "                if _depth_idx == 170:\n",
                "                    mean_list[3].append(np.mean(sem_img[img_i].detach().cpu().numpy()) * 255)\n",
                "                    pred_mean_list[3].append(np.mean(pred_depth_img[img_i].detach().cpu().numpy()) * 255)\n",
                "            \n",
                "            \n",
                "            loss.backward()\n",
                "            epoch_loss.append(loss.item())\n",
                "            optimizer.step()\n",
                "        \n",
                "        schedular.step()\n",
                "\n",
                "        rmse_loss = validation(model, val_loader, epoch, device, n_fold, criterion)\n",
                "        print(f\"{n_fold}\ubc88\uca30/ epoch:{epoch} / train_loss:{round(sum(epoch_loss)/len(epoch_loss), 5)} / valid_rmse:{rmse_loss}\")\n",
                "        plt.rcParams['figure.figsize'] = [20, 5]\n",
                "        plt.subplot(1,2,1)\n",
                "        print(len(mean_list[0]))\n",
                "        plt.hist(mean_list[0], bins=100, density=True, label=\"110\", color=\"red\", alpha=0.5)\n",
                "        plt.hist(mean_list[1], bins=100, density=True, label=\"120\", color=\"blue\", alpha=0.5)\n",
                "        plt.hist(mean_list[2], bins=100, density=True, label=\"130\", color=\"green\", alpha=0.5)\n",
                "        plt.hist(mean_list[3], bins=100, density=True, label=\"140\", color=\"black\", alpha=0.5)\n",
                "        plt.title(\"train sim sem image graph\")\n",
                "                                             \n",
                "        plt.subplot(1,2,2)\n",
                "        print(len(pred_mean_list[0]))\n",
                "        plt.hist(pred_mean_list[0], bins=100, density=True, label=\"110\", color=\"red\", alpha=0.5)\n",
                "        plt.hist(pred_mean_list[1], bins=100, density=True, label=\"120\", color=\"blue\", alpha=0.5)\n",
                "        plt.hist(pred_mean_list[2], bins=100, density=True, label=\"130\", color=\"green\", alpha=0.5)\n",
                "        plt.hist(pred_mean_list[3], bins=100, density=True, label=\"140\", color=\"black\", alpha=0.5)\n",
                "        plt.title(\"sim sem predicted image graph\")\n",
                "        plt.legend()\n",
                "#         plt.xlim(85, 150)\n",
                "        plt.show()\n",
                "        \n",
                "        plt.clf()\n",
                "        plt.cla()\n",
                "        plt.close()\n",
                "        if rmse_loss < best_rmse_loss:\n",
                "            best_model = model\n",
                "            best_epoch = epoch\n",
                "            best_rmse_loss = rmse_loss\n",
                "            best_train_loss = sum(epoch_loss)/len(epoch_loss)\n",
                "\n",
                "    print(f\"best model epoch-{best_epoch} / rmse:{best_rmse_loss}/ train_loss:{best_train_loss}\")\n",
                "    return best_model, best_epoch, best_rmse_loss, best_train_loss"
            ]
        },
        {
            "cell_type": "code",
            "execution_count": 10,
            "id": "9a81aac3",
            "metadata": {},
            "outputs": [],
            "source": [
                "def validation(model, val_loader, epoch, device, n_fold, criterion):\n",
                "    model.eval()\n",
                "    mse_criterion = nn.MSELoss().to(device)\n",
                "\n",
                "    with torch.no_grad():\n",
                "        valid_loss = []\n",
                "        depth_mean_list = []\n",
                "        for sem_img, depth_img in tqdm(val_loader):\n",
                "            sem_img = sem_img.to(device)\n",
                "            depth_img = depth_img.to(device)\n",
                "            \n",
                "            pred = model(sem_img)\n",
                "            pred = (pred * 255).type(torch.int8).float()\n",
                "            \n",
                "            np_depth = (depth_img * 255).type(torch.int8).float().cpu().numpy()\n",
                "            np_pred = pred.cpu().numpy()\n",
                "            \n",
                "            true = (depth_img * 255).type(torch.int8).float()\n",
                "            mse_loss = torch.sqrt(criterion(pred, true))\n",
                "            \n",
                "            valid_loss.append(mse_loss.item())\n",
                "        rmse_loss = np.mean(valid_loss)\n",
                "\n",
                "    return rmse_loss"
            ]
        },
        {
            "cell_type": "code",
            "execution_count": 11,
            "id": "642455c7",
            "metadata": {},
            "outputs": [
                {
                    "name": "stdout",
                    "output_type": "stream",
                    "text": [
                        "train 6499 valid 1625\n"
                    ]
                },
                {
                    "data": {
                        "application/vnd.jupyter.widget-view+json": {
                            "model_id": "27ae7a9656304528b09380d05f2c5d48",
                            "version_major": 2,
                            "version_minor": 0
                        },
                        "text/plain": [
                            "  0%|          | 0/6499 [00:00<?, ?it/s]"
                        ]
                    },
                    "metadata": {},
                    "output_type": "display_data"
                },
                {
                    "data": {
                        "application/vnd.jupyter.widget-view+json": {
                            "model_id": "341b9f18826548cc82e692f83ae41893",
                            "version_major": 2,
                            "version_minor": 0
                        },
                        "text/plain": [
                            "  0%|          | 0/1625 [00:00<?, ?it/s]"
                        ]
                    },
                    "metadata": {},
                    "output_type": "display_data"
                },
                {
                    "name": "stdout",
                    "output_type": "stream",
                    "text": [
                        "0\ubc88\uca30/ epoch:0 / train_loss:0.02251 / valid_rmse:3.0449167659466085\n",
                        "138644\n",
                        "138644\n"
                    ]
                },
                {
                    "data": {
                        "image/png": "[encoded data removed]",
                        "text/plain": [
                            "<Figure size 1440x360 with 2 Axes>"
                        ]
                    },
                    "metadata": {
                        "needs_background": "light"
                    },
                    "output_type": "display_data"
                },
                {
                    "data": {
                        "application/vnd.jupyter.widget-view+json": {
                            "model_id": "7db4642296c74df094ab3808ac82d3c7",
                            "version_major": 2,
                            "version_minor": 0
                        },
                        "text/plain": [
                            "  0%|          | 0/6499 [00:00<?, ?it/s]"
                        ]
                    },
                    "metadata": {},
                    "output_type": "display_data"
                },
                {
                    "data": {
                        "application/vnd.jupyter.widget-view+json": {
                            "model_id": "0079e06ddf404a8d8b755a276b1e67ed",
                            "version_major": 2,
                            "version_minor": 0
                        },
                        "text/plain": [
                            "  0%|          | 0/1625 [00:00<?, ?it/s]"
                        ]
                    },
                    "metadata": {},
                    "output_type": "display_data"
                },
                {
                    "name": "stdout",
                    "output_type": "stream",
                    "text": [
                        "0\ubc88\uca30/ epoch:1 / train_loss:0.01748 / valid_rmse:2.9670140897310695\n",
                        "138644\n",
                        "138644\n"
                    ]
                },
                {
                    "data": {
                        "image/png": "[encoded data removed]",
                        "text/plain": [
                            "<Figure size 1440x360 with 2 Axes>"
                        ]
                    },
                    "metadata": {
                        "needs_background": "light"
                    },
                    "output_type": "display_data"
                },
                {
                    "data": {
                        "application/vnd.jupyter.widget-view+json": {
                            "model_id": "4bd674b2d43f412b9b2ff06f73e68030",
                            "version_major": 2,
                            "version_minor": 0
                        },
                        "text/plain": [
                            "  0%|          | 0/6499 [00:00<?, ?it/s]"
                        ]
                    },
                    "metadata": {},
                    "output_type": "display_data"
                },
                {
                    "data": {
                        "application/vnd.jupyter.widget-view+json": {
                            "model_id": "c65e109c56cd427c8eba1f0daca68bf7",
                            "version_major": 2,
                            "version_minor": 0
                        },
                        "text/plain": [
                            "  0%|          | 0/1625 [00:00<?, ?it/s]"
                        ]
                    },
                    "metadata": {},
                    "output_type": "display_data"
                },
                {
                    "name": "stdout",
                    "output_type": "stream",
                    "text": [
                        "0\ubc88\uca30/ epoch:2 / train_loss:0.01589 / valid_rmse:2.968154258141151\n",
                        "138644\n",
                        "138644\n"
                    ]
                },
                {
                    "data": {
                        "image/png": "[encoded data removed]",
                        "text/plain": [
                            "<Figure size 1440x360 with 2 Axes>"
                        ]
                    },
                    "metadata": {
                        "needs_background": "light"
                    },
                    "output_type": "display_data"
                },
                {
                    "data": {
                        "application/vnd.jupyter.widget-view+json": {
                            "model_id": "21a8a8395b354aa7bbfde8b1b07f416f",
                            "version_major": 2,
                            "version_minor": 0
                        },
                        "text/plain": [
                            "  0%|          | 0/6499 [00:00<?, ?it/s]"
                        ]
                    },
                    "metadata": {},
                    "output_type": "display_data"
                },
                {
                    "data": {
                        "application/vnd.jupyter.widget-view+json": {
                            "model_id": "e4a5a4743c0e483ea481715d81f7bc7b",
                            "version_major": 2,
                            "version_minor": 0
                        },
                        "text/plain": [
                            "  0%|          | 0/1625 [00:00<?, ?it/s]"
                        ]
                    },
                    "metadata": {},
                    "output_type": "display_data"
                },
                {
                    "name": "stdout",
                    "output_type": "stream",
                    "text": [
                        "0\ubc88\uca30/ epoch:3 / train_loss:0.01501 / valid_rmse:2.9911025012089656\n",
                        "138644\n",
                        "138644\n"
                    ]
                },
                {
                    "data": {
                        "image/png": "[encoded data removed]",
                        "text/plain": [
                            "<Figure size 1440x360 with 2 Axes>"
                        ]
                    },
                    "metadata": {
                        "needs_background": "light"
                    },
                    "output_type": "display_data"
                },
                {
                    "data": {
                        "application/vnd.jupyter.widget-view+json": {
                            "model_id": "1688a81484a3446b89ee65dd1b0ab297",
                            "version_major": 2,
                            "version_minor": 0
                        },
                        "text/plain": [
                            "  0%|          | 0/6499 [00:00<?, ?it/s]"
                        ]
                    },
                    "metadata": {},
                    "output_type": "display_data"
                },
                {
                    "data": {
                        "application/vnd.jupyter.widget-view+json": {
                            "model_id": "0a8b5bd65d4744df8c07e55cd7294755",
                            "version_major": 2,
                            "version_minor": 0
                        },
                        "text/plain": [
                            "  0%|          | 0/1625 [00:00<?, ?it/s]"
                        ]
                    },
                    "metadata": {},
                    "output_type": "display_data"
                },
                {
                    "name": "stdout",
                    "output_type": "stream",
                    "text": [
                        "0\ubc88\uca30/ epoch:4 / train_loss:0.01446 / valid_rmse:2.92611402291518\n",
                        "138644\n",
                        "138644\n"
                    ]
                },
                {
                    "data": {
                        "image/png": "[encoded data removed]",
                        "text/plain": [
                            "<Figure size 1440x360 with 2 Axes>"
                        ]
                    },
                    "metadata": {
                        "needs_background": "light"
                    },
                    "output_type": "display_data"
                },
                {
                    "data": {
                        "application/vnd.jupyter.widget-view+json": {
                            "model_id": "45f38b1c34e64a56862bc19899a53370",
                            "version_major": 2,
                            "version_minor": 0
                        },
                        "text/plain": [
                            "  0%|          | 0/6499 [00:00<?, ?it/s]"
                        ]
                    },
                    "metadata": {},
                    "output_type": "display_data"
                },
                {
                    "data": {
                        "application/vnd.jupyter.widget-view+json": {
                            "model_id": "042f7e289e6241d38536d5ab4b5593d1",
                            "version_major": 2,
                            "version_minor": 0
                        },
                        "text/plain": [
                            "  0%|          | 0/1625 [00:00<?, ?it/s]"
                        ]
                    },
                    "metadata": {},
                    "output_type": "display_data"
                },
                {
                    "name": "stdout",
                    "output_type": "stream",
                    "text": [
                        "0\ubc88\uca30/ epoch:5 / train_loss:0.01416 / valid_rmse:2.9034921738551214\n",
                        "138644\n",
                        "138644\n"
                    ]
                },
                {
                    "data": {
                        "image/png": "[encoded data removed]",
                        "text/plain": [
                            "<Figure size 1440x360 with 2 Axes>"
                        ]
                    },
                    "metadata": {
                        "needs_background": "light"
                    },
                    "output_type": "display_data"
                },
                {
                    "data": {
                        "application/vnd.jupyter.widget-view+json": {
                            "model_id": "3696a19de97744abad497d956d76db66",
                            "version_major": 2,
                            "version_minor": 0
                        },
                        "text/plain": [
                            "  0%|          | 0/6499 [00:00<?, ?it/s]"
                        ]
                    },
                    "metadata": {},
                    "output_type": "display_data"
                },
                {
                    "data": {
                        "application/vnd.jupyter.widget-view+json": {
                            "model_id": "4fe29586492349b9a93dc614a7473d68",
                            "version_major": 2,
                            "version_minor": 0
                        },
                        "text/plain": [
                            "  0%|          | 0/1625 [00:00<?, ?it/s]"
                        ]
                    },
                    "metadata": {},
                    "output_type": "display_data"
                },
                {
                    "name": "stdout",
                    "output_type": "stream",
                    "text": [
                        "0\ubc88\uca30/ epoch:6 / train_loss:0.01386 / valid_rmse:2.941882087120643\n",
                        "138644\n",
                        "138644\n"
                    ]
                },
                {
                    "data": {
                        "image/png": "[encoded data removed]",
                        "text/plain": [
                            "<Figure size 1440x360 with 2 Axes>"
                        ]
                    },
                    "metadata": {
                        "needs_background": "light"
                    },
                    "output_type": "display_data"
                },
                {
                    "data": {
                        "application/vnd.jupyter.widget-view+json": {
                            "model_id": "325284a3cecf42a0964bc8731ff91682",
                            "version_major": 2,
                            "version_minor": 0
                        },
                        "text/plain": [
                            "  0%|          | 0/6499 [00:00<?, ?it/s]"
                        ]
                    },
                    "metadata": {},
                    "output_type": "display_data"
                },
                {
                    "data": {
                        "application/vnd.jupyter.widget-view+json": {
                            "model_id": "95eadb32122840cf8fba056d62f33b05",
                            "version_major": 2,
                            "version_minor": 0
                        },
                        "text/plain": [
                            "  0%|          | 0/1625 [00:00<?, ?it/s]"
                        ]
                    },
                    "metadata": {},
                    "output_type": "display_data"
                },
                {
                    "name": "stdout",
                    "output_type": "stream",
                    "text": [
                        "0\ubc88\uca30/ epoch:7 / train_loss:0.01365 / valid_rmse:2.9207208448556754\n",
                        "138644\n",
                        "138644\n"
                    ]
                },
                {
                    "data": {
                        "image/png": "[encoded data removed]",
                        "text/plain": [
                            "<Figure size 1440x360 with 2 Axes>"
                        ]
                    },
                    "metadata": {
                        "needs_background": "light"
                    },
                    "output_type": "display_data"
                },
                {
                    "data": {
                        "application/vnd.jupyter.widget-view+json": {
                            "model_id": "d9853935db4a49b2bef5e80984bcc939",
                            "version_major": 2,
                            "version_minor": 0
                        },
                        "text/plain": [
                            "  0%|          | 0/6499 [00:00<?, ?it/s]"
                        ]
                    },
                    "metadata": {},
                    "output_type": "display_data"
                },
                {
                    "data": {
                        "application/vnd.jupyter.widget-view+json": {
                            "model_id": "108fca3db41f430eba7fd1adf9304a75",
                            "version_major": 2,
                            "version_minor": 0
                        },
                        "text/plain": [
                            "  0%|          | 0/1625 [00:00<?, ?it/s]"
                        ]
                    },
                    "metadata": {},
                    "output_type": "display_data"
                },
                {
                    "name": "stdout",
                    "output_type": "stream",
                    "text": [
                        "0\ubc88\uca30/ epoch:8 / train_loss:0.01346 / valid_rmse:2.9984441343454216\n",
                        "138644\n",
                        "138644\n"
                    ]
                },
                {
                    "data": {
                        "image/png": "[encoded data removed]",
                        "text/plain": [
                            "<Figure size 1440x360 with 2 Axes>"
                        ]
                    },
                    "metadata": {
                        "needs_background": "light"
                    },
                    "output_type": "display_data"
                },
                {
                    "data": {
                        "application/vnd.jupyter.widget-view+json": {
                            "model_id": "aa65d0c186e34c1b858e22f51533d218",
                            "version_major": 2,
                            "version_minor": 0
                        },
                        "text/plain": [
                            "  0%|          | 0/6499 [00:00<?, ?it/s]"
                        ]
                    },
                    "metadata": {},
                    "output_type": "display_data"
                },
                {
                    "data": {
                        "application/vnd.jupyter.widget-view+json": {
                            "model_id": "3de537ed6d07452695130ab37cae944f",
                            "version_major": 2,
                            "version_minor": 0
                        },
                        "text/plain": [
                            "  0%|          | 0/1625 [00:00<?, ?it/s]"
                        ]
                    },
                    "metadata": {},
                    "output_type": "display_data"
                },
                {
                    "name": "stdout",
                    "output_type": "stream",
                    "text": [
                        "0\ubc88\uca30/ epoch:9 / train_loss:0.01332 / valid_rmse:2.9098681618617133\n",
                        "138644\n",
                        "138644\n"
                    ]
                },
                {
                    "data": {
                        "image/png": "[encoded data removed]",
                        "text/plain": [
                            "<Figure size 1440x360 with 2 Axes>"
                        ]
                    },
                    "metadata": {
                        "needs_background": "light"
                    },
                    "output_type": "display_data"
                },
                {
                    "data": {
                        "application/vnd.jupyter.widget-view+json": {
                            "model_id": "7560ea2bd0844d769f5351ae548907a8",
                            "version_major": 2,
                            "version_minor": 0
                        },
                        "text/plain": [
                            "  0%|          | 0/6499 [00:00<?, ?it/s]"
                        ]
                    },
                    "metadata": {},
                    "output_type": "display_data"
                },
                {
                    "data": {
                        "application/vnd.jupyter.widget-view+json": {
                            "model_id": "45c9410be50a44c284cf0080df570f3f",
                            "version_major": 2,
                            "version_minor": 0
                        },
                        "text/plain": [
                            "  0%|          | 0/1625 [00:00<?, ?it/s]"
                        ]
                    },
                    "metadata": {},
                    "output_type": "display_data"
                },
                {
                    "name": "stdout",
                    "output_type": "stream",
                    "text": [
                        "0\ubc88\uca30/ epoch:10 / train_loss:0.01319 / valid_rmse:2.943392028074998\n",
                        "138644\n",
                        "138644\n"
                    ]
                },
                {
                    "data": {
                        "image/png": "[encoded data removed]",
                        "text/plain": [
                            "<Figure size 1440x360 with 2 Axes>"
                        ]
                    },
                    "metadata": {
                        "needs_background": "light"
                    },
                    "output_type": "display_data"
                },
                {
                    "data": {
                        "application/vnd.jupyter.widget-view+json": {
                            "model_id": "15b6b699e74c462aad4398d98d16a00d",
                            "version_major": 2,
                            "version_minor": 0
                        },
                        "text/plain": [
                            "  0%|          | 0/6499 [00:00<?, ?it/s]"
                        ]
                    },
                    "metadata": {},
                    "output_type": "display_data"
                },
                {
                    "data": {
                        "application/vnd.jupyter.widget-view+json": {
                            "model_id": "ce3f7800abb54d479a0c6d9858cf11b6",
                            "version_major": 2,
                            "version_minor": 0
                        },
                        "text/plain": [
                            "  0%|          | 0/1625 [00:00<?, ?it/s]"
                        ]
                    },
                    "metadata": {},
                    "output_type": "display_data"
                },
                {
                    "name": "stdout",
                    "output_type": "stream",
                    "text": [
                        "0\ubc88\uca30/ epoch:11 / train_loss:0.01307 / valid_rmse:2.8852231930952805\n",
                        "138644\n",
                        "138644\n"
                    ]
                },
                {
                    "data": {
                        "image/png": "[encoded data removed]",
                        "text/plain": [
                            "<Figure size 1440x360 with 2 Axes>"
                        ]
                    },
                    "metadata": {
                        "needs_background": "light"
                    },
                    "output_type": "display_data"
                },
                {
                    "data": {
                        "application/vnd.jupyter.widget-view+json": {
                            "model_id": "3451f65b43314cf8a7363a0136c35ef9",
                            "version_major": 2,
                            "version_minor": 0
                        },
                        "text/plain": [
                            "  0%|          | 0/6499 [00:00<?, ?it/s]"
                        ]
                    },
                    "metadata": {},
                    "output_type": "display_data"
                },
                {
                    "data": {
                        "application/vnd.jupyter.widget-view+json": {
                            "model_id": "20041fb8af5046adaa3eab3462b00f80",
                            "version_major": 2,
                            "version_minor": 0
                        },
                        "text/plain": [
                            "  0%|          | 0/1625 [00:00<?, ?it/s]"
                        ]
                    },
                    "metadata": {},
                    "output_type": "display_data"
                },
                {
                    "name": "stdout",
                    "output_type": "stream",
                    "text": [
                        "0\ubc88\uca30/ epoch:12 / train_loss:0.01299 / valid_rmse:2.917219260289119\n",
                        "138644\n",
                        "138644\n"
                    ]
                },
                {
                    "data": {
                        "image/png": "[encoded data removed]",
                        "text/plain": [
                            "<Figure size 1440x360 with 2 Axes>"
                        ]
                    },
                    "metadata": {
                        "needs_background": "light"
                    },
                    "output_type": "display_data"
                },
                {
                    "data": {
                        "application/vnd.jupyter.widget-view+json": {
                            "model_id": "6dd278ede7f040a393a4762fc0c36c6a",
                            "version_major": 2,
                            "version_minor": 0
                        },
                        "text/plain": [
                            "  0%|          | 0/6499 [00:00<?, ?it/s]"
                        ]
                    },
                    "metadata": {},
                    "output_type": "display_data"
                },
                {
                    "data": {
                        "application/vnd.jupyter.widget-view+json": {
                            "model_id": "f51f29c13e104f6e93d55175e223219a",
                            "version_major": 2,
                            "version_minor": 0
                        },
                        "text/plain": [
                            "  0%|          | 0/1625 [00:00<?, ?it/s]"
                        ]
                    },
                    "metadata": {},
                    "output_type": "display_data"
                },
                {
                    "name": "stdout",
                    "output_type": "stream",
                    "text": [
                        "0\ubc88\uca30/ epoch:13 / train_loss:0.0129 / valid_rmse:2.923701961223896\n",
                        "138644\n",
                        "138644\n"
                    ]
                },
                {
                    "data": {
                        "image/png": "[encoded data removed]",
                        "text/plain": [
                            "<Figure size 1440x360 with 2 Axes>"
                        ]
                    },
                    "metadata": {
                        "needs_background": "light"
                    },
                    "output_type": "display_data"
                },
                {
                    "data": {
                        "application/vnd.jupyter.widget-view+json": {
                            "model_id": "a799973faaa1450cb8f2f832e56d3128",
                            "version_major": 2,
                            "version_minor": 0
                        },
                        "text/plain": [
                            "  0%|          | 0/6499 [00:00<?, ?it/s]"
                        ]
                    },
                    "metadata": {},
                    "output_type": "display_data"
                },
                {
                    "data": {
                        "application/vnd.jupyter.widget-view+json": {
                            "model_id": "69c7a14aa6e442ac969f4e723916705d",
                            "version_major": 2,
                            "version_minor": 0
                        },
                        "text/plain": [
                            "  0%|          | 0/1625 [00:00<?, ?it/s]"
                        ]
                    },
                    "metadata": {},
                    "output_type": "display_data"
                },
                {
                    "name": "stdout",
                    "output_type": "stream",
                    "text": [
                        "0\ubc88\uca30/ epoch:14 / train_loss:0.0128 / valid_rmse:2.811991067299476\n",
                        "138644\n",
                        "138644\n"
                    ]
                },
                {
                    "data": {
                        "image/png": "[encoded data removed]",
                        "text/plain": [
                            "<Figure size 1440x360 with 2 Axes>"
                        ]
                    },
                    "metadata": {
                        "needs_background": "light"
                    },
                    "output_type": "display_data"
                },
                {
                    "data": {
                        "application/vnd.jupyter.widget-view+json": {
                            "model_id": "d448d0b0d81c4ea4b9a1f377fcf1f3c3",
                            "version_major": 2,
                            "version_minor": 0
                        },
                        "text/plain": [
                            "  0%|          | 0/6499 [00:00<?, ?it/s]"
                        ]
                    },
                    "metadata": {},
                    "output_type": "display_data"
                },
                {
                    "data": {
                        "application/vnd.jupyter.widget-view+json": {
                            "model_id": "4c4e8b8aa9a949edb2d3410cfb050eb4",
                            "version_major": 2,
                            "version_minor": 0
                        },
                        "text/plain": [
                            "  0%|          | 0/1625 [00:00<?, ?it/s]"
                        ]
                    },
                    "metadata": {},
                    "output_type": "display_data"
                },
                {
                    "name": "stdout",
                    "output_type": "stream",
                    "text": [
                        "0\ubc88\uca30/ epoch:15 / train_loss:0.01274 / valid_rmse:2.9498306896503155\n",
                        "138644\n",
                        "138644\n"
                    ]
                },
                {
                    "data": {
                        "image/png": "[encoded data removed]",
                        "text/plain": [
                            "<Figure size 1440x360 with 2 Axes>"
                        ]
                    },
                    "metadata": {
                        "needs_background": "light"
                    },
                    "output_type": "display_data"
                },
                {
                    "data": {
                        "application/vnd.jupyter.widget-view+json": {
                            "model_id": "fabb00257dc24434bab683683310a874",
                            "version_major": 2,
                            "version_minor": 0
                        },
                        "text/plain": [
                            "  0%|          | 0/6499 [00:00<?, ?it/s]"
                        ]
                    },
                    "metadata": {},
                    "output_type": "display_data"
                },
                {
                    "data": {
                        "application/vnd.jupyter.widget-view+json": {
                            "model_id": "2617ea9ec8554651beca81d49d424566",
                            "version_major": 2,
                            "version_minor": 0
                        },
                        "text/plain": [
                            "  0%|          | 0/1625 [00:00<?, ?it/s]"
                        ]
                    },
                    "metadata": {},
                    "output_type": "display_data"
                },
                {
                    "name": "stdout",
                    "output_type": "stream",
                    "text": [
                        "0\ubc88\uca30/ epoch:16 / train_loss:0.01265 / valid_rmse:2.916652986233051\n",
                        "138644\n",
                        "138644\n"
                    ]
                },
                {
                    "data": {
                        "image/png": "[encoded data removed]",
                        "text/plain": [
                            "<Figure size 1440x360 with 2 Axes>"
                        ]
                    },
                    "metadata": {
                        "needs_background": "light"
                    },
                    "output_type": "display_data"
                },
                {
                    "data": {
                        "application/vnd.jupyter.widget-view+json": {
                            "model_id": "99f9472705614bcd877c77019b778cc7",
                            "version_major": 2,
                            "version_minor": 0
                        },
                        "text/plain": [
                            "  0%|          | 0/6499 [00:00<?, ?it/s]"
                        ]
                    },
                    "metadata": {},
                    "output_type": "display_data"
                },
                {
                    "data": {
                        "application/vnd.jupyter.widget-view+json": {
                            "model_id": "5fddda36eddc4682909c71efc4540124",
                            "version_major": 2,
                            "version_minor": 0
                        },
                        "text/plain": [
                            "  0%|          | 0/1625 [00:00<?, ?it/s]"
                        ]
                    },
                    "metadata": {},
                    "output_type": "display_data"
                },
                {
                    "name": "stdout",
                    "output_type": "stream",
                    "text": [
                        "0\ubc88\uca30/ epoch:17 / train_loss:0.01259 / valid_rmse:2.918124667241023\n",
                        "138644\n",
                        "138644\n"
                    ]
                },
                {
                    "data": {
                        "image/png": "[encoded data removed]",
                        "text/plain": [
                            "<Figure size 1440x360 with 2 Axes>"
                        ]
                    },
                    "metadata": {
                        "needs_background": "light"
                    },
                    "output_type": "display_data"
                },
                {
                    "data": {
                        "application/vnd.jupyter.widget-view+json": {
                            "model_id": "bec8f2ff622e4158944ef195e8117af6",
                            "version_major": 2,
                            "version_minor": 0
                        },
                        "text/plain": [
                            "  0%|          | 0/6499 [00:00<?, ?it/s]"
                        ]
                    },
                    "metadata": {},
                    "output_type": "display_data"
                },
                {
                    "data": {
                        "application/vnd.jupyter.widget-view+json": {
                            "model_id": "50162e0993e94b7b8a7d0ee711da297b",
                            "version_major": 2,
                            "version_minor": 0
                        },
                        "text/plain": [
                            "  0%|          | 0/1625 [00:00<?, ?it/s]"
                        ]
                    },
                    "metadata": {},
                    "output_type": "display_data"
                },
                {
                    "name": "stdout",
                    "output_type": "stream",
                    "text": [
                        "0\ubc88\uca30/ epoch:18 / train_loss:0.01252 / valid_rmse:2.9260706919156587\n",
                        "138644\n",
                        "138644\n"
                    ]
                },
                {
                    "data": {
                        "image/png": "[encoded data removed]",
                        "text/plain": [
                            "<Figure size 1440x360 with 2 Axes>"
                        ]
                    },
                    "metadata": {
                        "needs_background": "light"
                    },
                    "output_type": "display_data"
                },
                {
                    "data": {
                        "application/vnd.jupyter.widget-view+json": {
                            "model_id": "58a1405fc7794db68458d19d86174c6d",
                            "version_major": 2,
                            "version_minor": 0
                        },
                        "text/plain": [
                            "  0%|          | 0/6499 [00:00<?, ?it/s]"
                        ]
                    },
                    "metadata": {},
                    "output_type": "display_data"
                },
                {
                    "data": {
                        "application/vnd.jupyter.widget-view+json": {
                            "model_id": "9de4ca65104f44cd91279613d577f9c5",
                            "version_major": 2,
                            "version_minor": 0
                        },
                        "text/plain": [
                            "  0%|          | 0/1625 [00:00<?, ?it/s]"
                        ]
                    },
                    "metadata": {},
                    "output_type": "display_data"
                },
                {
                    "name": "stdout",
                    "output_type": "stream",
                    "text": [
                        "0\ubc88\uca30/ epoch:19 / train_loss:0.01245 / valid_rmse:2.9051973491081826\n",
                        "138644\n",
                        "138644\n"
                    ]
                },
                {
                    "data": {
                        "image/png": "[encoded data removed]",
                        "text/plain": [
                            "<Figure size 1440x360 with 2 Axes>"
                        ]
                    },
                    "metadata": {
                        "needs_background": "light"
                    },
                    "output_type": "display_data"
                },
                {
                    "name": "stdout",
                    "output_type": "stream",
                    "text": [
                        "best model epoch-14 / rmse:2.811991067299476/ train_loss:0.012803261953168584\n"
                    ]
                }
            ],
            "source": [
                "best_model_list = []\n",
                "for fold_i, data_loaders in enumerate(folds_dataloader):\n",
                "    print(\"train\",len(data_loaders[0]),\"valid\",len(data_loaders[1]))\n",
                "    model = AE_Model()\n",
                "    optimizer = torch.optim.Adam(params=model.parameters(), lr=config_dic['lr'])\n",
                "    schedular = torch.optim.lr_scheduler.LambdaLR(optimizer, lr_lambda=lambda epoch: 0.95 ** epoch)\n",
                "    criterion = nn.L1Loss().to(device=config_dic['device'])\n",
                "    best_model,best_epoch, best_rmse_loss, best_train_losss = train(model, optimizer, data_loaders[0], \n",
                "                       data_loaders[1], schedular, 20, config_dic['device'], fold_i)\n",
                "    best_model_list.append([best_model,best_epoch, best_rmse_loss, best_train_losss])\n",
                "    if fold_i == 0:\n",
                "        break"
            ]
        },
        {
            "cell_type": "code",
            "execution_count": 12,
            "id": "47bdc1a8",
            "metadata": {},
            "outputs": [
                {
                    "data": {
                        "text/plain": [
                            "12132"
                        ]
                    },
                    "execution_count": 12,
                    "metadata": {},
                    "output_type": "execute_result"
                }
            ],
            "source": [
                "len(chunk_dic['train'][0])"
            ]
        },
        {
            "cell_type": "code",
            "execution_count": 18,
            "id": "09894ab5",
            "metadata": {},
            "outputs": [
                {
                    "name": "stdout",
                    "output_type": "stream",
                    "text": [
                        "[[AE_Model(\n",
                        "  (encoder): Sequential(\n",
                        "    (0): Conv2d(1, 64, kernel_size=(3, 3), stride=(2, 2), padding=(1, 1))\n",
                        "    (1): BatchNorm2d(64, eps=1e-05, momentum=0.1, affine=True, track_running_stats=True)\n",
                        "    (2): ReLU()\n",
                        "    (3): Conv2d(64, 128, kernel_size=(3, 3), stride=(2, 2), padding=(1, 1))\n",
                        "    (4): BatchNorm2d(128, eps=1e-05, momentum=0.1, affine=True, track_running_stats=True)\n",
                        "    (5): ReLU()\n",
                        "    (6): Conv2d(128, 256, kernel_size=(3, 3), stride=(2, 2), padding=(1, 1))\n",
                        "    (7): ReLU()\n",
                        "  )\n",
                        "  (flatten): Sequential(\n",
                        "    (0): Flatten(start_dim=1, end_dim=-1)\n",
                        "    (1): Dropout(p=0.2, inplace=False)\n",
                        "  )\n",
                        "  (encoder_lin): Sequential(\n",
                        "    (0): Linear(in_features=13824, out_features=2048, bias=True)\n",
                        "    (1): ReLU()\n",
                        "    (2): Linear(in_features=2048, out_features=13824, bias=True)\n",
                        "  )\n",
                        "  (unflatten): Unflatten(dim=1, unflattened_size=(256, 9, 6))\n",
                        "  (decoder): Sequential(\n",
                        "    (0): ConvTranspose2d(256, 128, kernel_size=(3, 3), stride=(2, 2), padding=(1, 1), output_padding=(1, 1))\n",
                        "    (1): BatchNorm2d(128, eps=1e-05, momentum=0.1, affine=True, track_running_stats=True)\n",
                        "    (2): ReLU()\n",
                        "    (3): ConvTranspose2d(128, 64, kernel_size=(3, 3), stride=(2, 2), padding=(1, 1), output_padding=(1, 1))\n",
                        "    (4): BatchNorm2d(64, eps=1e-05, momentum=0.1, affine=True, track_running_stats=True)\n",
                        "    (5): ReLU()\n",
                        "    (6): ConvTranspose2d(64, 1, kernel_size=(3, 3), stride=(2, 2), padding=(1, 1), output_padding=(1, 1))\n",
                        "  )\n",
                        "), 14, 2.811991067299476, 0.012803261953168584]]\n"
                    ]
                }
            ],
            "source": [
                "print(best_model_list)\n",
                "torch.save(best_model_list[0][0], 'best_model_221206.pt')"
            ]
        },
        {
            "cell_type": "code",
            "execution_count": 13,
            "id": "8db14593",
            "metadata": {},
            "outputs": [
                {
                    "name": "stdout",
                    "output_type": "stream",
                    "text": [
                        "60664\n"
                    ]
                }
            ],
            "source": [
                "train_data_path = chunk_dic['train'][0] + chunk_dic['train'][1] + chunk_dic['train'][2] + chunk_dic['train'][3] + chunk_dic['train'][4]\n",
                "print(len(train_data_path))"
            ]
        },
        {
            "cell_type": "code",
            "execution_count": 14,
            "id": "3636233f",
            "metadata": {},
            "outputs": [],
            "source": [
                "class train_dataset(Dataset):\n",
                "    def __init__(self, data_path, transform):\n",
                "        super(train_dataset, self).__init__()\n",
                "        self.data_path = data_path\n",
                "        self.transform = transform\n",
                "        \n",
                "    def __len__(self):\n",
                "        return len(self.data_path)\n",
                "    \n",
                "    def __getitem__(self, idx):\n",
                "        img_path, avg_depth = self.data_path[idx]\n",
                "        img = cv2.imread(img_path, cv2.IMREAD_GRAYSCALE)\n",
                "        \n",
                "        if self.transform:\n",
                "            img = self.transform(image=img)['image']\n",
                "            \n",
                "        \n",
                "        return (img / 255.0).type(torch.float32), avg_depth\n",
                "    \n",
                "train_trasform = A.Compose([\n",
                "    ToTensorV2()\n",
                "])\n",
                "\n",
                "train_dataset = train_dataset(train_data_path, train_trasform)\n",
                "train_dataloader = DataLoader(train_dataset, batch_size=config_dic['batch_size'], shuffle=False, num_workers=config_dic['num_workers'])"
            ]
        },
        {
            "cell_type": "code",
            "execution_count": 15,
            "id": "fa7de82e",
            "metadata": {},
            "outputs": [],
            "source": [
                "import math\n",
                "\n",
                "def train_imshow(img):\n",
                "    from IPython.display import display, Image\n",
                "    print(img.shape, np.max(img[0]), img[0][:10], np.mean(img), np.min(img[0]))\n",
                "    _, ret = cv2.imencode('.jpg', img)\n",
                "    img = Image(data=ret)\n",
                "    display(img)\n",
                "\n",
                "def add_train(model, epochs, dataloader, device):\n",
                "    model.eval()\n",
                "    \n",
                "    for epoch in range(epochs):\n",
                "        pred_mean_list = [[],[],[],[]]\n",
                "        train_mean_list = [[],[],[],[]]\n",
                "        \n",
                "        avg_depth_list = [[],[],[],[]]\n",
                "        for step_i, (sem_img, avg_depth)in enumerate(dataloader):\n",
                "            sem_img = sem_img.to(device=device)\n",
                "            pred = model(sem_img)\n",
                "            for img_i in range(sem_img.shape[0]):\n",
                "                np_pred = (pred[img_i].detach().cpu().numpy() * 255).astype(np.uint8)[0]\n",
                "                np_sem = (sem_img[img_i].detach().cpu().numpy() * 255).astype(np.uint8)[0]\n",
                "                d = int(round(avg_depth[img_i].item(), -1))\n",
                "                # \uccab\uc904 \uc911\uc559\uac12\n",
                "                p1 = np.median(np_pred[0])\n",
                "                # \uc911\uc559 \uc904\uc5d0\uc11c min \uac12\n",
                "                p2 = np.min(np_pred[0])\n",
                "                \n",
                "                if d == 110:\n",
                "                    pred_mean_list[0].append(np.mean(np_pred))\n",
                "                    train_mean_list[0].append(np.mean(np_sem))\n",
                "                    avg_depth_list[0].append(p2)\n",
                "                elif d == 120:\n",
                "                    pred_mean_list[1].append(np.mean(np_pred))\n",
                "                    train_mean_list[1].append(np.mean(np_sem))\n",
                "                    avg_depth_list[1].append(p2)\n",
                "                elif d == 130:\n",
                "                    pred_mean_list[2].append(np.mean(np_pred))\n",
                "                    train_mean_list[2].append(np.mean(np_sem))\n",
                "                    avg_depth_list[2].append(p2)\n",
                "                elif d == 140:\n",
                "                    pred_mean_list[3].append(np.mean(np_pred))\n",
                "                    train_mean_list[3].append(np.mean(np_sem))\n",
                "                    avg_depth_list[3].append(p2)\n",
                "        \n",
                "        plt.rcParams['figure.figsize'] = [20, 10]\n",
                "        \n",
                "        plt.subplot(2,2,1)\n",
                "        plt.hist(pred_mean_list[0], bins=100, color='red', alpha=0.5, density=True, label=\"110\")\n",
                "        plt.hist(pred_mean_list[1], bins=100, color='blue', alpha=0.5, density=True, label=\"120\")\n",
                "        plt.hist(pred_mean_list[2], bins=100, color='green', alpha=0.5, density=True, label=\"130\")\n",
                "        plt.hist(pred_mean_list[3], bins=100, color='black', alpha=0.5, density=True, label=\"140\")\n",
                "        plt.title(\"predicted image\")\n",
                "        plt.legend()\n",
                "        \n",
                "        plt.subplot(2,2,2)\n",
                "        plt.hist(train_mean_list[0], bins=100, color='red', alpha=0.5, density=True, label=\"110\")\n",
                "        plt.hist(train_mean_list[1], bins=100, color='blue', alpha=0.5, density=True, label=\"120\")\n",
                "        plt.hist(train_mean_list[2], bins=100, color='green', alpha=0.5, density=True, label=\"130\")\n",
                "        plt.hist(train_mean_list[3], bins=100, color='black', alpha=0.5, density=True, label=\"140\")\n",
                "        plt.title(\"train sem Image\")\n",
                "        plt.legend()\n",
                "        \n",
                "        \n",
                "        plt.subplot(2,2,3)\n",
                "        plt.hist(avg_depth_list[0], bins=100, color='red', alpha=0.5, density=True, label=\"110\")\n",
                "        plt.hist(avg_depth_list[1], bins=100, color='blue', alpha=0.5, density=True, label=\"120\")\n",
                "        plt.hist(avg_depth_list[2], bins=100, color='green', alpha=0.5, density=True, label=\"130\")\n",
                "        plt.hist(avg_depth_list[3], bins=100, color='black', alpha=0.5, density=True, label=\"140\")\n",
                "        plt.title(\"avg depth\")\n",
                "        plt.legend()\n",
                "        print(np.mean(avg_depth_list[0]))\n",
                "        print(np.mean(avg_depth_list[1]))\n",
                "        print(np.mean(avg_depth_list[2]))\n",
                "        print(np.mean(avg_depth_list[3]))\n",
                "        \n",
                "        plt.show()\n",
                "        plt.clf()\n",
                "        plt.cla()\n",
                "        plt.close()\n",
                "    return avg_depth_list, train_mean_list, pred_mean_list"
            ]
        },
        {
            "cell_type": "code",
            "execution_count": 16,
            "id": "1a626fa5",
            "metadata": {},
            "outputs": [
                {
                    "name": "stdout",
                    "output_type": "stream",
                    "text": [
                        "140.88381906897007\n",
                        "149.17489347754835\n",
                        "158.5951283739302\n",
                        "168.01421643526209\n"
                    ]
                },
                {
                    "data": {
                        "image/png": "[encoded data removed]",
                        "text/plain": [
                            "<Figure size 1440x720 with 3 Axes>"
                        ]
                    },
                    "metadata": {
                        "needs_background": "light"
                    },
                    "output_type": "display_data"
                }
            ],
            "source": [
                "avg_depth_list, train_mean_list, pred_mean_list = add_train(best_model_list[0][0], 1, train_dataloader, config_dic['device'])"
            ]
        },
        {
            "cell_type": "code",
            "execution_count": 39,
            "id": "89660f3f",
            "metadata": {},
            "outputs": [
                {
                    "data": {
                        "text/plain": [
                            "140.0"
                        ]
                    },
                    "execution_count": 39,
                    "metadata": {},
                    "output_type": "execute_result"
                }
            ],
            "source": [
                "round(136.77,-1)"
            ]
        },
        {
            "cell_type": "code",
            "execution_count": 93,
            "id": "595b05e3",
            "metadata": {},
            "outputs": [
                {
                    "name": "stdout",
                    "output_type": "stream",
                    "text": [
                        "60664\n"
                    ]
                }
            ],
            "source": [
                "add_train_data_path = chunk_dic['train'][0] + chunk_dic['train'][1] + chunk_dic['train'][2] + chunk_dic['train'][3] \n",
                "add_valid_data_path = chunk_dic['train'][4]\n",
                "\n",
                "print(len(train_data_path))\n",
                "\n",
                "class add_train_dataset(Dataset):\n",
                "    def __init__(self, data_path, transform):\n",
                "        super(add_train_dataset, self).__init__()\n",
                "        self.data_path = data_path\n",
                "        self.transform = transform\n",
                "        \n",
                "    def __len__(self):\n",
                "        return len(self.data_path)\n",
                "    \n",
                "    def __getitem__(self, idx):\n",
                "        img_path, avg_depth = self.data_path[idx]\n",
                "#         img = cv2.imread(img_path, cv2.IMREAD_GRAYSCALE)\n",
                "        img = PIL.Image.open(img_path).convert(\"L\")\n",
                "#         print(np.array(img).shape)\n",
                "        if self.transform:\n",
                "            img = self.transform(img)\n",
                "            \n",
                "        img = np.array(img)\n",
                "        img = img.reshape(1, *img.shape)\n",
                "        img = torch.Tensor(img)\n",
                "       \n",
                "\n",
                "        avg_depth = np.array(avg_depth)\n",
                "        avg_depth = avg_depth.reshape(1, *avg_depth.shape)\n",
                "            \n",
                "        return (img / 255.0).type(torch.float32), torch.Tensor(avg_depth /255.).type(torch.float32)\n",
                "    \n",
                "\n",
                "horizon_transform = transforms.RandomHorizontalFlip(1.0)\n",
                "rotate_transform = transforms.RandomRotation((180,180))\n",
                "vertical_transform = transforms.RandomVerticalFlip(1.0)\n",
                "transform = None\n",
                "\n",
                "# transform_list = [horizon_transform, rotate_transform, vertical_transform]\n",
                "\n",
                "train_dataset_original = add_train_dataset(add_train_data_path, transform)\n",
                "train_dataset_rotate = add_train_dataset(add_train_data_path, rotate_transform)\n",
                "train_dataset_vertical = add_train_dataset(add_train_data_path, vertical_transform)\n",
                "train_dataset_horizon = add_train_dataset(add_train_data_path, horizon_transform)\n",
                "\n",
                "_add_train_dataset = train_dataset_original + train_dataset_rotate + train_dataset_vertical + train_dataset_horizon\n",
                "\n",
                "add_train_dataloader = DataLoader(_add_train_dataset, \n",
                "                                  batch_size=config_dic['batch_size'], \n",
                "                                  shuffle=True, \n",
                "                                  num_workers=config_dic['num_workers'])\n",
                "\n",
                "valid_dataset_original = add_train_dataset(add_valid_data_path, transform)\n",
                "valid_dataset_rotate = add_train_dataset(add_valid_data_path, rotate_transform)\n",
                "valid_dataset_vertical = add_train_dataset(add_valid_data_path, vertical_transform)\n",
                "valid_dataset_horizon = add_train_dataset(add_valid_data_path, horizon_transform)\n",
                "\n",
                "_add_valid_dataset = valid_dataset_original + valid_dataset_rotate + valid_dataset_vertical + valid_dataset_horizon\n",
                "\n",
                "add_valid_dataloader = DataLoader(_add_valid_dataset, \n",
                "                                  batch_size=config_dic['batch_size'], \n",
                "                                  shuffle=False, \n",
                "                                  num_workers=config_dic['num_workers'])\n",
                "\n",
                "\n"
            ]
        },
        {
            "cell_type": "code",
            "execution_count": 159,
            "id": "ef2f286a",
            "metadata": {},
            "outputs": [],
            "source": [
                "# CNN classifier network\n",
                "import copy\n",
                "from tqdm import tqdm\n",
                "\n",
                "bt_model = best_model_list[0][0]\n",
                "\n",
                "# test_image = cv2.imread('/home/kji/workspace/jupyter_kji/samsumg_sem_dataset/train/SEM/Depth_110/site_00000/SEM_043510.png', cv2.IMREAD_GRAYSCALE)\n",
                "# test_image = test_image.reshape(1, 1,*test_image.shape) / 255.\n",
                "# test_tensor = torch.Tensor(test_image).type(torch.float32).to(\"cuda:5\")\n",
                "\n",
                "class CNN_classifier(nn.Module):\n",
                "    def __init__(self, AE_model):\n",
                "        super(CNN_classifier, self).__init__()\n",
                "        self.ae_model = AE_model\n",
                "#         self._model_freeze()\n",
                "        \n",
                "        self.classifier = nn.Sequential(\n",
                "            nn.Conv2d(1, 3, 3, stride=2, padding = 1),\n",
                "            nn.BatchNorm2d(3),\n",
                "            nn.ReLU(),\n",
                "            \n",
                "            nn.Conv2d(3, 3, 3, stride=2, padding = 1),\n",
                "            nn.BatchNorm2d(3),\n",
                "            nn.ReLU(),\n",
                "            \n",
                "            nn.Conv2d(3, 3, 3, stride=2, padding = 1),\n",
                "            nn.BatchNorm2d(3),\n",
                "            nn.ReLU(),\n",
                "            \n",
                "            nn.Flatten(),\n",
                "            \n",
                "            nn.Linear(in_features=162, out_features=10),\n",
                "            nn.BatchNorm1d(10),\n",
                "            nn.ReLU(),\n",
                "            nn.Linear(in_features=10, out_features=1)\n",
                "        )\n",
                "        \n",
                "    def forward(self, x):\n",
                "        x = self.ae_model(x) # N C H W = (N, 1, 72, 48)\n",
                "        x = self.classifier(x)\n",
                "\n",
                "        return x\n",
                "        \n",
                "    def _model_freeze(self):\n",
                "        for param in self.ae_model.parameters():\n",
                "            param.requires_grad = False\n",
                "\n",
                "    def pretrained_model_status_print(self):\n",
                "        for param in self.ae_model.parameters():\n",
                "            print(param.requires_grad)\n",
                "            \n",
                "    def print_model_param(self):\n",
                "        print(self.classifier[0].weight[:10])\n",
                "            \n",
                "def cnn_classifer_valid(model, criterion, epoch, valid_dataloader, device):\n",
                "    model.eval()\n",
                "    \n",
                "    with torch.no_grad():\n",
                "        valid_loss_list = []\n",
                "        for step_i, (sem_img, depth_avg) in enumerate(tqdm(iter(valid_dataloader))):\n",
                "            sem_img = sem_img.to(device)\n",
                "            depth_avg = depth_avg.to(device)\n",
                "            \n",
                "            pred = model(sem_img)\n",
                "            loss = criterion(pred, depth_avg)\n",
                "            valid_loss_list.append(loss.item())\n",
                "            \n",
                "        return np.sqrt(np.mean(valid_loss_list))\n",
                "        \n",
                "        \n",
                "# cls_model(test_tensor)\n",
                "def cnn_classifier_train(model, criterion, optimizer, schedular, epochs, train_dataloader, valid_dataloader, device):\n",
                "    \n",
                "    best_valid_rmse_loss = 9999\n",
                "    best_model = model\n",
                "    best_epoch = 0\n",
                "    best_train_loss = 9999\n",
                "    for epoch in range(epochs):\n",
                "        model.train()\n",
                "#         model.pretrained_model_status_print()\n",
                "        epoch_loss = []\n",
                "        for step_i, (sem_img, depth_avg) in enumerate(tqdm(iter(train_dataloader))):\n",
                "#             print(sem_img, depth_avg * 255)\n",
                "            sem_img = sem_img.to(device)\n",
                "            depth_avg = depth_avg.to(device)\n",
                "            \n",
                "            optimizer.zero_grad()\n",
                "            pred = model(sem_img)\n",
                "            loss = criterion(pred, depth_avg)\n",
                "            loss.backward()\n",
                "            optimizer.step()\n",
                "            \n",
                "            epoch_loss.append(loss.item())\n",
                "                \n",
                "        valid_rmse_loss = cnn_classifer_valid(model, criterion, epoch, valid_dataloader, device)\n",
                "        print(f'epoch {epoch} - train_loss:{np.mean(epoch_loss)} / valid_rmse_loss:{valid_rmse_loss}')\n",
                "        if best_valid_rmse_loss > valid_rmse_loss:\n",
                "            del best_model\n",
                "            best_model = copy.deepcopy(model)\n",
                "            best_epoch = epoch\n",
                "            best_train_loss = np.mean(epoch_loss)\n",
                "            best_valid_rmse_loss = valid_rmse_loss\n",
                "            \n",
                "    print(f'best model : epoch {best_epoch}, train_loss:{best_train_loss}, valid_rmse:{best_valid_rmse_loss}')\n",
                "    return best_model"
            ]
        },
        {
            "cell_type": "code",
            "execution_count": 124,
            "id": "0a98eb09",
            "metadata": {},
            "outputs": [
                {
                    "data": {
                        "application/vnd.jupyter.widget-view+json": {
                            "model_id": "ca4a6cf66e0a4c02a126f80a8871c885",
                            "version_major": 2,
                            "version_minor": 0
                        },
                        "text/plain": [
                            "  0%|          | 0/1517 [00:00<?, ?it/s]"
                        ]
                    },
                    "metadata": {},
                    "output_type": "display_data"
                },
                {
                    "data": {
                        "application/vnd.jupyter.widget-view+json": {
                            "model_id": "51f0bce3daf04438b3ec2fde20868188",
                            "version_major": 2,
                            "version_minor": 0
                        },
                        "text/plain": [
                            "  0%|          | 0/380 [00:00<?, ?it/s]"
                        ]
                    },
                    "metadata": {},
                    "output_type": "display_data"
                },
                {
                    "name": "stdout",
                    "output_type": "stream",
                    "text": [
                        "epoch 0 - train_loss:0.00042789562945770994 / valid_rmse_loss:0.009963577023619323\n"
                    ]
                },
                {
                    "data": {
                        "application/vnd.jupyter.widget-view+json": {
                            "model_id": "292f21440156462ab02582f383aada25",
                            "version_major": 2,
                            "version_minor": 0
                        },
                        "text/plain": [
                            "  0%|          | 0/1517 [00:00<?, ?it/s]"
                        ]
                    },
                    "metadata": {},
                    "output_type": "display_data"
                },
                {
                    "data": {
                        "application/vnd.jupyter.widget-view+json": {
                            "model_id": "63a51782ef524f6bb4393c658a80142c",
                            "version_major": 2,
                            "version_minor": 0
                        },
                        "text/plain": [
                            "  0%|          | 0/380 [00:00<?, ?it/s]"
                        ]
                    },
                    "metadata": {},
                    "output_type": "display_data"
                },
                {
                    "name": "stdout",
                    "output_type": "stream",
                    "text": [
                        "epoch 1 - train_loss:6.511216883479651e-05 / valid_rmse_loss:0.006875608291970176\n"
                    ]
                },
                {
                    "data": {
                        "application/vnd.jupyter.widget-view+json": {
                            "model_id": "bc4507cac2cf4b3ba34d26d56c95c01a",
                            "version_major": 2,
                            "version_minor": 0
                        },
                        "text/plain": [
                            "  0%|          | 0/1517 [00:00<?, ?it/s]"
                        ]
                    },
                    "metadata": {},
                    "output_type": "display_data"
                },
                {
                    "data": {
                        "application/vnd.jupyter.widget-view+json": {
                            "model_id": "4eed398cc16d457fadc58c92791cf073",
                            "version_major": 2,
                            "version_minor": 0
                        },
                        "text/plain": [
                            "  0%|          | 0/380 [00:00<?, ?it/s]"
                        ]
                    },
                    "metadata": {},
                    "output_type": "display_data"
                },
                {
                    "name": "stdout",
                    "output_type": "stream",
                    "text": [
                        "epoch 2 - train_loss:4.8111430209217684e-05 / valid_rmse_loss:0.009210258821390822\n"
                    ]
                },
                {
                    "data": {
                        "application/vnd.jupyter.widget-view+json": {
                            "model_id": "8002b502eec147eda872b97287aa83dd",
                            "version_major": 2,
                            "version_minor": 0
                        },
                        "text/plain": [
                            "  0%|          | 0/1517 [00:00<?, ?it/s]"
                        ]
                    },
                    "metadata": {},
                    "output_type": "display_data"
                },
                {
                    "data": {
                        "application/vnd.jupyter.widget-view+json": {
                            "model_id": "b58277da08e64926923a830836a1cf7e",
                            "version_major": 2,
                            "version_minor": 0
                        },
                        "text/plain": [
                            "  0%|          | 0/380 [00:00<?, ?it/s]"
                        ]
                    },
                    "metadata": {},
                    "output_type": "display_data"
                },
                {
                    "name": "stdout",
                    "output_type": "stream",
                    "text": [
                        "epoch 3 - train_loss:4.112026060140536e-05 / valid_rmse_loss:0.006538500877078811\n"
                    ]
                },
                {
                    "data": {
                        "application/vnd.jupyter.widget-view+json": {
                            "model_id": "b2b381ff23934987a9250cac86f68f0e",
                            "version_major": 2,
                            "version_minor": 0
                        },
                        "text/plain": [
                            "  0%|          | 0/1517 [00:00<?, ?it/s]"
                        ]
                    },
                    "metadata": {},
                    "output_type": "display_data"
                },
                {
                    "data": {
                        "application/vnd.jupyter.widget-view+json": {
                            "model_id": "cd7fb563e25a48f19600cd3359595815",
                            "version_major": 2,
                            "version_minor": 0
                        },
                        "text/plain": [
                            "  0%|          | 0/380 [00:00<?, ?it/s]"
                        ]
                    },
                    "metadata": {},
                    "output_type": "display_data"
                },
                {
                    "name": "stdout",
                    "output_type": "stream",
                    "text": [
                        "epoch 4 - train_loss:3.817111379079603e-05 / valid_rmse_loss:0.007305427593058483\n"
                    ]
                },
                {
                    "data": {
                        "application/vnd.jupyter.widget-view+json": {
                            "model_id": "366a596bc1ca4769bbc199d40ffd3717",
                            "version_major": 2,
                            "version_minor": 0
                        },
                        "text/plain": [
                            "  0%|          | 0/1517 [00:00<?, ?it/s]"
                        ]
                    },
                    "metadata": {},
                    "output_type": "display_data"
                },
                {
                    "data": {
                        "application/vnd.jupyter.widget-view+json": {
                            "model_id": "ac6efb0fe47240d08006fc4604a6eb8b",
                            "version_major": 2,
                            "version_minor": 0
                        },
                        "text/plain": [
                            "  0%|          | 0/380 [00:00<?, ?it/s]"
                        ]
                    },
                    "metadata": {},
                    "output_type": "display_data"
                },
                {
                    "name": "stdout",
                    "output_type": "stream",
                    "text": [
                        "epoch 5 - train_loss:3.5777263247437364e-05 / valid_rmse_loss:0.0069205061220396795\n"
                    ]
                },
                {
                    "data": {
                        "application/vnd.jupyter.widget-view+json": {
                            "model_id": "4aa7a30776b14440ac23622a52eea995",
                            "version_major": 2,
                            "version_minor": 0
                        },
                        "text/plain": [
                            "  0%|          | 0/1517 [00:00<?, ?it/s]"
                        ]
                    },
                    "metadata": {},
                    "output_type": "display_data"
                },
                {
                    "data": {
                        "application/vnd.jupyter.widget-view+json": {
                            "model_id": "6e9847461fa9495eb46b9103b4ac6523",
                            "version_major": 2,
                            "version_minor": 0
                        },
                        "text/plain": [
                            "  0%|          | 0/380 [00:00<?, ?it/s]"
                        ]
                    },
                    "metadata": {},
                    "output_type": "display_data"
                },
                {
                    "name": "stdout",
                    "output_type": "stream",
                    "text": [
                        "epoch 6 - train_loss:3.4422643021609046e-05 / valid_rmse_loss:0.007172043972992983\n"
                    ]
                },
                {
                    "data": {
                        "application/vnd.jupyter.widget-view+json": {
                            "model_id": "a81bc2921f9147839e889253fbfe89ac",
                            "version_major": 2,
                            "version_minor": 0
                        },
                        "text/plain": [
                            "  0%|          | 0/1517 [00:00<?, ?it/s]"
                        ]
                    },
                    "metadata": {},
                    "output_type": "display_data"
                },
                {
                    "data": {
                        "application/vnd.jupyter.widget-view+json": {
                            "model_id": "d05bf244ca134200ac79f309d49bd3b6",
                            "version_major": 2,
                            "version_minor": 0
                        },
                        "text/plain": [
                            "  0%|          | 0/380 [00:00<?, ?it/s]"
                        ]
                    },
                    "metadata": {},
                    "output_type": "display_data"
                },
                {
                    "name": "stdout",
                    "output_type": "stream",
                    "text": [
                        "epoch 7 - train_loss:3.433944594757567e-05 / valid_rmse_loss:0.006396519436598322\n"
                    ]
                },
                {
                    "data": {
                        "application/vnd.jupyter.widget-view+json": {
                            "model_id": "92328a8c88f14071bc2c48101085c8ac",
                            "version_major": 2,
                            "version_minor": 0
                        },
                        "text/plain": [
                            "  0%|          | 0/1517 [00:00<?, ?it/s]"
                        ]
                    },
                    "metadata": {},
                    "output_type": "display_data"
                },
                {
                    "data": {
                        "application/vnd.jupyter.widget-view+json": {
                            "model_id": "a4426e28d4f641d78a93b7649d42c304",
                            "version_major": 2,
                            "version_minor": 0
                        },
                        "text/plain": [
                            "  0%|          | 0/380 [00:00<?, ?it/s]"
                        ]
                    },
                    "metadata": {},
                    "output_type": "display_data"
                },
                {
                    "name": "stdout",
                    "output_type": "stream",
                    "text": [
                        "epoch 8 - train_loss:3.310590400552376e-05 / valid_rmse_loss:0.00573273254575272\n"
                    ]
                },
                {
                    "data": {
                        "application/vnd.jupyter.widget-view+json": {
                            "model_id": "a82ca1e2412846fd9a480b4edd6a5a8b",
                            "version_major": 2,
                            "version_minor": 0
                        },
                        "text/plain": [
                            "  0%|          | 0/1517 [00:00<?, ?it/s]"
                        ]
                    },
                    "metadata": {},
                    "output_type": "display_data"
                },
                {
                    "data": {
                        "application/vnd.jupyter.widget-view+json": {
                            "model_id": "1a92246cdaa140c5993ed39569fecaad",
                            "version_major": 2,
                            "version_minor": 0
                        },
                        "text/plain": [
                            "  0%|          | 0/380 [00:00<?, ?it/s]"
                        ]
                    },
                    "metadata": {},
                    "output_type": "display_data"
                },
                {
                    "name": "stdout",
                    "output_type": "stream",
                    "text": [
                        "epoch 9 - train_loss:3.243637321327399e-05 / valid_rmse_loss:0.011572068786572824\n"
                    ]
                },
                {
                    "data": {
                        "application/vnd.jupyter.widget-view+json": {
                            "model_id": "fad43f1b3e5f4227bb17086ad758508a",
                            "version_major": 2,
                            "version_minor": 0
                        },
                        "text/plain": [
                            "  0%|          | 0/1517 [00:00<?, ?it/s]"
                        ]
                    },
                    "metadata": {},
                    "output_type": "display_data"
                },
                {
                    "data": {
                        "application/vnd.jupyter.widget-view+json": {
                            "model_id": "84c3473053fb4772a91dc52b5e93ac21",
                            "version_major": 2,
                            "version_minor": 0
                        },
                        "text/plain": [
                            "  0%|          | 0/380 [00:00<?, ?it/s]"
                        ]
                    },
                    "metadata": {},
                    "output_type": "display_data"
                },
                {
                    "name": "stdout",
                    "output_type": "stream",
                    "text": [
                        "epoch 10 - train_loss:3.233900864470031e-05 / valid_rmse_loss:0.0065054051540433516\n"
                    ]
                },
                {
                    "data": {
                        "application/vnd.jupyter.widget-view+json": {
                            "model_id": "8bd84b0efe64424a9a275f7ff20eb146",
                            "version_major": 2,
                            "version_minor": 0
                        },
                        "text/plain": [
                            "  0%|          | 0/1517 [00:00<?, ?it/s]"
                        ]
                    },
                    "metadata": {},
                    "output_type": "display_data"
                },
                {
                    "data": {
                        "application/vnd.jupyter.widget-view+json": {
                            "model_id": "d1ab72abe1854d6fbb51e7aa4e4c736a",
                            "version_major": 2,
                            "version_minor": 0
                        },
                        "text/plain": [
                            "  0%|          | 0/380 [00:00<?, ?it/s]"
                        ]
                    },
                    "metadata": {},
                    "output_type": "display_data"
                },
                {
                    "name": "stdout",
                    "output_type": "stream",
                    "text": [
                        "epoch 11 - train_loss:3.188449657175966e-05 / valid_rmse_loss:0.00953321416021577\n"
                    ]
                },
                {
                    "data": {
                        "application/vnd.jupyter.widget-view+json": {
                            "model_id": "11a20489c6ae400a8b96be7dbadd1b61",
                            "version_major": 2,
                            "version_minor": 0
                        },
                        "text/plain": [
                            "  0%|          | 0/1517 [00:00<?, ?it/s]"
                        ]
                    },
                    "metadata": {},
                    "output_type": "display_data"
                },
                {
                    "data": {
                        "application/vnd.jupyter.widget-view+json": {
                            "model_id": "35f9c9ea70eb426bb638ced790e99819",
                            "version_major": 2,
                            "version_minor": 0
                        },
                        "text/plain": [
                            "  0%|          | 0/380 [00:00<?, ?it/s]"
                        ]
                    },
                    "metadata": {},
                    "output_type": "display_data"
                },
                {
                    "name": "stdout",
                    "output_type": "stream",
                    "text": [
                        "epoch 12 - train_loss:3.1768361349120396e-05 / valid_rmse_loss:0.0094111175755728\n"
                    ]
                },
                {
                    "data": {
                        "application/vnd.jupyter.widget-view+json": {
                            "model_id": "b6089bdd252349eca9e03345b7fb4e6d",
                            "version_major": 2,
                            "version_minor": 0
                        },
                        "text/plain": [
                            "  0%|          | 0/1517 [00:00<?, ?it/s]"
                        ]
                    },
                    "metadata": {},
                    "output_type": "display_data"
                },
                {
                    "data": {
                        "application/vnd.jupyter.widget-view+json": {
                            "model_id": "4e8e8e76d7e6450ea6bd89ade842b3d6",
                            "version_major": 2,
                            "version_minor": 0
                        },
                        "text/plain": [
                            "  0%|          | 0/380 [00:00<?, ?it/s]"
                        ]
                    },
                    "metadata": {},
                    "output_type": "display_data"
                },
                {
                    "name": "stdout",
                    "output_type": "stream",
                    "text": [
                        "epoch 13 - train_loss:3.1296242349662534e-05 / valid_rmse_loss:0.0061132458933903806\n"
                    ]
                },
                {
                    "data": {
                        "application/vnd.jupyter.widget-view+json": {
                            "model_id": "a24f8ddb308e4cb2b110cad22e1f3e2c",
                            "version_major": 2,
                            "version_minor": 0
                        },
                        "text/plain": [
                            "  0%|          | 0/1517 [00:00<?, ?it/s]"
                        ]
                    },
                    "metadata": {},
                    "output_type": "display_data"
                },
                {
                    "data": {
                        "application/vnd.jupyter.widget-view+json": {
                            "model_id": "336ee7065d5a4761925b8c35078b505b",
                            "version_major": 2,
                            "version_minor": 0
                        },
                        "text/plain": [
                            "  0%|          | 0/380 [00:00<?, ?it/s]"
                        ]
                    },
                    "metadata": {},
                    "output_type": "display_data"
                },
                {
                    "name": "stdout",
                    "output_type": "stream",
                    "text": [
                        "epoch 14 - train_loss:3.163416694907707e-05 / valid_rmse_loss:0.009480881109137576\n"
                    ]
                },
                {
                    "data": {
                        "application/vnd.jupyter.widget-view+json": {
                            "model_id": "26ca792a89634b17ae67878f93b6f6ce",
                            "version_major": 2,
                            "version_minor": 0
                        },
                        "text/plain": [
                            "  0%|          | 0/1517 [00:00<?, ?it/s]"
                        ]
                    },
                    "metadata": {},
                    "output_type": "display_data"
                },
                {
                    "data": {
                        "application/vnd.jupyter.widget-view+json": {
                            "model_id": "948f2382fd2343d39e4924635eab1ce9",
                            "version_major": 2,
                            "version_minor": 0
                        },
                        "text/plain": [
                            "  0%|          | 0/380 [00:00<?, ?it/s]"
                        ]
                    },
                    "metadata": {},
                    "output_type": "display_data"
                },
                {
                    "name": "stdout",
                    "output_type": "stream",
                    "text": [
                        "epoch 15 - train_loss:3.113907229806023e-05 / valid_rmse_loss:0.006338040348669597\n"
                    ]
                },
                {
                    "data": {
                        "application/vnd.jupyter.widget-view+json": {
                            "model_id": "4f8c6ec4450b432bb16b44d6c838a00a",
                            "version_major": 2,
                            "version_minor": 0
                        },
                        "text/plain": [
                            "  0%|          | 0/1517 [00:00<?, ?it/s]"
                        ]
                    },
                    "metadata": {},
                    "output_type": "display_data"
                },
                {
                    "data": {
                        "application/vnd.jupyter.widget-view+json": {
                            "model_id": "401124e3150242e2acc3a2424c54d6dc",
                            "version_major": 2,
                            "version_minor": 0
                        },
                        "text/plain": [
                            "  0%|          | 0/380 [00:00<?, ?it/s]"
                        ]
                    },
                    "metadata": {},
                    "output_type": "display_data"
                },
                {
                    "name": "stdout",
                    "output_type": "stream",
                    "text": [
                        "epoch 16 - train_loss:3.105591238680773e-05 / valid_rmse_loss:0.009887568156075095\n"
                    ]
                },
                {
                    "data": {
                        "application/vnd.jupyter.widget-view+json": {
                            "model_id": "e04015be1eea463ab51dad234eacc0f8",
                            "version_major": 2,
                            "version_minor": 0
                        },
                        "text/plain": [
                            "  0%|          | 0/1517 [00:00<?, ?it/s]"
                        ]
                    },
                    "metadata": {},
                    "output_type": "display_data"
                },
                {
                    "data": {
                        "application/vnd.jupyter.widget-view+json": {
                            "model_id": "e46e5312d15c4c43a80d89bfd400469f",
                            "version_major": 2,
                            "version_minor": 0
                        },
                        "text/plain": [
                            "  0%|          | 0/380 [00:00<?, ?it/s]"
                        ]
                    },
                    "metadata": {},
                    "output_type": "display_data"
                },
                {
                    "name": "stdout",
                    "output_type": "stream",
                    "text": [
                        "epoch 17 - train_loss:3.1060760735792595e-05 / valid_rmse_loss:0.005259317079464335\n"
                    ]
                },
                {
                    "data": {
                        "application/vnd.jupyter.widget-view+json": {
                            "model_id": "5208ada75845474a8749130e822e4b60",
                            "version_major": 2,
                            "version_minor": 0
                        },
                        "text/plain": [
                            "  0%|          | 0/1517 [00:00<?, ?it/s]"
                        ]
                    },
                    "metadata": {},
                    "output_type": "display_data"
                },
                {
                    "data": {
                        "application/vnd.jupyter.widget-view+json": {
                            "model_id": "dbfff5ea4d55441e862748ae293a3913",
                            "version_major": 2,
                            "version_minor": 0
                        },
                        "text/plain": [
                            "  0%|          | 0/380 [00:00<?, ?it/s]"
                        ]
                    },
                    "metadata": {},
                    "output_type": "display_data"
                },
                {
                    "name": "stdout",
                    "output_type": "stream",
                    "text": [
                        "epoch 18 - train_loss:3.048721782011858e-05 / valid_rmse_loss:0.006656906692814438\n"
                    ]
                },
                {
                    "data": {
                        "application/vnd.jupyter.widget-view+json": {
                            "model_id": "d6cad3a5ba934003878882b3868f7bdb",
                            "version_major": 2,
                            "version_minor": 0
                        },
                        "text/plain": [
                            "  0%|          | 0/1517 [00:00<?, ?it/s]"
                        ]
                    },
                    "metadata": {},
                    "output_type": "display_data"
                },
                {
                    "data": {
                        "application/vnd.jupyter.widget-view+json": {
                            "model_id": "3feb84bcfc684eb6b17575a646f2213e",
                            "version_major": 2,
                            "version_minor": 0
                        },
                        "text/plain": [
                            "  0%|          | 0/380 [00:00<?, ?it/s]"
                        ]
                    },
                    "metadata": {},
                    "output_type": "display_data"
                },
                {
                    "name": "stdout",
                    "output_type": "stream",
                    "text": [
                        "epoch 19 - train_loss:3.0237956807546376e-05 / valid_rmse_loss:0.014897796002555077\n"
                    ]
                },
                {
                    "data": {
                        "application/vnd.jupyter.widget-view+json": {
                            "model_id": "f1f10156bdd347c78834a226cf602855",
                            "version_major": 2,
                            "version_minor": 0
                        },
                        "text/plain": [
                            "  0%|          | 0/1517 [00:00<?, ?it/s]"
                        ]
                    },
                    "metadata": {},
                    "output_type": "display_data"
                },
                {
                    "data": {
                        "application/vnd.jupyter.widget-view+json": {
                            "model_id": "e9b1b3cb35f4410585f668627960c609",
                            "version_major": 2,
                            "version_minor": 0
                        },
                        "text/plain": [
                            "  0%|          | 0/380 [00:00<?, ?it/s]"
                        ]
                    },
                    "metadata": {},
                    "output_type": "display_data"
                },
                {
                    "name": "stdout",
                    "output_type": "stream",
                    "text": [
                        "epoch 20 - train_loss:3.044074347660987e-05 / valid_rmse_loss:0.0057128976181264205\n"
                    ]
                },
                {
                    "data": {
                        "application/vnd.jupyter.widget-view+json": {
                            "model_id": "bea54d4f8d9348ee8977b752880fabc5",
                            "version_major": 2,
                            "version_minor": 0
                        },
                        "text/plain": [
                            "  0%|          | 0/1517 [00:00<?, ?it/s]"
                        ]
                    },
                    "metadata": {},
                    "output_type": "display_data"
                },
                {
                    "data": {
                        "application/vnd.jupyter.widget-view+json": {
                            "model_id": "2b7cf9e5358f4e54bfd3e9650807486d",
                            "version_major": 2,
                            "version_minor": 0
                        },
                        "text/plain": [
                            "  0%|          | 0/380 [00:00<?, ?it/s]"
                        ]
                    },
                    "metadata": {},
                    "output_type": "display_data"
                },
                {
                    "name": "stdout",
                    "output_type": "stream",
                    "text": [
                        "epoch 21 - train_loss:3.015674341999666e-05 / valid_rmse_loss:0.008381373869090518\n"
                    ]
                },
                {
                    "data": {
                        "application/vnd.jupyter.widget-view+json": {
                            "model_id": "4bdd16cebb1544588309fcf70a22b62d",
                            "version_major": 2,
                            "version_minor": 0
                        },
                        "text/plain": [
                            "  0%|          | 0/1517 [00:00<?, ?it/s]"
                        ]
                    },
                    "metadata": {},
                    "output_type": "display_data"
                },
                {
                    "data": {
                        "application/vnd.jupyter.widget-view+json": {
                            "model_id": "269cae7388004e569644863c8212b0f9",
                            "version_major": 2,
                            "version_minor": 0
                        },
                        "text/plain": [
                            "  0%|          | 0/380 [00:00<?, ?it/s]"
                        ]
                    },
                    "metadata": {},
                    "output_type": "display_data"
                },
                {
                    "name": "stdout",
                    "output_type": "stream",
                    "text": [
                        "epoch 22 - train_loss:2.991029082754071e-05 / valid_rmse_loss:0.006285323891784898\n"
                    ]
                },
                {
                    "data": {
                        "application/vnd.jupyter.widget-view+json": {
                            "model_id": "42756139202c484390649347a8a6ba35",
                            "version_major": 2,
                            "version_minor": 0
                        },
                        "text/plain": [
                            "  0%|          | 0/1517 [00:00<?, ?it/s]"
                        ]
                    },
                    "metadata": {},
                    "output_type": "display_data"
                },
                {
                    "data": {
                        "application/vnd.jupyter.widget-view+json": {
                            "model_id": "1214f7d188044dabab61d1f66d806bfb",
                            "version_major": 2,
                            "version_minor": 0
                        },
                        "text/plain": [
                            "  0%|          | 0/380 [00:00<?, ?it/s]"
                        ]
                    },
                    "metadata": {},
                    "output_type": "display_data"
                },
                {
                    "name": "stdout",
                    "output_type": "stream",
                    "text": [
                        "epoch 23 - train_loss:2.9841018673760022e-05 / valid_rmse_loss:0.007978196853752208\n"
                    ]
                },
                {
                    "data": {
                        "application/vnd.jupyter.widget-view+json": {
                            "model_id": "1cc5116ebe7745879bd356c3307138db",
                            "version_major": 2,
                            "version_minor": 0
                        },
                        "text/plain": [
                            "  0%|          | 0/1517 [00:00<?, ?it/s]"
                        ]
                    },
                    "metadata": {},
                    "output_type": "display_data"
                },
                {
                    "data": {
                        "application/vnd.jupyter.widget-view+json": {
                            "model_id": "f241ab08158a4720ae12512dd832ae59",
                            "version_major": 2,
                            "version_minor": 0
                        },
                        "text/plain": [
                            "  0%|          | 0/380 [00:00<?, ?it/s]"
                        ]
                    },
                    "metadata": {},
                    "output_type": "display_data"
                },
                {
                    "name": "stdout",
                    "output_type": "stream",
                    "text": [
                        "epoch 24 - train_loss:2.9449104980802197e-05 / valid_rmse_loss:0.007373386179234654\n"
                    ]
                },
                {
                    "data": {
                        "application/vnd.jupyter.widget-view+json": {
                            "model_id": "c9408a2d3b7847e080bdbc0b8f2301ae",
                            "version_major": 2,
                            "version_minor": 0
                        },
                        "text/plain": [
                            "  0%|          | 0/1517 [00:00<?, ?it/s]"
                        ]
                    },
                    "metadata": {},
                    "output_type": "display_data"
                },
                {
                    "data": {
                        "application/vnd.jupyter.widget-view+json": {
                            "model_id": "4afa92d6b1a24211947ff5078ce208cd",
                            "version_major": 2,
                            "version_minor": 0
                        },
                        "text/plain": [
                            "  0%|          | 0/380 [00:00<?, ?it/s]"
                        ]
                    },
                    "metadata": {},
                    "output_type": "display_data"
                },
                {
                    "name": "stdout",
                    "output_type": "stream",
                    "text": [
                        "epoch 25 - train_loss:2.948313605905906e-05 / valid_rmse_loss:0.005975487141651239\n"
                    ]
                },
                {
                    "data": {
                        "application/vnd.jupyter.widget-view+json": {
                            "model_id": "24b022ffd0ce44a283289060882b73dd",
                            "version_major": 2,
                            "version_minor": 0
                        },
                        "text/plain": [
                            "  0%|          | 0/1517 [00:00<?, ?it/s]"
                        ]
                    },
                    "metadata": {},
                    "output_type": "display_data"
                },
                {
                    "data": {
                        "application/vnd.jupyter.widget-view+json": {
                            "model_id": "592650d7c7944173a3513b53cf38bc2b",
                            "version_major": 2,
                            "version_minor": 0
                        },
                        "text/plain": [
                            "  0%|          | 0/380 [00:00<?, ?it/s]"
                        ]
                    },
                    "metadata": {},
                    "output_type": "display_data"
                },
                {
                    "name": "stdout",
                    "output_type": "stream",
                    "text": [
                        "epoch 26 - train_loss:2.9604797526186343e-05 / valid_rmse_loss:0.007932075429985237\n"
                    ]
                },
                {
                    "data": {
                        "application/vnd.jupyter.widget-view+json": {
                            "model_id": "0e0d5c4a24a340e4bcad01b07289de75",
                            "version_major": 2,
                            "version_minor": 0
                        },
                        "text/plain": [
                            "  0%|          | 0/1517 [00:00<?, ?it/s]"
                        ]
                    },
                    "metadata": {},
                    "output_type": "display_data"
                },
                {
                    "data": {
                        "application/vnd.jupyter.widget-view+json": {
                            "model_id": "a24443f7574242b88c9c6495babb6a84",
                            "version_major": 2,
                            "version_minor": 0
                        },
                        "text/plain": [
                            "  0%|          | 0/380 [00:00<?, ?it/s]"
                        ]
                    },
                    "metadata": {},
                    "output_type": "display_data"
                },
                {
                    "name": "stdout",
                    "output_type": "stream",
                    "text": [
                        "epoch 27 - train_loss:2.9325749149626453e-05 / valid_rmse_loss:0.005267205065260865\n"
                    ]
                },
                {
                    "data": {
                        "application/vnd.jupyter.widget-view+json": {
                            "model_id": "8b32f44e45ca4d4b861cd6ca27285ef8",
                            "version_major": 2,
                            "version_minor": 0
                        },
                        "text/plain": [
                            "  0%|          | 0/1517 [00:00<?, ?it/s]"
                        ]
                    },
                    "metadata": {},
                    "output_type": "display_data"
                },
                {
                    "data": {
                        "application/vnd.jupyter.widget-view+json": {
                            "model_id": "927c058859184096bc0401eb5ed8aedd",
                            "version_major": 2,
                            "version_minor": 0
                        },
                        "text/plain": [
                            "  0%|          | 0/380 [00:00<?, ?it/s]"
                        ]
                    },
                    "metadata": {},
                    "output_type": "display_data"
                },
                {
                    "name": "stdout",
                    "output_type": "stream",
                    "text": [
                        "epoch 28 - train_loss:2.9578816926315505e-05 / valid_rmse_loss:0.005853099139207574\n"
                    ]
                },
                {
                    "data": {
                        "application/vnd.jupyter.widget-view+json": {
                            "model_id": "2fb05931feea44e2a6de83cb0c0cccec",
                            "version_major": 2,
                            "version_minor": 0
                        },
                        "text/plain": [
                            "  0%|          | 0/1517 [00:00<?, ?it/s]"
                        ]
                    },
                    "metadata": {},
                    "output_type": "display_data"
                },
                {
                    "data": {
                        "application/vnd.jupyter.widget-view+json": {
                            "model_id": "5088c0a6ffbb4e1fbd527008c0d1e6ed",
                            "version_major": 2,
                            "version_minor": 0
                        },
                        "text/plain": [
                            "  0%|          | 0/380 [00:00<?, ?it/s]"
                        ]
                    },
                    "metadata": {},
                    "output_type": "display_data"
                },
                {
                    "name": "stdout",
                    "output_type": "stream",
                    "text": [
                        "epoch 29 - train_loss:2.9327124945918987e-05 / valid_rmse_loss:0.0077839856121018425\n"
                    ]
                },
                {
                    "data": {
                        "application/vnd.jupyter.widget-view+json": {
                            "model_id": "cb30707750944b519078350f14821949",
                            "version_major": 2,
                            "version_minor": 0
                        },
                        "text/plain": [
                            "  0%|          | 0/1517 [00:00<?, ?it/s]"
                        ]
                    },
                    "metadata": {},
                    "output_type": "display_data"
                },
                {
                    "data": {
                        "application/vnd.jupyter.widget-view+json": {
                            "model_id": "861503cc0084437c9529f0f543cb7984",
                            "version_major": 2,
                            "version_minor": 0
                        },
                        "text/plain": [
                            "  0%|          | 0/380 [00:00<?, ?it/s]"
                        ]
                    },
                    "metadata": {},
                    "output_type": "display_data"
                },
                {
                    "name": "stdout",
                    "output_type": "stream",
                    "text": [
                        "epoch 30 - train_loss:2.9626006052921643e-05 / valid_rmse_loss:0.006069912228313717\n"
                    ]
                },
                {
                    "data": {
                        "application/vnd.jupyter.widget-view+json": {
                            "model_id": "4fb207f7478a439c884f29c5581c0941",
                            "version_major": 2,
                            "version_minor": 0
                        },
                        "text/plain": [
                            "  0%|          | 0/1517 [00:00<?, ?it/s]"
                        ]
                    },
                    "metadata": {},
                    "output_type": "display_data"
                },
                {
                    "data": {
                        "application/vnd.jupyter.widget-view+json": {
                            "model_id": "9ca4383fb7cd4bd9a6ccaa1d8a6e760e",
                            "version_major": 2,
                            "version_minor": 0
                        },
                        "text/plain": [
                            "  0%|          | 0/380 [00:00<?, ?it/s]"
                        ]
                    },
                    "metadata": {},
                    "output_type": "display_data"
                },
                {
                    "name": "stdout",
                    "output_type": "stream",
                    "text": [
                        "epoch 31 - train_loss:2.9113876202822344e-05 / valid_rmse_loss:0.006152680050143286\n"
                    ]
                },
                {
                    "data": {
                        "application/vnd.jupyter.widget-view+json": {
                            "model_id": "317eeaf5762e4d0f8a76535e5ac1a329",
                            "version_major": 2,
                            "version_minor": 0
                        },
                        "text/plain": [
                            "  0%|          | 0/1517 [00:00<?, ?it/s]"
                        ]
                    },
                    "metadata": {},
                    "output_type": "display_data"
                },
                {
                    "data": {
                        "application/vnd.jupyter.widget-view+json": {
                            "model_id": "9aceb3baffce4bc7b8d3489b88ac6500",
                            "version_major": 2,
                            "version_minor": 0
                        },
                        "text/plain": [
                            "  0%|          | 0/380 [00:00<?, ?it/s]"
                        ]
                    },
                    "metadata": {},
                    "output_type": "display_data"
                },
                {
                    "name": "stdout",
                    "output_type": "stream",
                    "text": [
                        "epoch 32 - train_loss:2.8880464606687596e-05 / valid_rmse_loss:0.007614831434321042\n"
                    ]
                },
                {
                    "data": {
                        "application/vnd.jupyter.widget-view+json": {
                            "model_id": "0aab016be12e49a8880dda1c2df572c8",
                            "version_major": 2,
                            "version_minor": 0
                        },
                        "text/plain": [
                            "  0%|          | 0/1517 [00:00<?, ?it/s]"
                        ]
                    },
                    "metadata": {},
                    "output_type": "display_data"
                },
                {
                    "data": {
                        "application/vnd.jupyter.widget-view+json": {
                            "model_id": "5cef5306f9104ee4bebb7224f22da895",
                            "version_major": 2,
                            "version_minor": 0
                        },
                        "text/plain": [
                            "  0%|          | 0/380 [00:00<?, ?it/s]"
                        ]
                    },
                    "metadata": {},
                    "output_type": "display_data"
                },
                {
                    "name": "stdout",
                    "output_type": "stream",
                    "text": [
                        "epoch 33 - train_loss:2.89155073656027e-05 / valid_rmse_loss:0.0056523709505922025\n"
                    ]
                },
                {
                    "data": {
                        "application/vnd.jupyter.widget-view+json": {
                            "model_id": "50ecb66143ac4535af361979634ae07d",
                            "version_major": 2,
                            "version_minor": 0
                        },
                        "text/plain": [
                            "  0%|          | 0/1517 [00:00<?, ?it/s]"
                        ]
                    },
                    "metadata": {},
                    "output_type": "display_data"
                },
                {
                    "data": {
                        "application/vnd.jupyter.widget-view+json": {
                            "model_id": "c3cd82eb08e14f32b9e15ad4f971e677",
                            "version_major": 2,
                            "version_minor": 0
                        },
                        "text/plain": [
                            "  0%|          | 0/380 [00:00<?, ?it/s]"
                        ]
                    },
                    "metadata": {},
                    "output_type": "display_data"
                },
                {
                    "name": "stdout",
                    "output_type": "stream",
                    "text": [
                        "epoch 34 - train_loss:2.892760334596828e-05 / valid_rmse_loss:0.006115826546372229\n"
                    ]
                },
                {
                    "data": {
                        "application/vnd.jupyter.widget-view+json": {
                            "model_id": "7cc2a2f17edf4c99ab8f310faf101194",
                            "version_major": 2,
                            "version_minor": 0
                        },
                        "text/plain": [
                            "  0%|          | 0/1517 [00:00<?, ?it/s]"
                        ]
                    },
                    "metadata": {},
                    "output_type": "display_data"
                },
                {
                    "data": {
                        "application/vnd.jupyter.widget-view+json": {
                            "model_id": "9d84103fb8fd45cb85486f0f8a95c3be",
                            "version_major": 2,
                            "version_minor": 0
                        },
                        "text/plain": [
                            "  0%|          | 0/380 [00:00<?, ?it/s]"
                        ]
                    },
                    "metadata": {},
                    "output_type": "display_data"
                },
                {
                    "name": "stdout",
                    "output_type": "stream",
                    "text": [
                        "epoch 35 - train_loss:2.9008826897436043e-05 / valid_rmse_loss:0.005624712056747486\n"
                    ]
                },
                {
                    "data": {
                        "application/vnd.jupyter.widget-view+json": {
                            "model_id": "468ef19d88034ae983cd29d0a03b9d52",
                            "version_major": 2,
                            "version_minor": 0
                        },
                        "text/plain": [
                            "  0%|          | 0/1517 [00:00<?, ?it/s]"
                        ]
                    },
                    "metadata": {},
                    "output_type": "display_data"
                },
                {
                    "data": {
                        "application/vnd.jupyter.widget-view+json": {
                            "model_id": "7596942a330c44c5867361c3b1016d5f",
                            "version_major": 2,
                            "version_minor": 0
                        },
                        "text/plain": [
                            "  0%|          | 0/380 [00:00<?, ?it/s]"
                        ]
                    },
                    "metadata": {},
                    "output_type": "display_data"
                },
                {
                    "name": "stdout",
                    "output_type": "stream",
                    "text": [
                        "epoch 36 - train_loss:2.9284601687208808e-05 / valid_rmse_loss:0.005522624997294219\n"
                    ]
                },
                {
                    "data": {
                        "application/vnd.jupyter.widget-view+json": {
                            "model_id": "b7cd899fc7c04ffe9a661731e0f63e36",
                            "version_major": 2,
                            "version_minor": 0
                        },
                        "text/plain": [
                            "  0%|          | 0/1517 [00:00<?, ?it/s]"
                        ]
                    },
                    "metadata": {},
                    "output_type": "display_data"
                },
                {
                    "data": {
                        "application/vnd.jupyter.widget-view+json": {
                            "model_id": "cc3c1dcfd8584afdb29d9005125b2c5e",
                            "version_major": 2,
                            "version_minor": 0
                        },
                        "text/plain": [
                            "  0%|          | 0/380 [00:00<?, ?it/s]"
                        ]
                    },
                    "metadata": {},
                    "output_type": "display_data"
                },
                {
                    "name": "stdout",
                    "output_type": "stream",
                    "text": [
                        "epoch 37 - train_loss:2.8970993432867414e-05 / valid_rmse_loss:0.010222256082961874\n"
                    ]
                },
                {
                    "data": {
                        "application/vnd.jupyter.widget-view+json": {
                            "model_id": "c806504e9d4a4be29872968438d78a2a",
                            "version_major": 2,
                            "version_minor": 0
                        },
                        "text/plain": [
                            "  0%|          | 0/1517 [00:00<?, ?it/s]"
                        ]
                    },
                    "metadata": {},
                    "output_type": "display_data"
                },
                {
                    "data": {
                        "application/vnd.jupyter.widget-view+json": {
                            "model_id": "45adad8efddb4e8aa9e6a890061519a0",
                            "version_major": 2,
                            "version_minor": 0
                        },
                        "text/plain": [
                            "  0%|          | 0/380 [00:00<?, ?it/s]"
                        ]
                    },
                    "metadata": {},
                    "output_type": "display_data"
                },
                {
                    "name": "stdout",
                    "output_type": "stream",
                    "text": [
                        "epoch 38 - train_loss:2.8735691051205837e-05 / valid_rmse_loss:0.0068228631035924655\n"
                    ]
                },
                {
                    "data": {
                        "application/vnd.jupyter.widget-view+json": {
                            "model_id": "90155f985530475f9ba3ae1bbfc82ac7",
                            "version_major": 2,
                            "version_minor": 0
                        },
                        "text/plain": [
                            "  0%|          | 0/1517 [00:00<?, ?it/s]"
                        ]
                    },
                    "metadata": {},
                    "output_type": "display_data"
                },
                {
                    "data": {
                        "application/vnd.jupyter.widget-view+json": {
                            "model_id": "09c3db0839d54052bbfa5a6aa8c95b8f",
                            "version_major": 2,
                            "version_minor": 0
                        },
                        "text/plain": [
                            "  0%|          | 0/380 [00:00<?, ?it/s]"
                        ]
                    },
                    "metadata": {},
                    "output_type": "display_data"
                },
                {
                    "name": "stdout",
                    "output_type": "stream",
                    "text": [
                        "epoch 39 - train_loss:2.877175870693027e-05 / valid_rmse_loss:0.008919288491513579\n"
                    ]
                },
                {
                    "data": {
                        "application/vnd.jupyter.widget-view+json": {
                            "model_id": "b056861cfeda42b3a0e2a6df5193eebc",
                            "version_major": 2,
                            "version_minor": 0
                        },
                        "text/plain": [
                            "  0%|          | 0/1517 [00:00<?, ?it/s]"
                        ]
                    },
                    "metadata": {},
                    "output_type": "display_data"
                },
                {
                    "data": {
                        "application/vnd.jupyter.widget-view+json": {
                            "model_id": "f08cebbe872742108e21c41bba939fa4",
                            "version_major": 2,
                            "version_minor": 0
                        },
                        "text/plain": [
                            "  0%|          | 0/380 [00:00<?, ?it/s]"
                        ]
                    },
                    "metadata": {},
                    "output_type": "display_data"
                },
                {
                    "name": "stdout",
                    "output_type": "stream",
                    "text": [
                        "epoch 40 - train_loss:2.860742323759192e-05 / valid_rmse_loss:0.005363933048522057\n"
                    ]
                },
                {
                    "data": {
                        "application/vnd.jupyter.widget-view+json": {
                            "model_id": "d2b36ced3fda4264932f053e9aef03da",
                            "version_major": 2,
                            "version_minor": 0
                        },
                        "text/plain": [
                            "  0%|          | 0/1517 [00:00<?, ?it/s]"
                        ]
                    },
                    "metadata": {},
                    "output_type": "display_data"
                },
                {
                    "data": {
                        "application/vnd.jupyter.widget-view+json": {
                            "model_id": "439fe2ef6deb4e6abc164b3505f2b162",
                            "version_major": 2,
                            "version_minor": 0
                        },
                        "text/plain": [
                            "  0%|          | 0/380 [00:00<?, ?it/s]"
                        ]
                    },
                    "metadata": {},
                    "output_type": "display_data"
                },
                {
                    "name": "stdout",
                    "output_type": "stream",
                    "text": [
                        "epoch 41 - train_loss:2.8487965838845754e-05 / valid_rmse_loss:0.005658352177673569\n"
                    ]
                },
                {
                    "data": {
                        "application/vnd.jupyter.widget-view+json": {
                            "model_id": "8dbc9f0bc0454b0c805063733ba2815c",
                            "version_major": 2,
                            "version_minor": 0
                        },
                        "text/plain": [
                            "  0%|          | 0/1517 [00:00<?, ?it/s]"
                        ]
                    },
                    "metadata": {},
                    "output_type": "display_data"
                },
                {
                    "data": {
                        "application/vnd.jupyter.widget-view+json": {
                            "model_id": "497b5a4aaf134842a5fe85f30fb1ec63",
                            "version_major": 2,
                            "version_minor": 0
                        },
                        "text/plain": [
                            "  0%|          | 0/380 [00:00<?, ?it/s]"
                        ]
                    },
                    "metadata": {},
                    "output_type": "display_data"
                },
                {
                    "name": "stdout",
                    "output_type": "stream",
                    "text": [
                        "epoch 42 - train_loss:2.8792015459151098e-05 / valid_rmse_loss:0.006612417088814803\n"
                    ]
                },
                {
                    "data": {
                        "application/vnd.jupyter.widget-view+json": {
                            "model_id": "b8944e6391a7437fa23258d0af60782c",
                            "version_major": 2,
                            "version_minor": 0
                        },
                        "text/plain": [
                            "  0%|          | 0/1517 [00:00<?, ?it/s]"
                        ]
                    },
                    "metadata": {},
                    "output_type": "display_data"
                },
                {
                    "data": {
                        "application/vnd.jupyter.widget-view+json": {
                            "model_id": "150b07bacc0b4c769b59f4189a06123e",
                            "version_major": 2,
                            "version_minor": 0
                        },
                        "text/plain": [
                            "  0%|          | 0/380 [00:00<?, ?it/s]"
                        ]
                    },
                    "metadata": {},
                    "output_type": "display_data"
                },
                {
                    "name": "stdout",
                    "output_type": "stream",
                    "text": [
                        "epoch 43 - train_loss:2.876010531654342e-05 / valid_rmse_loss:0.007651922624506654\n"
                    ]
                },
                {
                    "data": {
                        "application/vnd.jupyter.widget-view+json": {
                            "model_id": "ffb3f9e8735946999ed10e6ecf0e9361",
                            "version_major": 2,
                            "version_minor": 0
                        },
                        "text/plain": [
                            "  0%|          | 0/1517 [00:00<?, ?it/s]"
                        ]
                    },
                    "metadata": {},
                    "output_type": "display_data"
                },
                {
                    "data": {
                        "application/vnd.jupyter.widget-view+json": {
                            "model_id": "e066567e53f14d9ab913c214a4b754b3",
                            "version_major": 2,
                            "version_minor": 0
                        },
                        "text/plain": [
                            "  0%|          | 0/380 [00:00<?, ?it/s]"
                        ]
                    },
                    "metadata": {},
                    "output_type": "display_data"
                },
                {
                    "name": "stdout",
                    "output_type": "stream",
                    "text": [
                        "epoch 44 - train_loss:2.8449162437447226e-05 / valid_rmse_loss:0.010895656760306556\n"
                    ]
                },
                {
                    "data": {
                        "application/vnd.jupyter.widget-view+json": {
                            "model_id": "36d0a775eb5f4b158971f3a6b358882e",
                            "version_major": 2,
                            "version_minor": 0
                        },
                        "text/plain": [
                            "  0%|          | 0/1517 [00:00<?, ?it/s]"
                        ]
                    },
                    "metadata": {},
                    "output_type": "display_data"
                },
                {
                    "data": {
                        "application/vnd.jupyter.widget-view+json": {
                            "model_id": "b94dc5c7990249f5a27cac0ed4cec92b",
                            "version_major": 2,
                            "version_minor": 0
                        },
                        "text/plain": [
                            "  0%|          | 0/380 [00:00<?, ?it/s]"
                        ]
                    },
                    "metadata": {},
                    "output_type": "display_data"
                },
                {
                    "name": "stdout",
                    "output_type": "stream",
                    "text": [
                        "epoch 45 - train_loss:2.8517679213011336e-05 / valid_rmse_loss:0.007876592013847213\n"
                    ]
                },
                {
                    "data": {
                        "application/vnd.jupyter.widget-view+json": {
                            "model_id": "0a022bdea94649c9a35921f1d6affb7e",
                            "version_major": 2,
                            "version_minor": 0
                        },
                        "text/plain": [
                            "  0%|          | 0/1517 [00:00<?, ?it/s]"
                        ]
                    },
                    "metadata": {},
                    "output_type": "display_data"
                },
                {
                    "data": {
                        "application/vnd.jupyter.widget-view+json": {
                            "model_id": "90e5b78f0b844a85ac91dedcf2d1f9ba",
                            "version_major": 2,
                            "version_minor": 0
                        },
                        "text/plain": [
                            "  0%|          | 0/380 [00:00<?, ?it/s]"
                        ]
                    },
                    "metadata": {},
                    "output_type": "display_data"
                },
                {
                    "name": "stdout",
                    "output_type": "stream",
                    "text": [
                        "epoch 46 - train_loss:2.8262603489651997e-05 / valid_rmse_loss:0.0052287584511057335\n"
                    ]
                },
                {
                    "data": {
                        "application/vnd.jupyter.widget-view+json": {
                            "model_id": "dc74155b4c9e4c3d9f0278b770eb2e96",
                            "version_major": 2,
                            "version_minor": 0
                        },
                        "text/plain": [
                            "  0%|          | 0/1517 [00:00<?, ?it/s]"
                        ]
                    },
                    "metadata": {},
                    "output_type": "display_data"
                },
                {
                    "data": {
                        "application/vnd.jupyter.widget-view+json": {
                            "model_id": "7bae1ba217324d58ab78d54bbded4a10",
                            "version_major": 2,
                            "version_minor": 0
                        },
                        "text/plain": [
                            "  0%|          | 0/380 [00:00<?, ?it/s]"
                        ]
                    },
                    "metadata": {},
                    "output_type": "display_data"
                },
                {
                    "name": "stdout",
                    "output_type": "stream",
                    "text": [
                        "epoch 47 - train_loss:2.837280557534167e-05 / valid_rmse_loss:0.006021509296445161\n"
                    ]
                },
                {
                    "data": {
                        "application/vnd.jupyter.widget-view+json": {
                            "model_id": "7309076593564cd5bf59c95c51971d9c",
                            "version_major": 2,
                            "version_minor": 0
                        },
                        "text/plain": [
                            "  0%|          | 0/1517 [00:00<?, ?it/s]"
                        ]
                    },
                    "metadata": {},
                    "output_type": "display_data"
                },
                {
                    "data": {
                        "application/vnd.jupyter.widget-view+json": {
                            "model_id": "c6f431c6d9f2408f8c6efd49e1101699",
                            "version_major": 2,
                            "version_minor": 0
                        },
                        "text/plain": [
                            "  0%|          | 0/380 [00:00<?, ?it/s]"
                        ]
                    },
                    "metadata": {},
                    "output_type": "display_data"
                },
                {
                    "name": "stdout",
                    "output_type": "stream",
                    "text": [
                        "epoch 48 - train_loss:2.818597075268287e-05 / valid_rmse_loss:0.005564973649456407\n"
                    ]
                },
                {
                    "data": {
                        "application/vnd.jupyter.widget-view+json": {
                            "model_id": "5ebb15cbeff246f2933b3727653f2015",
                            "version_major": 2,
                            "version_minor": 0
                        },
                        "text/plain": [
                            "  0%|          | 0/1517 [00:00<?, ?it/s]"
                        ]
                    },
                    "metadata": {},
                    "output_type": "display_data"
                },
                {
                    "data": {
                        "application/vnd.jupyter.widget-view+json": {
                            "model_id": "0bb27b61a7c049b68f53f45a9931b953",
                            "version_major": 2,
                            "version_minor": 0
                        },
                        "text/plain": [
                            "  0%|          | 0/380 [00:00<?, ?it/s]"
                        ]
                    },
                    "metadata": {},
                    "output_type": "display_data"
                },
                {
                    "name": "stdout",
                    "output_type": "stream",
                    "text": [
                        "epoch 49 - train_loss:2.787506598183436e-05 / valid_rmse_loss:0.005337543380891852\n"
                    ]
                },
                {
                    "data": {
                        "application/vnd.jupyter.widget-view+json": {
                            "model_id": "2a1d7bd207464eabac308a80949e271c",
                            "version_major": 2,
                            "version_minor": 0
                        },
                        "text/plain": [
                            "  0%|          | 0/1517 [00:00<?, ?it/s]"
                        ]
                    },
                    "metadata": {},
                    "output_type": "display_data"
                },
                {
                    "data": {
                        "application/vnd.jupyter.widget-view+json": {
                            "model_id": "a2839ff093ab463bb0fb1c002d0e3a74",
                            "version_major": 2,
                            "version_minor": 0
                        },
                        "text/plain": [
                            "  0%|          | 0/380 [00:00<?, ?it/s]"
                        ]
                    },
                    "metadata": {},
                    "output_type": "display_data"
                },
                {
                    "name": "stdout",
                    "output_type": "stream",
                    "text": [
                        "epoch 50 - train_loss:2.83459983179302e-05 / valid_rmse_loss:0.010890117568654233\n"
                    ]
                },
                {
                    "data": {
                        "application/vnd.jupyter.widget-view+json": {
                            "model_id": "1b56e694611d47f6ba0237e652882024",
                            "version_major": 2,
                            "version_minor": 0
                        },
                        "text/plain": [
                            "  0%|          | 0/1517 [00:00<?, ?it/s]"
                        ]
                    },
                    "metadata": {},
                    "output_type": "display_data"
                },
                {
                    "data": {
                        "application/vnd.jupyter.widget-view+json": {
                            "model_id": "90af71ae625d4a90b6698c2685fdcc7e",
                            "version_major": 2,
                            "version_minor": 0
                        },
                        "text/plain": [
                            "  0%|          | 0/380 [00:00<?, ?it/s]"
                        ]
                    },
                    "metadata": {},
                    "output_type": "display_data"
                },
                {
                    "name": "stdout",
                    "output_type": "stream",
                    "text": [
                        "epoch 51 - train_loss:2.7975932847234285e-05 / valid_rmse_loss:0.014848338323892929\n"
                    ]
                },
                {
                    "data": {
                        "application/vnd.jupyter.widget-view+json": {
                            "model_id": "204e27c07c1f49859d3dc84326247595",
                            "version_major": 2,
                            "version_minor": 0
                        },
                        "text/plain": [
                            "  0%|          | 0/1517 [00:00<?, ?it/s]"
                        ]
                    },
                    "metadata": {},
                    "output_type": "display_data"
                },
                {
                    "data": {
                        "application/vnd.jupyter.widget-view+json": {
                            "model_id": "071b0db31d3e49619cbbdaec9c36748d",
                            "version_major": 2,
                            "version_minor": 0
                        },
                        "text/plain": [
                            "  0%|          | 0/380 [00:00<?, ?it/s]"
                        ]
                    },
                    "metadata": {},
                    "output_type": "display_data"
                },
                {
                    "name": "stdout",
                    "output_type": "stream",
                    "text": [
                        "epoch 52 - train_loss:2.833248754091622e-05 / valid_rmse_loss:0.008088648039365078\n"
                    ]
                },
                {
                    "data": {
                        "application/vnd.jupyter.widget-view+json": {
                            "model_id": "31ab06cd6275450c8e10e2b5918b7c58",
                            "version_major": 2,
                            "version_minor": 0
                        },
                        "text/plain": [
                            "  0%|          | 0/1517 [00:00<?, ?it/s]"
                        ]
                    },
                    "metadata": {},
                    "output_type": "display_data"
                },
                {
                    "data": {
                        "application/vnd.jupyter.widget-view+json": {
                            "model_id": "7ca56462399347708e26cb406b7f6e59",
                            "version_major": 2,
                            "version_minor": 0
                        },
                        "text/plain": [
                            "  0%|          | 0/380 [00:00<?, ?it/s]"
                        ]
                    },
                    "metadata": {},
                    "output_type": "display_data"
                },
                {
                    "name": "stdout",
                    "output_type": "stream",
                    "text": [
                        "epoch 53 - train_loss:2.801869131374467e-05 / valid_rmse_loss:0.005530856481193734\n"
                    ]
                },
                {
                    "data": {
                        "application/vnd.jupyter.widget-view+json": {
                            "model_id": "00f70d64414b44a2869df91492145a62",
                            "version_major": 2,
                            "version_minor": 0
                        },
                        "text/plain": [
                            "  0%|          | 0/1517 [00:00<?, ?it/s]"
                        ]
                    },
                    "metadata": {},
                    "output_type": "display_data"
                },
                {
                    "data": {
                        "application/vnd.jupyter.widget-view+json": {
                            "model_id": "829ed079fb3f45baa2bf4778f6c27d36",
                            "version_major": 2,
                            "version_minor": 0
                        },
                        "text/plain": [
                            "  0%|          | 0/380 [00:00<?, ?it/s]"
                        ]
                    },
                    "metadata": {},
                    "output_type": "display_data"
                },
                {
                    "name": "stdout",
                    "output_type": "stream",
                    "text": [
                        "epoch 54 - train_loss:2.8135237719718e-05 / valid_rmse_loss:0.005414386764073886\n"
                    ]
                },
                {
                    "data": {
                        "application/vnd.jupyter.widget-view+json": {
                            "model_id": "bef51cda0d4748c9a9491873d9e4f916",
                            "version_major": 2,
                            "version_minor": 0
                        },
                        "text/plain": [
                            "  0%|          | 0/1517 [00:00<?, ?it/s]"
                        ]
                    },
                    "metadata": {},
                    "output_type": "display_data"
                },
                {
                    "data": {
                        "application/vnd.jupyter.widget-view+json": {
                            "model_id": "349d96bdea68496092be5758727a2728",
                            "version_major": 2,
                            "version_minor": 0
                        },
                        "text/plain": [
                            "  0%|          | 0/380 [00:00<?, ?it/s]"
                        ]
                    },
                    "metadata": {},
                    "output_type": "display_data"
                },
                {
                    "name": "stdout",
                    "output_type": "stream",
                    "text": [
                        "epoch 55 - train_loss:2.798552385196739e-05 / valid_rmse_loss:0.0075182148310702825\n"
                    ]
                },
                {
                    "data": {
                        "application/vnd.jupyter.widget-view+json": {
                            "model_id": "ff5f2b844cf54dc6a4eeeb5fb41d66e8",
                            "version_major": 2,
                            "version_minor": 0
                        },
                        "text/plain": [
                            "  0%|          | 0/1517 [00:00<?, ?it/s]"
                        ]
                    },
                    "metadata": {},
                    "output_type": "display_data"
                },
                {
                    "data": {
                        "application/vnd.jupyter.widget-view+json": {
                            "model_id": "861038a7d72d46bdb744753f5b3bb9c2",
                            "version_major": 2,
                            "version_minor": 0
                        },
                        "text/plain": [
                            "  0%|          | 0/380 [00:00<?, ?it/s]"
                        ]
                    },
                    "metadata": {},
                    "output_type": "display_data"
                },
                {
                    "name": "stdout",
                    "output_type": "stream",
                    "text": [
                        "epoch 56 - train_loss:2.7993708701151066e-05 / valid_rmse_loss:0.0056325165324986395\n"
                    ]
                },
                {
                    "data": {
                        "application/vnd.jupyter.widget-view+json": {
                            "model_id": "3512f910d34b4738bbdb055ff1df2596",
                            "version_major": 2,
                            "version_minor": 0
                        },
                        "text/plain": [
                            "  0%|          | 0/1517 [00:00<?, ?it/s]"
                        ]
                    },
                    "metadata": {},
                    "output_type": "display_data"
                },
                {
                    "data": {
                        "application/vnd.jupyter.widget-view+json": {
                            "model_id": "f9463462a3f0439aaee7cae2b0774333",
                            "version_major": 2,
                            "version_minor": 0
                        },
                        "text/plain": [
                            "  0%|          | 0/380 [00:00<?, ?it/s]"
                        ]
                    },
                    "metadata": {},
                    "output_type": "display_data"
                },
                {
                    "name": "stdout",
                    "output_type": "stream",
                    "text": [
                        "epoch 57 - train_loss:2.7889872236626564e-05 / valid_rmse_loss:0.005372692633653534\n"
                    ]
                },
                {
                    "data": {
                        "application/vnd.jupyter.widget-view+json": {
                            "model_id": "94dd8cdf1cdd4ad1975fc40dc3557ff7",
                            "version_major": 2,
                            "version_minor": 0
                        },
                        "text/plain": [
                            "  0%|          | 0/1517 [00:00<?, ?it/s]"
                        ]
                    },
                    "metadata": {},
                    "output_type": "display_data"
                },
                {
                    "data": {
                        "application/vnd.jupyter.widget-view+json": {
                            "model_id": "ffa0e4961a154f9bbde4c497988d6e17",
                            "version_major": 2,
                            "version_minor": 0
                        },
                        "text/plain": [
                            "  0%|          | 0/380 [00:00<?, ?it/s]"
                        ]
                    },
                    "metadata": {},
                    "output_type": "display_data"
                },
                {
                    "name": "stdout",
                    "output_type": "stream",
                    "text": [
                        "epoch 58 - train_loss:2.8043936162378526e-05 / valid_rmse_loss:0.005801792524575913\n"
                    ]
                },
                {
                    "data": {
                        "application/vnd.jupyter.widget-view+json": {
                            "model_id": "aed7cf15a6d5449e9bd805c543d61362",
                            "version_major": 2,
                            "version_minor": 0
                        },
                        "text/plain": [
                            "  0%|          | 0/1517 [00:00<?, ?it/s]"
                        ]
                    },
                    "metadata": {},
                    "output_type": "display_data"
                },
                {
                    "data": {
                        "application/vnd.jupyter.widget-view+json": {
                            "model_id": "42bb9b9201804da4a9d7a5f7f83802cc",
                            "version_major": 2,
                            "version_minor": 0
                        },
                        "text/plain": [
                            "  0%|          | 0/380 [00:00<?, ?it/s]"
                        ]
                    },
                    "metadata": {},
                    "output_type": "display_data"
                },
                {
                    "name": "stdout",
                    "output_type": "stream",
                    "text": [
                        "epoch 59 - train_loss:2.803632273306811e-05 / valid_rmse_loss:0.0075540722052707425\n"
                    ]
                },
                {
                    "data": {
                        "application/vnd.jupyter.widget-view+json": {
                            "model_id": "fdbf7c9e2fe24316903152cb1ff834c7",
                            "version_major": 2,
                            "version_minor": 0
                        },
                        "text/plain": [
                            "  0%|          | 0/1517 [00:00<?, ?it/s]"
                        ]
                    },
                    "metadata": {},
                    "output_type": "display_data"
                },
                {
                    "data": {
                        "application/vnd.jupyter.widget-view+json": {
                            "model_id": "3211aa1003644a4aae928201b20d28ae",
                            "version_major": 2,
                            "version_minor": 0
                        },
                        "text/plain": [
                            "  0%|          | 0/380 [00:00<?, ?it/s]"
                        ]
                    },
                    "metadata": {},
                    "output_type": "display_data"
                },
                {
                    "name": "stdout",
                    "output_type": "stream",
                    "text": [
                        "epoch 60 - train_loss:2.7833233487048085e-05 / valid_rmse_loss:0.006264683897150794\n"
                    ]
                },
                {
                    "data": {
                        "application/vnd.jupyter.widget-view+json": {
                            "model_id": "01db80873735403aa183e228d7fef49e",
                            "version_major": 2,
                            "version_minor": 0
                        },
                        "text/plain": [
                            "  0%|          | 0/1517 [00:00<?, ?it/s]"
                        ]
                    },
                    "metadata": {},
                    "output_type": "display_data"
                },
                {
                    "data": {
                        "application/vnd.jupyter.widget-view+json": {
                            "model_id": "98bdf229c5254ac7a39d7f6968290591",
                            "version_major": 2,
                            "version_minor": 0
                        },
                        "text/plain": [
                            "  0%|          | 0/380 [00:00<?, ?it/s]"
                        ]
                    },
                    "metadata": {},
                    "output_type": "display_data"
                },
                {
                    "name": "stdout",
                    "output_type": "stream",
                    "text": [
                        "epoch 61 - train_loss:2.7766523858271278e-05 / valid_rmse_loss:0.00570971120978987\n"
                    ]
                },
                {
                    "data": {
                        "application/vnd.jupyter.widget-view+json": {
                            "model_id": "4e11eb8a1079456e9780b4c3c2a97a05",
                            "version_major": 2,
                            "version_minor": 0
                        },
                        "text/plain": [
                            "  0%|          | 0/1517 [00:00<?, ?it/s]"
                        ]
                    },
                    "metadata": {},
                    "output_type": "display_data"
                },
                {
                    "data": {
                        "application/vnd.jupyter.widget-view+json": {
                            "model_id": "a2095b1fe47549d79ab50cc0e56ae0c0",
                            "version_major": 2,
                            "version_minor": 0
                        },
                        "text/plain": [
                            "  0%|          | 0/380 [00:00<?, ?it/s]"
                        ]
                    },
                    "metadata": {},
                    "output_type": "display_data"
                },
                {
                    "name": "stdout",
                    "output_type": "stream",
                    "text": [
                        "epoch 62 - train_loss:2.788749995788982e-05 / valid_rmse_loss:0.006065136707314869\n"
                    ]
                },
                {
                    "data": {
                        "application/vnd.jupyter.widget-view+json": {
                            "model_id": "0627cc428e6048cdb5e049221795d7d2",
                            "version_major": 2,
                            "version_minor": 0
                        },
                        "text/plain": [
                            "  0%|          | 0/1517 [00:00<?, ?it/s]"
                        ]
                    },
                    "metadata": {},
                    "output_type": "display_data"
                },
                {
                    "data": {
                        "application/vnd.jupyter.widget-view+json": {
                            "model_id": "d9637a1a9e594482853cf73e0b8cd694",
                            "version_major": 2,
                            "version_minor": 0
                        },
                        "text/plain": [
                            "  0%|          | 0/380 [00:00<?, ?it/s]"
                        ]
                    },
                    "metadata": {},
                    "output_type": "display_data"
                },
                {
                    "name": "stdout",
                    "output_type": "stream",
                    "text": [
                        "epoch 63 - train_loss:2.7940308668800484e-05 / valid_rmse_loss:0.008760403871473593\n"
                    ]
                },
                {
                    "data": {
                        "application/vnd.jupyter.widget-view+json": {
                            "model_id": "7c84022605584c008a2d1c52a97d9786",
                            "version_major": 2,
                            "version_minor": 0
                        },
                        "text/plain": [
                            "  0%|          | 0/1517 [00:00<?, ?it/s]"
                        ]
                    },
                    "metadata": {},
                    "output_type": "display_data"
                },
                {
                    "data": {
                        "application/vnd.jupyter.widget-view+json": {
                            "model_id": "ebec43628e7449fd89f9fd8a650420cf",
                            "version_major": 2,
                            "version_minor": 0
                        },
                        "text/plain": [
                            "  0%|          | 0/380 [00:00<?, ?it/s]"
                        ]
                    },
                    "metadata": {},
                    "output_type": "display_data"
                },
                {
                    "name": "stdout",
                    "output_type": "stream",
                    "text": [
                        "epoch 64 - train_loss:2.783702900448655e-05 / valid_rmse_loss:0.0067255152742875385\n"
                    ]
                },
                {
                    "data": {
                        "application/vnd.jupyter.widget-view+json": {
                            "model_id": "4b66d290df0844f385d5859cf3526af8",
                            "version_major": 2,
                            "version_minor": 0
                        },
                        "text/plain": [
                            "  0%|          | 0/1517 [00:00<?, ?it/s]"
                        ]
                    },
                    "metadata": {},
                    "output_type": "display_data"
                },
                {
                    "data": {
                        "application/vnd.jupyter.widget-view+json": {
                            "model_id": "bc84b110d5b74e47a8a8f76a296f83ab",
                            "version_major": 2,
                            "version_minor": 0
                        },
                        "text/plain": [
                            "  0%|          | 0/380 [00:00<?, ?it/s]"
                        ]
                    },
                    "metadata": {},
                    "output_type": "display_data"
                },
                {
                    "name": "stdout",
                    "output_type": "stream",
                    "text": [
                        "epoch 65 - train_loss:2.8030701289605334e-05 / valid_rmse_loss:0.00558023187485575\n"
                    ]
                },
                {
                    "data": {
                        "application/vnd.jupyter.widget-view+json": {
                            "model_id": "3741d23593e44b37b9fab32566b49426",
                            "version_major": 2,
                            "version_minor": 0
                        },
                        "text/plain": [
                            "  0%|          | 0/1517 [00:00<?, ?it/s]"
                        ]
                    },
                    "metadata": {},
                    "output_type": "display_data"
                },
                {
                    "data": {
                        "application/vnd.jupyter.widget-view+json": {
                            "model_id": "9534f5f4b8d14a48b9671afa1b937631",
                            "version_major": 2,
                            "version_minor": 0
                        },
                        "text/plain": [
                            "  0%|          | 0/380 [00:00<?, ?it/s]"
                        ]
                    },
                    "metadata": {},
                    "output_type": "display_data"
                },
                {
                    "name": "stdout",
                    "output_type": "stream",
                    "text": [
                        "epoch 66 - train_loss:2.789181312709783e-05 / valid_rmse_loss:0.00518904341202467\n"
                    ]
                },
                {
                    "data": {
                        "application/vnd.jupyter.widget-view+json": {
                            "model_id": "2219e1bea5dc4e98864b296959685ba0",
                            "version_major": 2,
                            "version_minor": 0
                        },
                        "text/plain": [
                            "  0%|          | 0/1517 [00:00<?, ?it/s]"
                        ]
                    },
                    "metadata": {},
                    "output_type": "display_data"
                },
                {
                    "data": {
                        "application/vnd.jupyter.widget-view+json": {
                            "model_id": "f4feacb53cbc4a5db609e93d4b8f8548",
                            "version_major": 2,
                            "version_minor": 0
                        },
                        "text/plain": [
                            "  0%|          | 0/380 [00:00<?, ?it/s]"
                        ]
                    },
                    "metadata": {},
                    "output_type": "display_data"
                },
                {
                    "name": "stdout",
                    "output_type": "stream",
                    "text": [
                        "epoch 67 - train_loss:2.7914347870973486e-05 / valid_rmse_loss:0.005242226643977315\n"
                    ]
                },
                {
                    "data": {
                        "application/vnd.jupyter.widget-view+json": {
                            "model_id": "febb41abfe50494a8344f6bd5e62408d",
                            "version_major": 2,
                            "version_minor": 0
                        },
                        "text/plain": [
                            "  0%|          | 0/1517 [00:00<?, ?it/s]"
                        ]
                    },
                    "metadata": {},
                    "output_type": "display_data"
                },
                {
                    "data": {
                        "application/vnd.jupyter.widget-view+json": {
                            "model_id": "cdb645ed97cf44b0a2ce00f5cfca9eb2",
                            "version_major": 2,
                            "version_minor": 0
                        },
                        "text/plain": [
                            "  0%|          | 0/380 [00:00<?, ?it/s]"
                        ]
                    },
                    "metadata": {},
                    "output_type": "display_data"
                },
                {
                    "name": "stdout",
                    "output_type": "stream",
                    "text": [
                        "epoch 68 - train_loss:2.7645281181379033e-05 / valid_rmse_loss:0.007807884216166361\n"
                    ]
                },
                {
                    "data": {
                        "application/vnd.jupyter.widget-view+json": {
                            "model_id": "56d21e7735ea457f9ce517015596fe3a",
                            "version_major": 2,
                            "version_minor": 0
                        },
                        "text/plain": [
                            "  0%|          | 0/1517 [00:00<?, ?it/s]"
                        ]
                    },
                    "metadata": {},
                    "output_type": "display_data"
                },
                {
                    "data": {
                        "application/vnd.jupyter.widget-view+json": {
                            "model_id": "f275b7b4b05349f4b640ac4920a61dc2",
                            "version_major": 2,
                            "version_minor": 0
                        },
                        "text/plain": [
                            "  0%|          | 0/380 [00:00<?, ?it/s]"
                        ]
                    },
                    "metadata": {},
                    "output_type": "display_data"
                },
                {
                    "name": "stdout",
                    "output_type": "stream",
                    "text": [
                        "epoch 69 - train_loss:2.798124778198954e-05 / valid_rmse_loss:0.006515758807520633\n"
                    ]
                },
                {
                    "data": {
                        "application/vnd.jupyter.widget-view+json": {
                            "model_id": "9ec98fe177fc46109d499d3f549709fd",
                            "version_major": 2,
                            "version_minor": 0
                        },
                        "text/plain": [
                            "  0%|          | 0/1517 [00:00<?, ?it/s]"
                        ]
                    },
                    "metadata": {},
                    "output_type": "display_data"
                },
                {
                    "data": {
                        "application/vnd.jupyter.widget-view+json": {
                            "model_id": "61f4e144a7b74facb4e234fed38a9904",
                            "version_major": 2,
                            "version_minor": 0
                        },
                        "text/plain": [
                            "  0%|          | 0/380 [00:00<?, ?it/s]"
                        ]
                    },
                    "metadata": {},
                    "output_type": "display_data"
                },
                {
                    "name": "stdout",
                    "output_type": "stream",
                    "text": [
                        "epoch 70 - train_loss:2.7742416723359084e-05 / valid_rmse_loss:0.005936778777662421\n"
                    ]
                },
                {
                    "data": {
                        "application/vnd.jupyter.widget-view+json": {
                            "model_id": "002c9f0deb7b4b1c9f0a3629037536f4",
                            "version_major": 2,
                            "version_minor": 0
                        },
                        "text/plain": [
                            "  0%|          | 0/1517 [00:00<?, ?it/s]"
                        ]
                    },
                    "metadata": {},
                    "output_type": "display_data"
                },
                {
                    "data": {
                        "application/vnd.jupyter.widget-view+json": {
                            "model_id": "7a130670b1d847c0af0c0437f7bde6bd",
                            "version_major": 2,
                            "version_minor": 0
                        },
                        "text/plain": [
                            "  0%|          | 0/380 [00:00<?, ?it/s]"
                        ]
                    },
                    "metadata": {},
                    "output_type": "display_data"
                },
                {
                    "name": "stdout",
                    "output_type": "stream",
                    "text": [
                        "epoch 71 - train_loss:2.77304663580714e-05 / valid_rmse_loss:0.006137507061191907\n"
                    ]
                },
                {
                    "data": {
                        "application/vnd.jupyter.widget-view+json": {
                            "model_id": "8420e298d0d84b5b9bf31c3943644a5e",
                            "version_major": 2,
                            "version_minor": 0
                        },
                        "text/plain": [
                            "  0%|          | 0/1517 [00:00<?, ?it/s]"
                        ]
                    },
                    "metadata": {},
                    "output_type": "display_data"
                },
                {
                    "data": {
                        "application/vnd.jupyter.widget-view+json": {
                            "model_id": "0361eeb5636542fc83466d4c40b09382",
                            "version_major": 2,
                            "version_minor": 0
                        },
                        "text/plain": [
                            "  0%|          | 0/380 [00:00<?, ?it/s]"
                        ]
                    },
                    "metadata": {},
                    "output_type": "display_data"
                },
                {
                    "name": "stdout",
                    "output_type": "stream",
                    "text": [
                        "epoch 72 - train_loss:2.7796285214427613e-05 / valid_rmse_loss:0.009626776470247253\n"
                    ]
                },
                {
                    "data": {
                        "application/vnd.jupyter.widget-view+json": {
                            "model_id": "65791ceccbe84610b2748cfb53a48ce1",
                            "version_major": 2,
                            "version_minor": 0
                        },
                        "text/plain": [
                            "  0%|          | 0/1517 [00:00<?, ?it/s]"
                        ]
                    },
                    "metadata": {},
                    "output_type": "display_data"
                },
                {
                    "data": {
                        "application/vnd.jupyter.widget-view+json": {
                            "model_id": "37a862798d5b4340ab848cf77d8c14ef",
                            "version_major": 2,
                            "version_minor": 0
                        },
                        "text/plain": [
                            "  0%|          | 0/380 [00:00<?, ?it/s]"
                        ]
                    },
                    "metadata": {},
                    "output_type": "display_data"
                },
                {
                    "name": "stdout",
                    "output_type": "stream",
                    "text": [
                        "epoch 73 - train_loss:2.7548714647342654e-05 / valid_rmse_loss:0.005521867704645954\n"
                    ]
                },
                {
                    "data": {
                        "application/vnd.jupyter.widget-view+json": {
                            "model_id": "e30991d8e2b64812afdfbb21f16f6e9f",
                            "version_major": 2,
                            "version_minor": 0
                        },
                        "text/plain": [
                            "  0%|          | 0/1517 [00:00<?, ?it/s]"
                        ]
                    },
                    "metadata": {},
                    "output_type": "display_data"
                },
                {
                    "data": {
                        "application/vnd.jupyter.widget-view+json": {
                            "model_id": "46ade9af3df44ded806cd0412f9c7b7a",
                            "version_major": 2,
                            "version_minor": 0
                        },
                        "text/plain": [
                            "  0%|          | 0/380 [00:00<?, ?it/s]"
                        ]
                    },
                    "metadata": {},
                    "output_type": "display_data"
                },
                {
                    "name": "stdout",
                    "output_type": "stream",
                    "text": [
                        "epoch 74 - train_loss:2.7785527512648935e-05 / valid_rmse_loss:0.005826284063021606\n"
                    ]
                },
                {
                    "data": {
                        "application/vnd.jupyter.widget-view+json": {
                            "model_id": "eeada30d79804c4e9275fe8f1f073d17",
                            "version_major": 2,
                            "version_minor": 0
                        },
                        "text/plain": [
                            "  0%|          | 0/1517 [00:00<?, ?it/s]"
                        ]
                    },
                    "metadata": {},
                    "output_type": "display_data"
                },
                {
                    "data": {
                        "application/vnd.jupyter.widget-view+json": {
                            "model_id": "f0d30245a9424418a09d5864e1c91d49",
                            "version_major": 2,
                            "version_minor": 0
                        },
                        "text/plain": [
                            "  0%|          | 0/380 [00:00<?, ?it/s]"
                        ]
                    },
                    "metadata": {},
                    "output_type": "display_data"
                },
                {
                    "name": "stdout",
                    "output_type": "stream",
                    "text": [
                        "epoch 75 - train_loss:2.7584193626775897e-05 / valid_rmse_loss:0.005808439629263119\n"
                    ]
                },
                {
                    "data": {
                        "application/vnd.jupyter.widget-view+json": {
                            "model_id": "d32c53be2a8b4f0fb50eba492805931f",
                            "version_major": 2,
                            "version_minor": 0
                        },
                        "text/plain": [
                            "  0%|          | 0/1517 [00:00<?, ?it/s]"
                        ]
                    },
                    "metadata": {},
                    "output_type": "display_data"
                },
                {
                    "data": {
                        "application/vnd.jupyter.widget-view+json": {
                            "model_id": "4db068da80c041178d5f5573fe62ffed",
                            "version_major": 2,
                            "version_minor": 0
                        },
                        "text/plain": [
                            "  0%|          | 0/380 [00:00<?, ?it/s]"
                        ]
                    },
                    "metadata": {},
                    "output_type": "display_data"
                },
                {
                    "name": "stdout",
                    "output_type": "stream",
                    "text": [
                        "epoch 76 - train_loss:2.74839371492302e-05 / valid_rmse_loss:0.007748570792865248\n"
                    ]
                },
                {
                    "data": {
                        "application/vnd.jupyter.widget-view+json": {
                            "model_id": "e114b05eeafe45a19acb56b44a5eda61",
                            "version_major": 2,
                            "version_minor": 0
                        },
                        "text/plain": [
                            "  0%|          | 0/1517 [00:00<?, ?it/s]"
                        ]
                    },
                    "metadata": {},
                    "output_type": "display_data"
                },
                {
                    "data": {
                        "application/vnd.jupyter.widget-view+json": {
                            "model_id": "87dff1ee7dae4795bb128e176e8aa20b",
                            "version_major": 2,
                            "version_minor": 0
                        },
                        "text/plain": [
                            "  0%|          | 0/380 [00:00<?, ?it/s]"
                        ]
                    },
                    "metadata": {},
                    "output_type": "display_data"
                },
                {
                    "name": "stdout",
                    "output_type": "stream",
                    "text": [
                        "epoch 77 - train_loss:2.7555582716667517e-05 / valid_rmse_loss:0.006064904795838494\n"
                    ]
                },
                {
                    "data": {
                        "application/vnd.jupyter.widget-view+json": {
                            "model_id": "c085caa29b8f4065aab85a8651e28d8e",
                            "version_major": 2,
                            "version_minor": 0
                        },
                        "text/plain": [
                            "  0%|          | 0/1517 [00:00<?, ?it/s]"
                        ]
                    },
                    "metadata": {},
                    "output_type": "display_data"
                },
                {
                    "data": {
                        "application/vnd.jupyter.widget-view+json": {
                            "model_id": "883c2abfbf5940b2a583173bcada09d4",
                            "version_major": 2,
                            "version_minor": 0
                        },
                        "text/plain": [
                            "  0%|          | 0/380 [00:00<?, ?it/s]"
                        ]
                    },
                    "metadata": {},
                    "output_type": "display_data"
                },
                {
                    "name": "stdout",
                    "output_type": "stream",
                    "text": [
                        "epoch 78 - train_loss:2.7598076821186293e-05 / valid_rmse_loss:0.005736045034200307\n"
                    ]
                },
                {
                    "data": {
                        "application/vnd.jupyter.widget-view+json": {
                            "model_id": "43e8b85653d94d44b2a88d768df96805",
                            "version_major": 2,
                            "version_minor": 0
                        },
                        "text/plain": [
                            "  0%|          | 0/1517 [00:00<?, ?it/s]"
                        ]
                    },
                    "metadata": {},
                    "output_type": "display_data"
                },
                {
                    "data": {
                        "application/vnd.jupyter.widget-view+json": {
                            "model_id": "0fc63cc60ca74844aa931ba21efac3fa",
                            "version_major": 2,
                            "version_minor": 0
                        },
                        "text/plain": [
                            "  0%|          | 0/380 [00:00<?, ?it/s]"
                        ]
                    },
                    "metadata": {},
                    "output_type": "display_data"
                },
                {
                    "name": "stdout",
                    "output_type": "stream",
                    "text": [
                        "epoch 79 - train_loss:2.758894215856736e-05 / valid_rmse_loss:0.006150098498170047\n"
                    ]
                },
                {
                    "data": {
                        "application/vnd.jupyter.widget-view+json": {
                            "model_id": "14925584cf2c479699b982f6b1a1c408",
                            "version_major": 2,
                            "version_minor": 0
                        },
                        "text/plain": [
                            "  0%|          | 0/1517 [00:00<?, ?it/s]"
                        ]
                    },
                    "metadata": {},
                    "output_type": "display_data"
                },
                {
                    "data": {
                        "application/vnd.jupyter.widget-view+json": {
                            "model_id": "cad38f484d4e414a98a0ee89b65eff95",
                            "version_major": 2,
                            "version_minor": 0
                        },
                        "text/plain": [
                            "  0%|          | 0/380 [00:00<?, ?it/s]"
                        ]
                    },
                    "metadata": {},
                    "output_type": "display_data"
                },
                {
                    "name": "stdout",
                    "output_type": "stream",
                    "text": [
                        "epoch 80 - train_loss:2.7527337449209257e-05 / valid_rmse_loss:0.005633573214488402\n"
                    ]
                },
                {
                    "data": {
                        "application/vnd.jupyter.widget-view+json": {
                            "model_id": "cbb77fe1cfb949eaaa5d41dd6af0ac9b",
                            "version_major": 2,
                            "version_minor": 0
                        },
                        "text/plain": [
                            "  0%|          | 0/1517 [00:00<?, ?it/s]"
                        ]
                    },
                    "metadata": {},
                    "output_type": "display_data"
                },
                {
                    "data": {
                        "application/vnd.jupyter.widget-view+json": {
                            "model_id": "743a350d12d144b5a2adc8be39ab0c13",
                            "version_major": 2,
                            "version_minor": 0
                        },
                        "text/plain": [
                            "  0%|          | 0/380 [00:00<?, ?it/s]"
                        ]
                    },
                    "metadata": {},
                    "output_type": "display_data"
                },
                {
                    "name": "stdout",
                    "output_type": "stream",
                    "text": [
                        "epoch 81 - train_loss:2.767792340427046e-05 / valid_rmse_loss:0.006406631180119965\n"
                    ]
                },
                {
                    "data": {
                        "application/vnd.jupyter.widget-view+json": {
                            "model_id": "c40e3211b0084b67a548e38ce57605e2",
                            "version_major": 2,
                            "version_minor": 0
                        },
                        "text/plain": [
                            "  0%|          | 0/1517 [00:00<?, ?it/s]"
                        ]
                    },
                    "metadata": {},
                    "output_type": "display_data"
                },
                {
                    "data": {
                        "application/vnd.jupyter.widget-view+json": {
                            "model_id": "fe96ab54205e497898d6f559cad3a8b9",
                            "version_major": 2,
                            "version_minor": 0
                        },
                        "text/plain": [
                            "  0%|          | 0/380 [00:00<?, ?it/s]"
                        ]
                    },
                    "metadata": {},
                    "output_type": "display_data"
                },
                {
                    "name": "stdout",
                    "output_type": "stream",
                    "text": [
                        "epoch 82 - train_loss:2.739381606385408e-05 / valid_rmse_loss:0.006804923387275429\n"
                    ]
                },
                {
                    "data": {
                        "application/vnd.jupyter.widget-view+json": {
                            "model_id": "cd0fd770d62243c684e095f58ff0c656",
                            "version_major": 2,
                            "version_minor": 0
                        },
                        "text/plain": [
                            "  0%|          | 0/1517 [00:00<?, ?it/s]"
                        ]
                    },
                    "metadata": {},
                    "output_type": "display_data"
                },
                {
                    "data": {
                        "application/vnd.jupyter.widget-view+json": {
                            "model_id": "66162e0b5bbf4811a095cee360ca7910",
                            "version_major": 2,
                            "version_minor": 0
                        },
                        "text/plain": [
                            "  0%|          | 0/380 [00:00<?, ?it/s]"
                        ]
                    },
                    "metadata": {},
                    "output_type": "display_data"
                },
                {
                    "name": "stdout",
                    "output_type": "stream",
                    "text": [
                        "epoch 83 - train_loss:2.7474681564584317e-05 / valid_rmse_loss:0.0054351977228907005\n"
                    ]
                },
                {
                    "data": {
                        "application/vnd.jupyter.widget-view+json": {
                            "model_id": "eca45f17b07e44d8972b0a9c1b2e22b8",
                            "version_major": 2,
                            "version_minor": 0
                        },
                        "text/plain": [
                            "  0%|          | 0/1517 [00:00<?, ?it/s]"
                        ]
                    },
                    "metadata": {},
                    "output_type": "display_data"
                },
                {
                    "data": {
                        "application/vnd.jupyter.widget-view+json": {
                            "model_id": "0afa17861c9b420c90451f41a30daf65",
                            "version_major": 2,
                            "version_minor": 0
                        },
                        "text/plain": [
                            "  0%|          | 0/380 [00:00<?, ?it/s]"
                        ]
                    },
                    "metadata": {},
                    "output_type": "display_data"
                },
                {
                    "name": "stdout",
                    "output_type": "stream",
                    "text": [
                        "epoch 84 - train_loss:2.754313070000225e-05 / valid_rmse_loss:0.0077266744093067875\n"
                    ]
                },
                {
                    "data": {
                        "application/vnd.jupyter.widget-view+json": {
                            "model_id": "d384c3c8c2544165929b67c3272e9677",
                            "version_major": 2,
                            "version_minor": 0
                        },
                        "text/plain": [
                            "  0%|          | 0/1517 [00:00<?, ?it/s]"
                        ]
                    },
                    "metadata": {},
                    "output_type": "display_data"
                },
                {
                    "data": {
                        "application/vnd.jupyter.widget-view+json": {
                            "model_id": "a43609807126447594f1aee5961cbaf5",
                            "version_major": 2,
                            "version_minor": 0
                        },
                        "text/plain": [
                            "  0%|          | 0/380 [00:00<?, ?it/s]"
                        ]
                    },
                    "metadata": {},
                    "output_type": "display_data"
                },
                {
                    "name": "stdout",
                    "output_type": "stream",
                    "text": [
                        "epoch 85 - train_loss:2.7420096822156973e-05 / valid_rmse_loss:0.005342279982095729\n"
                    ]
                },
                {
                    "data": {
                        "application/vnd.jupyter.widget-view+json": {
                            "model_id": "cf3cd74fe8d842108ed575362f228e9b",
                            "version_major": 2,
                            "version_minor": 0
                        },
                        "text/plain": [
                            "  0%|          | 0/1517 [00:00<?, ?it/s]"
                        ]
                    },
                    "metadata": {},
                    "output_type": "display_data"
                },
                {
                    "data": {
                        "application/vnd.jupyter.widget-view+json": {
                            "model_id": "d207dc986fe84d80ae05343b47835aaf",
                            "version_major": 2,
                            "version_minor": 0
                        },
                        "text/plain": [
                            "  0%|          | 0/380 [00:00<?, ?it/s]"
                        ]
                    },
                    "metadata": {},
                    "output_type": "display_data"
                },
                {
                    "name": "stdout",
                    "output_type": "stream",
                    "text": [
                        "epoch 86 - train_loss:2.7381300131954026e-05 / valid_rmse_loss:0.005975284530691499\n"
                    ]
                },
                {
                    "data": {
                        "application/vnd.jupyter.widget-view+json": {
                            "model_id": "06df032db7d349308eae9a9f068a4812",
                            "version_major": 2,
                            "version_minor": 0
                        },
                        "text/plain": [
                            "  0%|          | 0/1517 [00:00<?, ?it/s]"
                        ]
                    },
                    "metadata": {},
                    "output_type": "display_data"
                },
                {
                    "data": {
                        "application/vnd.jupyter.widget-view+json": {
                            "model_id": "56315f71eee74abca4526f0814021a5e",
                            "version_major": 2,
                            "version_minor": 0
                        },
                        "text/plain": [
                            "  0%|          | 0/380 [00:00<?, ?it/s]"
                        ]
                    },
                    "metadata": {},
                    "output_type": "display_data"
                },
                {
                    "name": "stdout",
                    "output_type": "stream",
                    "text": [
                        "epoch 87 - train_loss:2.7445241182717683e-05 / valid_rmse_loss:0.005801064224676646\n"
                    ]
                },
                {
                    "data": {
                        "application/vnd.jupyter.widget-view+json": {
                            "model_id": "5a773303bc204c56a0c928c4c0447c2e",
                            "version_major": 2,
                            "version_minor": 0
                        },
                        "text/plain": [
                            "  0%|          | 0/1517 [00:00<?, ?it/s]"
                        ]
                    },
                    "metadata": {},
                    "output_type": "display_data"
                },
                {
                    "data": {
                        "application/vnd.jupyter.widget-view+json": {
                            "model_id": "40862086adb24462b4d3512e7f6a1946",
                            "version_major": 2,
                            "version_minor": 0
                        },
                        "text/plain": [
                            "  0%|          | 0/380 [00:00<?, ?it/s]"
                        ]
                    },
                    "metadata": {},
                    "output_type": "display_data"
                },
                {
                    "name": "stdout",
                    "output_type": "stream",
                    "text": [
                        "epoch 88 - train_loss:2.7387776879342636e-05 / valid_rmse_loss:0.005159406365365055\n"
                    ]
                },
                {
                    "data": {
                        "application/vnd.jupyter.widget-view+json": {
                            "model_id": "0d8ad7e3fbb34aca9ad0e1733bd26dc3",
                            "version_major": 2,
                            "version_minor": 0
                        },
                        "text/plain": [
                            "  0%|          | 0/1517 [00:00<?, ?it/s]"
                        ]
                    },
                    "metadata": {},
                    "output_type": "display_data"
                },
                {
                    "data": {
                        "application/vnd.jupyter.widget-view+json": {
                            "model_id": "a36b40e2e44f40a99a2bf22ad82293e9",
                            "version_major": 2,
                            "version_minor": 0
                        },
                        "text/plain": [
                            "  0%|          | 0/380 [00:00<?, ?it/s]"
                        ]
                    },
                    "metadata": {},
                    "output_type": "display_data"
                },
                {
                    "name": "stdout",
                    "output_type": "stream",
                    "text": [
                        "epoch 89 - train_loss:2.72832278847735e-05 / valid_rmse_loss:0.005208112467901525\n"
                    ]
                },
                {
                    "data": {
                        "application/vnd.jupyter.widget-view+json": {
                            "model_id": "88d5343cc6a847828aebcc48920df088",
                            "version_major": 2,
                            "version_minor": 0
                        },
                        "text/plain": [
                            "  0%|          | 0/1517 [00:00<?, ?it/s]"
                        ]
                    },
                    "metadata": {},
                    "output_type": "display_data"
                },
                {
                    "data": {
                        "application/vnd.jupyter.widget-view+json": {
                            "model_id": "7e8588100d8d45f5985cfe9ff6717750",
                            "version_major": 2,
                            "version_minor": 0
                        },
                        "text/plain": [
                            "  0%|          | 0/380 [00:00<?, ?it/s]"
                        ]
                    },
                    "metadata": {},
                    "output_type": "display_data"
                },
                {
                    "name": "stdout",
                    "output_type": "stream",
                    "text": [
                        "epoch 90 - train_loss:2.7159727800663535e-05 / valid_rmse_loss:0.0057065397553283095\n"
                    ]
                },
                {
                    "data": {
                        "application/vnd.jupyter.widget-view+json": {
                            "model_id": "7225d0517d5543a58a862c53cc1c707e",
                            "version_major": 2,
                            "version_minor": 0
                        },
                        "text/plain": [
                            "  0%|          | 0/1517 [00:00<?, ?it/s]"
                        ]
                    },
                    "metadata": {},
                    "output_type": "display_data"
                },
                {
                    "data": {
                        "application/vnd.jupyter.widget-view+json": {
                            "model_id": "71140760143549febbdab9f6b08fd2c7",
                            "version_major": 2,
                            "version_minor": 0
                        },
                        "text/plain": [
                            "  0%|          | 0/380 [00:00<?, ?it/s]"
                        ]
                    },
                    "metadata": {},
                    "output_type": "display_data"
                },
                {
                    "name": "stdout",
                    "output_type": "stream",
                    "text": [
                        "epoch 91 - train_loss:2.7403389650294786e-05 / valid_rmse_loss:0.005242930579764272\n"
                    ]
                },
                {
                    "data": {
                        "application/vnd.jupyter.widget-view+json": {
                            "model_id": "318f04108fed4df6a14510cbdf1cab0a",
                            "version_major": 2,
                            "version_minor": 0
                        },
                        "text/plain": [
                            "  0%|          | 0/1517 [00:00<?, ?it/s]"
                        ]
                    },
                    "metadata": {},
                    "output_type": "display_data"
                },
                {
                    "data": {
                        "application/vnd.jupyter.widget-view+json": {
                            "model_id": "dd6a1e7653ba424d99d69832887f628d",
                            "version_major": 2,
                            "version_minor": 0
                        },
                        "text/plain": [
                            "  0%|          | 0/380 [00:00<?, ?it/s]"
                        ]
                    },
                    "metadata": {},
                    "output_type": "display_data"
                },
                {
                    "name": "stdout",
                    "output_type": "stream",
                    "text": [
                        "epoch 92 - train_loss:2.7261951118356954e-05 / valid_rmse_loss:0.009152027405877635\n"
                    ]
                },
                {
                    "data": {
                        "application/vnd.jupyter.widget-view+json": {
                            "model_id": "0a4bb1f8e0bc4bdc9ea403db75425bd3",
                            "version_major": 2,
                            "version_minor": 0
                        },
                        "text/plain": [
                            "  0%|          | 0/1517 [00:00<?, ?it/s]"
                        ]
                    },
                    "metadata": {},
                    "output_type": "display_data"
                },
                {
                    "data": {
                        "application/vnd.jupyter.widget-view+json": {
                            "model_id": "95abefa1ab0244739adffd88d3fa27b4",
                            "version_major": 2,
                            "version_minor": 0
                        },
                        "text/plain": [
                            "  0%|          | 0/380 [00:00<?, ?it/s]"
                        ]
                    },
                    "metadata": {},
                    "output_type": "display_data"
                },
                {
                    "name": "stdout",
                    "output_type": "stream",
                    "text": [
                        "epoch 93 - train_loss:2.7244519939550275e-05 / valid_rmse_loss:0.005628880409489397\n"
                    ]
                },
                {
                    "data": {
                        "application/vnd.jupyter.widget-view+json": {
                            "model_id": "b4dacb55ad694974be27c36f8bc47491",
                            "version_major": 2,
                            "version_minor": 0
                        },
                        "text/plain": [
                            "  0%|          | 0/1517 [00:00<?, ?it/s]"
                        ]
                    },
                    "metadata": {},
                    "output_type": "display_data"
                },
                {
                    "data": {
                        "application/vnd.jupyter.widget-view+json": {
                            "model_id": "a1cd669e798b4be4953aa3516b0887aa",
                            "version_major": 2,
                            "version_minor": 0
                        },
                        "text/plain": [
                            "  0%|          | 0/380 [00:00<?, ?it/s]"
                        ]
                    },
                    "metadata": {},
                    "output_type": "display_data"
                },
                {
                    "name": "stdout",
                    "output_type": "stream",
                    "text": [
                        "epoch 94 - train_loss:2.7168593355970777e-05 / valid_rmse_loss:0.005204891059325841\n"
                    ]
                },
                {
                    "data": {
                        "application/vnd.jupyter.widget-view+json": {
                            "model_id": "73cf53897d6c401a8e0a183687441491",
                            "version_major": 2,
                            "version_minor": 0
                        },
                        "text/plain": [
                            "  0%|          | 0/1517 [00:00<?, ?it/s]"
                        ]
                    },
                    "metadata": {},
                    "output_type": "display_data"
                },
                {
                    "data": {
                        "application/vnd.jupyter.widget-view+json": {
                            "model_id": "4b0758a9a76f4eeca27e9a807d022ef3",
                            "version_major": 2,
                            "version_minor": 0
                        },
                        "text/plain": [
                            "  0%|          | 0/380 [00:00<?, ?it/s]"
                        ]
                    },
                    "metadata": {},
                    "output_type": "display_data"
                },
                {
                    "name": "stdout",
                    "output_type": "stream",
                    "text": [
                        "epoch 95 - train_loss:2.7086138298315865e-05 / valid_rmse_loss:0.007946796415593097\n"
                    ]
                },
                {
                    "data": {
                        "application/vnd.jupyter.widget-view+json": {
                            "model_id": "3a878b9403d745a585a6fdc0ff74e58b",
                            "version_major": 2,
                            "version_minor": 0
                        },
                        "text/plain": [
                            "  0%|          | 0/1517 [00:00<?, ?it/s]"
                        ]
                    },
                    "metadata": {},
                    "output_type": "display_data"
                },
                {
                    "data": {
                        "application/vnd.jupyter.widget-view+json": {
                            "model_id": "564bdeb2470e4d74a4464073f11e6f2f",
                            "version_major": 2,
                            "version_minor": 0
                        },
                        "text/plain": [
                            "  0%|          | 0/380 [00:00<?, ?it/s]"
                        ]
                    },
                    "metadata": {},
                    "output_type": "display_data"
                },
                {
                    "name": "stdout",
                    "output_type": "stream",
                    "text": [
                        "epoch 96 - train_loss:2.725206022018629e-05 / valid_rmse_loss:0.01195543534311088\n"
                    ]
                },
                {
                    "data": {
                        "application/vnd.jupyter.widget-view+json": {
                            "model_id": "f08e23552a654d94b8ed126ed6c5b659",
                            "version_major": 2,
                            "version_minor": 0
                        },
                        "text/plain": [
                            "  0%|          | 0/1517 [00:00<?, ?it/s]"
                        ]
                    },
                    "metadata": {},
                    "output_type": "display_data"
                },
                {
                    "data": {
                        "application/vnd.jupyter.widget-view+json": {
                            "model_id": "014cfaf0517c467981979b8c0d30872a",
                            "version_major": 2,
                            "version_minor": 0
                        },
                        "text/plain": [
                            "  0%|          | 0/380 [00:00<?, ?it/s]"
                        ]
                    },
                    "metadata": {},
                    "output_type": "display_data"
                },
                {
                    "name": "stdout",
                    "output_type": "stream",
                    "text": [
                        "epoch 97 - train_loss:2.7261125986033538e-05 / valid_rmse_loss:0.005627219846383042\n"
                    ]
                },
                {
                    "data": {
                        "application/vnd.jupyter.widget-view+json": {
                            "model_id": "ad8311d85c554f2bb5a44f7263c4b4ce",
                            "version_major": 2,
                            "version_minor": 0
                        },
                        "text/plain": [
                            "  0%|          | 0/1517 [00:00<?, ?it/s]"
                        ]
                    },
                    "metadata": {},
                    "output_type": "display_data"
                },
                {
                    "data": {
                        "application/vnd.jupyter.widget-view+json": {
                            "model_id": "8c7ddfff4e484275b47edfc56830d924",
                            "version_major": 2,
                            "version_minor": 0
                        },
                        "text/plain": [
                            "  0%|          | 0/380 [00:00<?, ?it/s]"
                        ]
                    },
                    "metadata": {},
                    "output_type": "display_data"
                },
                {
                    "name": "stdout",
                    "output_type": "stream",
                    "text": [
                        "epoch 98 - train_loss:2.7268033756570764e-05 / valid_rmse_loss:0.005758970375275024\n"
                    ]
                },
                {
                    "data": {
                        "application/vnd.jupyter.widget-view+json": {
                            "model_id": "916220887d8744cd98f6bff9c250390f",
                            "version_major": 2,
                            "version_minor": 0
                        },
                        "text/plain": [
                            "  0%|          | 0/1517 [00:00<?, ?it/s]"
                        ]
                    },
                    "metadata": {},
                    "output_type": "display_data"
                },
                {
                    "data": {
                        "application/vnd.jupyter.widget-view+json": {
                            "model_id": "a9c8dcc3371b41fab6edd35273ebc5c6",
                            "version_major": 2,
                            "version_minor": 0
                        },
                        "text/plain": [
                            "  0%|          | 0/380 [00:00<?, ?it/s]"
                        ]
                    },
                    "metadata": {},
                    "output_type": "display_data"
                },
                {
                    "name": "stdout",
                    "output_type": "stream",
                    "text": [
                        "epoch 99 - train_loss:2.722253875180092e-05 / valid_rmse_loss:0.006953823677254366\n",
                        "best model : epoch 88, train_loss:2.7387776879342636e-05, valid_rmse:0.005159406365365055\n"
                    ]
                }
            ],
            "source": [
                "cls_model = CNN_classifier(bt_model)\n",
                "cls_model.to(config_dic['device'])\n",
                "optimizer = torch.optim.Adam(params=cls_model.parameters(), lr=config_dic['lr'])\n",
                "schedular = torch.optim.lr_scheduler.LambdaLR(optimizer, lr_lambda=lambda epoch: 0.95 ** epoch)\n",
                "criterion = nn.HuberLoss(delta=1.0).to(device=config_dic['device'])\n",
                "\n",
                "add_bt_model = cnn_classifier_train(model=cls_model, \n",
                "                                    criterion=criterion, \n",
                "                                    optimizer=optimizer, \n",
                "                                    schedular=schedular,\n",
                "                                    epochs=100, \n",
                "                                    train_dataloader=add_train_dataloader, \n",
                "                                    valid_dataloader=add_valid_dataloader, \n",
                "                                    device=config_dic['device'])"
            ]
        },
        {
            "cell_type": "code",
            "execution_count": 136,
            "id": "ba79db2c",
            "metadata": {},
            "outputs": [],
            "source": [
                "torch.save(add_bt_model, './bt_classifier_model_221206.pt')"
            ]
        },
        {
            "cell_type": "code",
            "execution_count": 152,
            "id": "3d6e92b3",
            "metadata": {},
            "outputs": [],
            "source": [
                "test_valid_dataset = add_train_dataset(add_valid_data_path, None)\n",
                "test_valid_dataloder = DataLoader(test_valid_dataset, shuffle=True, \n",
                "                                  num_workers=config_dic['num_workers'], \n",
                "                                  batch_size=config_dic['batch_size'])\n",
                "\n",
                "def test_valid(model, valid_dataloader, device):\n",
                "    model.to(device)\n",
                "    for step_i, (sem_img, avg_depth) in enumerate(tqdm(iter(valid_dataloader))):\n",
                "        sem_img = sem_img.to(device)\n",
                "        avg_depth = avg_depth.to(device)\n",
                "        pred_img = model.ae_model(sem_img)\n",
                "        pred_depth = model(sem_img)\n",
                "        \n",
                "        np_pred_depth = pred_depth.detach().cpu().numpy() \n",
                "        np_avg_depth = avg_depth.detach().cpu().numpy() \n",
                "        np_pred_img = pred_img.detach().cpu().numpy()\n",
                "        for _img, _depth in zip(np_pred_img, np_avg_depth):\n",
                "            print((_img[0][0][0:5] * 255).astype(np.uint8), _depth * 255)\n",
                "        print()\n",
                "#         print(np_pred.shape)\n",
                "#         for p,d in zip(np_pred, np_avg_depth):\n",
                "#             print(f'pred - {p} / depth - {d} | pred - {p * 255} / depth - {d * 255}' )\n",
                "        "
            ]
        },
        {
            "cell_type": "code",
            "execution_count": 153,
            "id": "de2720fb",
            "metadata": {},
            "outputs": [
                {
                    "data": {
                        "application/vnd.jupyter.widget-view+json": {
                            "model_id": "6a114b80ef3b4630b98fe54837a99a6f",
                            "version_major": 2,
                            "version_minor": 0
                        },
                        "text/plain": [
                            "  0%|          | 0/95 [00:00<?, ?it/s]"
                        ]
                    },
                    "metadata": {},
                    "output_type": "display_data"
                }
            ],
            "source": [
                "test_valid(add_bt_model, test_valid_dataloder, config_dic['device'])"
            ]
        },
        {
            "cell_type": "code",
            "execution_count": null,
            "id": "f9f19941",
            "metadata": {},
            "outputs": [],
            "source": [
                "class submission_dataset(Dataset):\n",
                "    def __init__(self, data_path, transform):\n",
                "        super(add_train_dataset, self).__init__()\n",
                "        self.data_path = data_path\n",
                "        self.transform = transform\n",
                "        \n",
                "    def __len__(self):\n",
                "        return len(self.data_path)\n",
                "    \n",
                "    def __getitem__(self, idx):\n",
                "        img_path, avg_depth = self.data_path[idx]\n",
                "#         img = cv2.imread(img_path, cv2.IMREAD_GRAYSCALE)\n",
                "        img = PIL.Image.open(img_path).convert(\"L\")\n",
                "#         print(np.array(img).shape)\n",
                "        if self.transform:\n",
                "            img = self.transform(img)\n",
                "            \n",
                "        img = np.array(img)\n",
                "        img = img.reshape(1, *img.shape)\n",
                "        img = torch.Tensor(img)\n",
                "       \n",
                "\n",
                "        avg_depth = np.array(avg_depth)\n",
                "        avg_depth = avg_depth.reshape(1, *avg_depth.shape)\n",
                "            \n",
                "        return (img / 255.0).type(torch.float32), torch.Tensor(avg_depth /255.).type(torch.float32)"
            ]
        },
        {
            "cell_type": "code",
            "execution_count": 128,
            "id": "509b548c",
            "metadata": {},
            "outputs": [
                {
                    "name": "stdout",
                    "output_type": "stream",
                    "text": [
                        "95\n"
                    ]
                }
            ],
            "source": [
                "abs_path = '/home/kji/workspace/jupyter_kji/samsumg_sem_dataset'\n",
                "\n",
                "sample_submission_path = os.path.join(abs_path, 'sample_submission', '*.png')\n",
                "sample_submission_data_path = glob.glob(sample_submission_path)\n",
                "\n",
                "sample_submission_dataset = submission_dataset(sample_submission_data_path, None)\n",
                "sample_submission_dataloder = DataLoader(sample_submission_dataset, shuffle=True, \n",
                "                                  num_workers=config_dic['num_workers'], \n",
                "                                  batch_size=config_dic['batch_size'])\n",
                "\n",
                "print(len(sample_submission_dataloder))"
            ]
        },
        {
            "cell_type": "code",
            "execution_count": null,
            "id": "cacd4466",
            "metadata": {},
            "outputs": [],
            "source": [
                "def submission_inference(model, valid_dataloader, device):\n",
                "    model.to(device)\n",
                "    for step_i, (sem_img, avg_depth) in enumerate(tqdm(valid_dataloader)):\n",
                "        sem_img = sem_img.to(device)\n",
                "        avg_depth = avg_depth.to(device)\n",
                "        pred = model(sem_img)\n",
                "        \n",
                "        np_pred = pred.detach().cpu().numpy() * 255 \n",
                "        np_avg_depth = avg_depth.detach().cpu().numpy() * 255\n",
                "        \n",
                "        for p,d in zip(np_pred, np_avg_depth):\n",
                "            print(f'pred - {p} / depth - {d} | pred - {p * 255} / depth - {d * 255}' )"
            ]
        },
        {
            "cell_type": "code",
            "execution_count": null,
            "id": "a4c85be5",
            "metadata": {},
            "outputs": [],
            "source": [
                "submission_inference(add_bt_model, sample_submission_dataloder, config_dic['device'])"
            ]
        },
        {
            "cell_type": "code",
            "execution_count": 155,
            "id": "8008357e",
            "metadata": {},
            "outputs": [
                {
                    "name": "stdout",
                    "output_type": "stream",
                    "text": [
                        "95\n"
                    ]
                }
            ],
            "source": [
                "print(len(sample_submission_dataloder))"
            ]
        },
        {
            "cell_type": "code",
            "execution_count": 160,
            "id": "bd1386ea",
            "metadata": {},
            "outputs": [
                {
                    "name": "stdout",
                    "output_type": "stream",
                    "text": [
                        "epoch 0 - train_loss:0.000585679386407978 / valid_rmse_loss:0.03390810984935225\n"
                    ]
                },
                {
                    "name": "stdout",
                    "output_type": "stream",
                    "text": [
                        "epoch 1 - train_loss:8.654990485165752e-05 / valid_rmse_loss:0.007749262299763598\n"
                    ]
                },
                {
                    "name": "stdout",
                    "output_type": "stream",
                    "text": [
                        "epoch 2 - train_loss:5.584031601581514e-05 / valid_rmse_loss:0.011317578779725172\n"
                    ]
                },
                {
                    "name": "stdout",
                    "output_type": "stream",
                    "text": [
                        "epoch 3 - train_loss:4.63362850355905e-05 / valid_rmse_loss:0.023030676135163915\n"
                    ]
                },
                {
                    "name": "stdout",
                    "output_type": "stream",
                    "text": [
                        "epoch 4 - train_loss:4.3640123808409755e-05 / valid_rmse_loss:0.01977004153059452\n"
                    ]
                },
                {
                    "name": "stdout",
                    "output_type": "stream",
                    "text": [
                        "epoch 5 - train_loss:4.0827001790404346e-05 / valid_rmse_loss:0.015556527729666631\n"
                    ]
                },
                {
                    "name": "stdout",
                    "output_type": "stream",
                    "text": [
                        "epoch 6 - train_loss:3.9406696664139194e-05 / valid_rmse_loss:0.007989180432309131\n"
                    ]
                },
                {
                    "name": "stdout",
                    "output_type": "stream",
                    "text": [
                        "epoch 7 - train_loss:3.8613402967192524e-05 / valid_rmse_loss:0.04843654448061015\n"
                    ]
                },
                {
                    "name": "stdout",
                    "output_type": "stream",
                    "text": [
                        "epoch 8 - train_loss:3.9408218928048493e-05 / valid_rmse_loss:0.009778828210222105\n"
                    ]
                },
                {
                    "name": "stdout",
                    "output_type": "stream",
                    "text": [
                        "epoch 9 - train_loss:3.877808580355344e-05 / valid_rmse_loss:0.08237493042876508\n"
                    ]
                },
                {
                    "name": "stdout",
                    "output_type": "stream",
                    "text": [
                        "epoch 10 - train_loss:3.7931123743941946e-05 / valid_rmse_loss:0.013859703789165834\n"
                    ]
                },
                {
                    "name": "stdout",
                    "output_type": "stream",
                    "text": [
                        "epoch 11 - train_loss:3.8493891130661964e-05 / valid_rmse_loss:0.0061409362356700135\n"
                    ]
                },
                {
                    "name": "stdout",
                    "output_type": "stream",
                    "text": [
                        "epoch 12 - train_loss:3.844018165428015e-05 / valid_rmse_loss:0.028030356790297112\n"
                    ]
                },
                {
                    "name": "stdout",
                    "output_type": "stream",
                    "text": [
                        "epoch 13 - train_loss:3.723416963722285e-05 / valid_rmse_loss:0.03683392777318989\n"
                    ]
                },
                {
                    "name": "stdout",
                    "output_type": "stream",
                    "text": [
                        "epoch 14 - train_loss:3.672482086364431e-05 / valid_rmse_loss:0.027602675808081054\n"
                    ]
                },
                {
                    "name": "stdout",
                    "output_type": "stream",
                    "text": [
                        "epoch 15 - train_loss:3.617605543503539e-05 / valid_rmse_loss:0.03871384645388672\n"
                    ]
                },
                {
                    "name": "stdout",
                    "output_type": "stream",
                    "text": [
                        "epoch 16 - train_loss:3.600507392998875e-05 / valid_rmse_loss:0.023747510352333936\n"
                    ]
                },
                {
                    "name": "stdout",
                    "output_type": "stream",
                    "text": [
                        "epoch 17 - train_loss:3.6088594390840954e-05 / valid_rmse_loss:0.02159220366399371\n"
                    ]
                },
                {
                    "name": "stdout",
                    "output_type": "stream",
                    "text": [
                        "epoch 18 - train_loss:3.6144388511815064e-05 / valid_rmse_loss:0.026372124138138296\n"
                    ]
                },
                {
                    "name": "stdout",
                    "output_type": "stream",
                    "text": [
                        "epoch 19 - train_loss:3.5968412461156645e-05 / valid_rmse_loss:0.03663788955014954\n"
                    ]
                },
                {
                    "name": "stdout",
                    "output_type": "stream",
                    "text": [
                        "epoch 20 - train_loss:3.607710977737037e-05 / valid_rmse_loss:0.03516807415041804\n"
                    ]
                },
                {
                    "name": "stdout",
                    "output_type": "stream",
                    "text": [
                        "epoch 21 - train_loss:3.580702395489675e-05 / valid_rmse_loss:0.023998918179557797\n"
                    ]
                },
                {
                    "name": "stdout",
                    "output_type": "stream",
                    "text": [
                        "epoch 22 - train_loss:3.515745984121518e-05 / valid_rmse_loss:0.036278456811757516\n"
                    ]
                },
                {
                    "name": "stdout",
                    "output_type": "stream",
                    "text": [
                        "epoch 23 - train_loss:3.565946111346051e-05 / valid_rmse_loss:0.01594233271968242\n"
                    ]
                },
                {
                    "name": "stdout",
                    "output_type": "stream",
                    "text": [
                        "epoch 24 - train_loss:3.5284399116288944e-05 / valid_rmse_loss:0.021775366755812698\n"
                    ]
                },
                {
                    "name": "stdout",
                    "output_type": "stream",
                    "text": [
                        "epoch 25 - train_loss:3.5359974206245986e-05 / valid_rmse_loss:0.028869879403681124\n"
                    ]
                },
                {
                    "name": "stdout",
                    "output_type": "stream",
                    "text": [
                        "epoch 26 - train_loss:3.5306067211836164e-05 / valid_rmse_loss:0.037660588379632876\n"
                    ]
                },
                {
                    "name": "stdout",
                    "output_type": "stream",
                    "text": [
                        "epoch 27 - train_loss:3.527881764143117e-05 / valid_rmse_loss:0.02461265268170809\n"
                    ]
                },
                {
                    "name": "stdout",
                    "output_type": "stream",
                    "text": [
                        "epoch 28 - train_loss:3.570386186180826e-05 / valid_rmse_loss:0.01163661003659673\n"
                    ]
                },
                {
                    "name": "stdout",
                    "output_type": "stream",
                    "text": [
                        "epoch 29 - train_loss:3.513626667097117e-05 / valid_rmse_loss:0.010901545445761569\n"
                    ]
                },
                {
                    "name": "stdout",
                    "output_type": "stream",
                    "text": [
                        "epoch 30 - train_loss:3.557090776073343e-05 / valid_rmse_loss:0.059775053517329285\n"
                    ]
                },
                {
                    "name": "stdout",
                    "output_type": "stream",
                    "text": [
                        "epoch 31 - train_loss:3.5098447098229657e-05 / valid_rmse_loss:0.014121763373375718\n"
                    ]
                },
                {
                    "name": "stdout",
                    "output_type": "stream",
                    "text": [
                        "epoch 32 - train_loss:3.553696600600763e-05 / valid_rmse_loss:0.010866629555658914\n"
                    ]
                },
                {
                    "name": "stdout",
                    "output_type": "stream",
                    "text": [
                        "epoch 33 - train_loss:3.514195909818721e-05 / valid_rmse_loss:0.005969623558509175\n"
                    ]
                },
                {
                    "name": "stdout",
                    "output_type": "stream",
                    "text": [
                        "epoch 34 - train_loss:3.4758701334298337e-05 / valid_rmse_loss:0.012977159337807949\n"
                    ]
                },
                {
                    "name": "stdout",
                    "output_type": "stream",
                    "text": [
                        "epoch 35 - train_loss:3.450692409341992e-05 / valid_rmse_loss:0.0073056295765971165\n"
                    ]
                },
                {
                    "name": "stdout",
                    "output_type": "stream",
                    "text": [
                        "epoch 36 - train_loss:3.438108937418122e-05 / valid_rmse_loss:0.021379480096125125\n"
                    ]
                },
                {
                    "name": "stdout",
                    "output_type": "stream",
                    "text": [
                        "epoch 37 - train_loss:3.450510666400663e-05 / valid_rmse_loss:0.014225564303846007\n"
                    ]
                },
                {
                    "name": "stdout",
                    "output_type": "stream",
                    "text": [
                        "epoch 38 - train_loss:3.464637164972671e-05 / valid_rmse_loss:0.0103400474891797\n"
                    ]
                },
                {
                    "name": "stdout",
                    "output_type": "stream",
                    "text": [
                        "epoch 39 - train_loss:3.3944951271727757e-05 / valid_rmse_loss:0.006341893573747072\n"
                    ]
                },
                {
                    "name": "stdout",
                    "output_type": "stream",
                    "text": [
                        "epoch 40 - train_loss:3.3674700842104284e-05 / valid_rmse_loss:0.01894651826002634\n"
                    ]
                },
                {
                    "name": "stdout",
                    "output_type": "stream",
                    "text": [
                        "epoch 41 - train_loss:3.4166761117829404e-05 / valid_rmse_loss:0.07249522288842238\n"
                    ]
                },
                {
                    "name": "stdout",
                    "output_type": "stream",
                    "text": [
                        "epoch 42 - train_loss:3.4318256867359915e-05 / valid_rmse_loss:0.02356997078065817\n"
                    ]
                },
                {
                    "name": "stdout",
                    "output_type": "stream",
                    "text": [
                        "epoch 43 - train_loss:3.430450572714366e-05 / valid_rmse_loss:0.026398717105337633\n"
                    ]
                },
                {
                    "name": "stdout",
                    "output_type": "stream",
                    "text": [
                        "epoch 44 - train_loss:3.411585259495408e-05 / valid_rmse_loss:0.034146353988270595\n"
                    ]
                },
                {
                    "name": "stdout",
                    "output_type": "stream",
                    "text": [
                        "epoch 45 - train_loss:3.300145111222966e-05 / valid_rmse_loss:0.037861135970135636\n"
                    ]
                },
                {
                    "name": "stdout",
                    "output_type": "stream",
                    "text": [
                        "epoch 46 - train_loss:3.358119350710921e-05 / valid_rmse_loss:0.006003405323072477\n"
                    ]
                },
                {
                    "name": "stdout",
                    "output_type": "stream",
                    "text": [
                        "epoch 47 - train_loss:3.333877117585179e-05 / valid_rmse_loss:0.024489713710777995\n"
                    ]
                },
                {
                    "name": "stdout",
                    "output_type": "stream",
                    "text": [
                        "epoch 48 - train_loss:3.315626481714018e-05 / valid_rmse_loss:0.023381844280896184\n"
                    ]
                },
                {
                    "name": "stdout",
                    "output_type": "stream",
                    "text": [
                        "epoch 49 - train_loss:3.298090080305743e-05 / valid_rmse_loss:0.022259236759089064\n"
                    ]
                },
                {
                    "name": "stdout",
                    "output_type": "stream",
                    "text": [
                        "epoch 50 - train_loss:3.256519247205123e-05 / valid_rmse_loss:0.005627267617817134\n"
                    ]
                },
                {
                    "name": "stdout",
                    "output_type": "stream",
                    "text": [
                        "epoch 51 - train_loss:3.30266775815164e-05 / valid_rmse_loss:0.022067668820339933\n"
                    ]
                },
                {
                    "name": "stdout",
                    "output_type": "stream",
                    "text": [
                        "epoch 52 - train_loss:3.265580549154051e-05 / valid_rmse_loss:0.0913490347730459\n"
                    ]
                },
                {
                    "name": "stdout",
                    "output_type": "stream",
                    "text": [
                        "epoch 53 - train_loss:3.232442672633888e-05 / valid_rmse_loss:0.009081352244975041\n"
                    ]
                },
                {
                    "name": "stdout",
                    "output_type": "stream",
                    "text": [
                        "epoch 54 - train_loss:3.199883408968944e-05 / valid_rmse_loss:0.007141016644504565\n"
                    ]
                },
                {
                    "name": "stdout",
                    "output_type": "stream",
                    "text": [
                        "epoch 55 - train_loss:3.1597075912167966e-05 / valid_rmse_loss:0.030966668185882344\n"
                    ]
                },
                {
                    "name": "stdout",
                    "output_type": "stream",
                    "text": [
                        "epoch 56 - train_loss:3.1160450206642684e-05 / valid_rmse_loss:0.010045093630938208\n"
                    ]
                },
                {
                    "name": "stdout",
                    "output_type": "stream",
                    "text": [
                        "epoch 57 - train_loss:3.032674218873919e-05 / valid_rmse_loss:0.005527354142687602\n"
                    ]
                },
                {
                    "name": "stdout",
                    "output_type": "stream",
                    "text": [
                        "epoch 58 - train_loss:2.990153591643071e-05 / valid_rmse_loss:0.02833417462843223\n"
                    ]
                },
                {
                    "name": "stdout",
                    "output_type": "stream",
                    "text": [
                        "epoch 59 - train_loss:2.975946054215367e-05 / valid_rmse_loss:0.00557767237393766\n"
                    ]
                },
                {
                    "name": "stdout",
                    "output_type": "stream",
                    "text": [
                        "epoch 60 - train_loss:2.9601508378466464e-05 / valid_rmse_loss:0.015794457169101397\n"
                    ]
                },
                {
                    "name": "stdout",
                    "output_type": "stream",
                    "text": [
                        "epoch 61 - train_loss:2.9444588100368905e-05 / valid_rmse_loss:0.01680414679453339\n"
                    ]
                },
                {
                    "name": "stdout",
                    "output_type": "stream",
                    "text": [
                        "epoch 62 - train_loss:2.9130817722151917e-05 / valid_rmse_loss:0.05325172058903386\n"
                    ]
                },
                {
                    "name": "stdout",
                    "output_type": "stream",
                    "text": [
                        "epoch 63 - train_loss:2.9161665257793874e-05 / valid_rmse_loss:0.01743100711396429\n"
                    ]
                },
                {
                    "name": "stdout",
                    "output_type": "stream",
                    "text": [
                        "epoch 64 - train_loss:2.895890466011245e-05 / valid_rmse_loss:0.006786385098485706\n"
                    ]
                },
                {
                    "name": "stdout",
                    "output_type": "stream",
                    "text": [
                        "epoch 65 - train_loss:2.8945480268308157e-05 / valid_rmse_loss:0.008582706623911193\n"
                    ]
                },
                {
                    "name": "stdout",
                    "output_type": "stream",
                    "text": [
                        "epoch 66 - train_loss:2.8846619115111308e-05 / valid_rmse_loss:0.040625197567432034\n"
                    ]
                },
                {
                    "name": "stdout",
                    "output_type": "stream",
                    "text": [
                        "epoch 67 - train_loss:2.9057071153006972e-05 / valid_rmse_loss:0.009350447208160107\n"
                    ]
                },
                {
                    "name": "stdout",
                    "output_type": "stream",
                    "text": [
                        "epoch 68 - train_loss:2.8831055829184333e-05 / valid_rmse_loss:0.033088470984848434\n"
                    ]
                },
                {
                    "name": "stdout",
                    "output_type": "stream",
                    "text": [
                        "epoch 69 - train_loss:2.895857019568413e-05 / valid_rmse_loss:0.00824398271110318\n"
                    ]
                },
                {
                    "name": "stdout",
                    "output_type": "stream",
                    "text": [
                        "epoch 70 - train_loss:2.867653851103074e-05 / valid_rmse_loss:0.013023039178185166\n"
                    ]
                },
                {
                    "name": "stdout",
                    "output_type": "stream",
                    "text": [
                        "epoch 71 - train_loss:2.883863417250336e-05 / valid_rmse_loss:0.02636112599767713\n"
                    ]
                },
                {
                    "name": "stdout",
                    "output_type": "stream",
                    "text": [
                        "epoch 72 - train_loss:2.8500044692292976e-05 / valid_rmse_loss:0.008799821929676266\n"
                    ]
                },
                {
                    "name": "stdout",
                    "output_type": "stream",
                    "text": [
                        "epoch 73 - train_loss:2.8711550264390145e-05 / valid_rmse_loss:0.01174617923240429\n"
                    ]
                },
                {
                    "name": "stdout",
                    "output_type": "stream",
                    "text": [
                        "epoch 74 - train_loss:2.8366794643920418e-05 / valid_rmse_loss:0.006529143889752063\n"
                    ]
                },
                {
                    "name": "stdout",
                    "output_type": "stream",
                    "text": [
                        "epoch 75 - train_loss:2.859160295076493e-05 / valid_rmse_loss:0.013197612678285932\n"
                    ]
                },
                {
                    "name": "stdout",
                    "output_type": "stream",
                    "text": [
                        "epoch 76 - train_loss:2.8416428673944046e-05 / valid_rmse_loss:0.005866679718096952\n"
                    ]
                },
                {
                    "name": "stdout",
                    "output_type": "stream",
                    "text": [
                        "epoch 77 - train_loss:2.85318027910082e-05 / valid_rmse_loss:0.00667849174076789\n"
                    ]
                },
                {
                    "name": "stdout",
                    "output_type": "stream",
                    "text": [
                        "epoch 78 - train_loss:2.8484271472566222e-05 / valid_rmse_loss:0.010939758089657388\n"
                    ]
                },
                {
                    "name": "stdout",
                    "output_type": "stream",
                    "text": [
                        "epoch 79 - train_loss:2.8703169842669764e-05 / valid_rmse_loss:0.029385520717320823\n"
                    ]
                },
                {
                    "name": "stdout",
                    "output_type": "stream",
                    "text": [
                        "epoch 80 - train_loss:2.858507933052545e-05 / valid_rmse_loss:0.006424702831620338\n"
                    ]
                },
                {
                    "name": "stdout",
                    "output_type": "stream",
                    "text": [
                        "epoch 81 - train_loss:2.8362584625920337e-05 / valid_rmse_loss:0.008353201704951421\n"
                    ]
                },
                {
                    "name": "stdout",
                    "output_type": "stream",
                    "text": [
                        "epoch 82 - train_loss:2.8339949060630036e-05 / valid_rmse_loss:0.005420682657788468\n"
                    ]
                },
                {
                    "name": "stdout",
                    "output_type": "stream",
                    "text": [
                        "epoch 83 - train_loss:2.837807024147941e-05 / valid_rmse_loss:0.008744947450687575\n"
                    ]
                },
                {
                    "name": "stdout",
                    "output_type": "stream",
                    "text": [
                        "epoch 84 - train_loss:2.8431249433887745e-05 / valid_rmse_loss:0.013115389711335556\n"
                    ]
                },
                {
                    "name": "stdout",
                    "output_type": "stream",
                    "text": [
                        "epoch 85 - train_loss:2.8156102777008224e-05 / valid_rmse_loss:0.005327652448278238\n"
                    ]
                },
                {
                    "name": "stdout",
                    "output_type": "stream",
                    "text": [
                        "epoch 86 - train_loss:2.8425690295308554e-05 / valid_rmse_loss:0.011961173433027246\n"
                    ]
                },
                {
                    "name": "stdout",
                    "output_type": "stream",
                    "text": [
                        "epoch 87 - train_loss:2.830697732846765e-05 / valid_rmse_loss:0.008998157543867779\n"
                    ]
                },
                {
                    "name": "stdout",
                    "output_type": "stream",
                    "text": [
                        "epoch 88 - train_loss:2.8238417653771115e-05 / valid_rmse_loss:0.012672562117614415\n"
                    ]
                },
                {
                    "name": "stdout",
                    "output_type": "stream",
                    "text": [
                        "epoch 89 - train_loss:2.823071064782784e-05 / valid_rmse_loss:0.009557127138868509\n"
                    ]
                },
                {
                    "name": "stdout",
                    "output_type": "stream",
                    "text": [
                        "epoch 90 - train_loss:2.840244930331673e-05 / valid_rmse_loss:0.014051704878634335\n"
                    ]
                },
                {
                    "name": "stdout",
                    "output_type": "stream",
                    "text": [
                        "epoch 91 - train_loss:2.8280941745235506e-05 / valid_rmse_loss:0.0068026025748766\n"
                    ]
                },
                {
                    "name": "stdout",
                    "output_type": "stream",
                    "text": [
                        "epoch 92 - train_loss:2.799846759110994e-05 / valid_rmse_loss:0.015330547840261536\n"
                    ]
                },
                {
                    "name": "stdout",
                    "output_type": "stream",
                    "text": [
                        "epoch 93 - train_loss:2.8106091286299166e-05 / valid_rmse_loss:0.006927424817519348\n"
                    ]
                },
                {
                    "name": "stdout",
                    "output_type": "stream",
                    "text": [
                        "epoch 94 - train_loss:2.8122770043796227e-05 / valid_rmse_loss:0.012188158187637285\n"
                    ]
                },
                {
                    "name": "stdout",
                    "output_type": "stream",
                    "text": [
                        "epoch 95 - train_loss:2.7974187674986744e-05 / valid_rmse_loss:0.012245688315501045\n"
                    ]
                },
                {
                    "name": "stdout",
                    "output_type": "stream",
                    "text": [
                        "epoch 96 - train_loss:2.801619138739656e-05 / valid_rmse_loss:0.005712655616269032\n"
                    ]
                },
                {
                    "name": "stdout",
                    "output_type": "stream",
                    "text": [
                        "epoch 97 - train_loss:2.7944992317108026e-05 / valid_rmse_loss:0.023371926098685013\n"
                    ]
                },
                {
                    "name": "stdout",
                    "output_type": "stream",
                    "text": [
                        "epoch 98 - train_loss:2.8116026715536714e-05 / valid_rmse_loss:0.0076640630900238075\n"
                    ]
                },
                {
                    "name": "stdout",
                    "output_type": "stream",
                    "text": [
                        "epoch 99 - train_loss:2.7918783753619235e-05 / valid_rmse_loss:0.021185583131616257\n",
                        "best model : epoch 85, train_loss:2.8156102777008224e-05, valid_rmse:0.005327652448278238\n"
                    ]
                }
            ],
            "source": [
                "cls_model = CNN_classifier(bt_model)\n",
                "cls_model.to(config_dic['device'])\n",
                "optimizer = torch.optim.Adam(params=cls_model.parameters(), lr=config_dic['lr'])\n",
                "schedular = torch.optim.lr_scheduler.LambdaLR(optimizer, lr_lambda=lambda epoch: 0.95 ** epoch)\n",
                "criterion = nn.HuberLoss(delta=1.0).to(device=config_dic['device'])\n",
                "\n",
                "add_bt_model_not_freeze = cnn_classifier_train(model=cls_model, \n",
                "                                    criterion=criterion, \n",
                "                                    optimizer=optimizer, \n",
                "                                    schedular=schedular,\n",
                "                                    epochs=100, \n",
                "                                    train_dataloader=add_train_dataloader, \n",
                "                                    valid_dataloader=add_valid_dataloader, \n",
                "                                    device=config_dic['device'])"
            ]
        },
        {
            "cell_type": "code",
            "execution_count": 162,
            "id": "ff58d76a",
            "metadata": {},
            "outputs": [],
            "source": [
                "torch.save(add_bt_model_not_freeze, './add_bt_model_221207.pt')"
            ]
        },
        {
            "cell_type": "code",
            "execution_count": 224,
            "id": "95ebbe56",
            "metadata": {},
            "outputs": [],
            "source": [
                "len(dataset_list[0][1])  \n",
                "_sem_valid_dataset = dataset_list[0][1]\n",
                "_depth_valid_dataset = dataset_list[0][3]\n",
                "\n",
                "_test_dataset = sim_dataset(_sem_valid_dataset, _depth_valid_dataset, None)\n",
                "_test_dataloader = DataLoader(_test_dataset, batch_size=config_dic['batch_size'], num_workers=config_dic['num_workers'])"
            ]
        },
        {
            "cell_type": "code",
            "execution_count": 237,
            "id": "7161fa1e",
            "metadata": {},
            "outputs": [],
            "source": [
                "def test_valid2(model, valid_dataloader, device):\n",
                "    model.to(device)\n",
                "    for step_i, (sem_img, depth_img) in enumerate(tqdm(iter(valid_dataloader))):\n",
                "        sem_img = sem_img.to(device)\n",
                "        depth_img = depth_img.to(device)\n",
                "        \n",
                "        pred_img = model.ae_model(sem_img)\n",
                "        pred_depth = model(sem_img)\n",
                "        \n",
                "        np_pred_depth = pred_depth.detach().cpu().numpy() \n",
                "        \n",
                "        np_pred_img = pred_img.detach().cpu().numpy()\n",
                "        np_depth_img = depth_img.detach().cpu().numpy()\n",
                "        \n",
                "        for _img, _depth in zip(np_pred_img, np_depth_img):\n",
                "            print((_img[0][0][0:5] * 255).astype(np.uint8), (_depth[0][0][0:5] * 255).astype(np.uint8))\n",
                "            train_imshow((_img[0] * 255).astype(np.uint8))\n",
                "            train_imshow((_depth[0]* 255).astype(np.uint8))\n",
                "            mask((_img[0] * 255).astype(np.uint8), (_depth[0]* 255).astype(np.uint8))\n",
                "        if step_i == 0:\n",
                "            break\n",
                "        "
            ]
        },
        {
            "cell_type": "code",
            "execution_count": 238,
            "id": "3abb3bf6",
            "metadata": {
                "scrolled": true
            },
            "outputs": [
                {
                    "name": "stdout",
                    "output_type": "stream",
                    "text": [
                        "[129 129 129 129 128] [140 140 140 140 140]\n"
                    ]
                },
                {
                    "data": {
                        "image/png": "[encoded data removed]",
                        "text/plain": [
                            "<IPython.core.display.Image object>"
                        ]
                    },
                    "metadata": {},
                    "output_type": "display_data"
                },
                {
                    "data": {
                        "image/png": "[encoded data removed]",
                        "text/plain": [
                            "<IPython.core.display.Image object>"
                        ]
                    },
                    "metadata": {},
                    "output_type": "display_data"
                },
                {
                    "data": {
                        "image/png": "[encoded data removed]",
                        "text/plain": [
                            "<IPython.core.display.Image object>"
                        ]
                    },
                    "metadata": {},
                    "output_type": "display_data"
                },
                {
                    "name": "stdout",
                    "output_type": "stream",
                    "text": [
                        "[136 136 136 136 135] [140 140 140 140 140]\n"
                    ]
                },
                {
                    "data": {
                        "image/png": "[encoded data removed]",
                        "text/plain": [
                            "<IPython.core.display.Image object>"
                        ]
                    },
                    "metadata": {},
                    "output_type": "display_data"
                },
                {
                    "data": {
                        "image/png": "[encoded data removed]",
                        "text/plain": [
                            "<IPython.core.display.Image object>"
                        ]
                    },
                    "metadata": {},
                    "output_type": "display_data"
                },
                {
                    "data": {
                        "image/png": "[encoded data removed]",
                        "text/plain": [
                            "<IPython.core.display.Image object>"
                        ]
                    },
                    "metadata": {},
                    "output_type": "display_data"
                },
                {
                    "name": "stdout",
                    "output_type": "stream",
                    "text": [
                        "[131 131 132 131 131] [140 140 140 140 140]\n"
                    ]
                },
                {
                    "data": {
                        "image/png": "[encoded data removed]",
                        "text/plain": [
                            "<IPython.core.display.Image object>"
                        ]
                    },
                    "metadata": {},
                    "output_type": "display_data"
                },
                {
                    "data": {
                        "image/png": "[encoded data removed]",
                        "text/plain": [
                            "<IPython.core.display.Image object>"
                        ]
                    },
                    "metadata": {},
                    "output_type": "display_data"
                },
                {
                    "data": {
                        "image/png": "[encoded data removed]",
                        "text/plain": [
                            "<IPython.core.display.Image object>"
                        ]
                    },
                    "metadata": {},
                    "output_type": "display_data"
                },
                {
                    "name": "stdout",
                    "output_type": "stream",
                    "text": [
                        "[130 130 130 130 129] [140 140 140 140 140]\n"
                    ]
                },
                {
                    "data": {
                        "image/png": "[encoded data removed]",
                        "text/plain": [
                            "<IPython.core.display.Image object>"
                        ]
                    },
                    "metadata": {},
                    "output_type": "display_data"
                },
                {
                    "data": {
                        "image/png": "[encoded data removed]",
                        "text/plain": [
                            "<IPython.core.display.Image object>"
                        ]
                    },
                    "metadata": {},
                    "output_type": "display_data"
                },
                {
                    "data": {
                        "image/png": "[encoded data removed]",
                        "text/plain": [
                            "<IPython.core.display.Image object>"
                        ]
                    },
                    "metadata": {},
                    "output_type": "display_data"
                },
                {
                    "name": "stdout",
                    "output_type": "stream",
                    "text": [
                        "[132 131 131 130 130] [140 140 140 140 140]\n"
                    ]
                },
                {
                    "data": {
                        "image/png": "[encoded data removed]",
                        "text/plain": [
                            "<IPython.core.display.Image object>"
                        ]
                    },
                    "metadata": {},
                    "output_type": "display_data"
                },
                {
                    "data": {
                        "image/png": "[encoded data removed]",
                        "text/plain": [
                            "<IPython.core.display.Image object>"
                        ]
                    },
                    "metadata": {},
                    "output_type": "display_data"
                },
                {
                    "data": {
                        "image/png": "[encoded data removed]",
                        "text/plain": [
                            "<IPython.core.display.Image object>"
                        ]
                    },
                    "metadata": {},
                    "output_type": "display_data"
                }
            ],
            "source": [
                "test_valid2(add_bt_model_not_freeze, _test_dataloader, config_dic['device'])"
            ]
        },
        {
            "cell_type": "code",
            "execution_count": 236,
            "id": "809d7b58",
            "metadata": {},
            "outputs": [],
            "source": [
                "def train_imshow(img):\n",
                "    from IPython.display import display, Image\n",
                "#     print(img.shape, np.max(img[0]), img[0][:10], np.mean(img), np.min(img[0]))\n",
                "    _, ret = cv2.imencode('.jpg', img)\n",
                "    img = Image(data=ret)\n",
                "    display(img)\n",
                "    \n",
                "    \n",
                "def mask(img1, img2):\n",
                "    zeros_img = np.zeros((3, *img1.shape))\n",
                "#     print(zeros_img.shape)\n",
                "    mask_img = np.absolute(img1.astype(np.int32) - img2.astype(np.int32))\n",
                "    \n",
                "    mask_img[mask_img < 10] = 0\n",
                "    mask_img[mask_img >= 10] = 255\n",
                "    zeros_img[2] = mask_img\n",
                "    zeros_img = np.transpose(zeros_img, (1,2,0)).astype(np.uint8)\n",
                "    train_imshow(zeros_img)"
            ]
        },
        {
            "cell_type": "code",
            "execution_count": null,
            "id": "c71d9109",
            "metadata": {},
            "outputs": [],
            "source": []
        }
    ],
    "metadata": {
        "kernelspec": {
            "display_name": "Python 3 (ipykernel)",
            "language": "python",
            "name": "python3"
        },
        "language_info": {
            "codemirror_mode": {
                "name": "ipython",
                "version": 3
            },
            "file_extension": ".py",
            "mimetype": "text/x-python",
            "name": "python",
            "nbconvert_exporter": "python",
            "pygments_lexer": "ipython3",
            "version": "3.9.5"
        }
    },
    "nbformat": 4,
    "nbformat_minor": 5
}